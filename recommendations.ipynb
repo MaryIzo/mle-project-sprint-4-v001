{
 "cells": [
  {
   "cell_type": "markdown",
   "id": "f4095ae4-7294-4b28-853e-88d235002c97",
   "metadata": {},
   "source": [
    "# Инициализация"
   ]
  },
  {
   "cell_type": "markdown",
   "id": "2f2318d2-9df8-4911-915e-15b725c44f8a",
   "metadata": {},
   "source": [
    "Загружаем библиотеки необходимые для выполнения кода ноутбука."
   ]
  },
  {
   "cell_type": "code",
   "execution_count": 2,
   "id": "662d04e7-1b0b-4e4a-9ddf-4526d7fef119",
   "metadata": {},
   "outputs": [],
   "source": [
    "import logging\n",
    "\n",
    "import matplotlib.pyplot as plt\n",
    "import numpy as np\n",
    "import pandas as pd\n",
    "\n",
    "import datetime\n",
    "import uuid"
   ]
  },
  {
   "cell_type": "code",
   "execution_count": 2,
   "id": "3f0b7453",
   "metadata": {},
   "outputs": [],
   "source": [
    "%matplotlib inline\n",
    "%config InlineBackend.figure_format = 'png'\n",
    "%config InlineBackend.figure_format = 'retina'"
   ]
  },
  {
   "cell_type": "markdown",
   "id": "bf80fbc5-b660-4fac-8fbb-a5cae77313b3",
   "metadata": {},
   "source": [
    "# === ЭТАП 1 ==="
   ]
  },
  {
   "cell_type": "markdown",
   "id": "5263a8b3-fe99-4204-8a2e-105182792c11",
   "metadata": {},
   "source": [
    "# Загрузка первичных данных"
   ]
  },
  {
   "cell_type": "markdown",
   "id": "1b54a6a5-1656-4e3c-99d1-49dc39451d33",
   "metadata": {},
   "source": [
    "Загружаем первичные данные из файлов:\n",
    "- tracks.parquet\n",
    "- catalog_names.parquet\n",
    "- interactions.parquet"
   ]
  },
  {
   "cell_type": "code",
   "execution_count": 5,
   "id": "5d4b8961-3f35-4e58-9d6b-3e2dbd2c4224",
   "metadata": {},
   "outputs": [],
   "source": [
    "tracks = pd.read_parquet(\"data/tracks.parquet\")\n",
    "catalog_names = pd.read_parquet(\"data/catalog_names.parquet\")\n",
    "interactions = pd.read_parquet(\"data/interactions.parquet\")"
   ]
  },
  {
   "cell_type": "code",
   "execution_count": 4,
   "id": "17d09d7c",
   "metadata": {},
   "outputs": [
    {
     "data": {
      "text/html": [
       "<div>\n",
       "<style scoped>\n",
       "    .dataframe tbody tr th:only-of-type {\n",
       "        vertical-align: middle;\n",
       "    }\n",
       "\n",
       "    .dataframe tbody tr th {\n",
       "        vertical-align: top;\n",
       "    }\n",
       "\n",
       "    .dataframe thead th {\n",
       "        text-align: right;\n",
       "    }\n",
       "</style>\n",
       "<table border=\"1\" class=\"dataframe\">\n",
       "  <thead>\n",
       "    <tr style=\"text-align: right;\">\n",
       "      <th></th>\n",
       "      <th>track_id</th>\n",
       "      <th>albums</th>\n",
       "      <th>artists</th>\n",
       "      <th>genres</th>\n",
       "    </tr>\n",
       "  </thead>\n",
       "  <tbody>\n",
       "    <tr>\n",
       "      <th>0</th>\n",
       "      <td>26</td>\n",
       "      <td>[3, 2490753]</td>\n",
       "      <td>[16]</td>\n",
       "      <td>[11, 21]</td>\n",
       "    </tr>\n",
       "    <tr>\n",
       "      <th>1</th>\n",
       "      <td>38</td>\n",
       "      <td>[3, 2490753]</td>\n",
       "      <td>[16]</td>\n",
       "      <td>[11, 21]</td>\n",
       "    </tr>\n",
       "    <tr>\n",
       "      <th>2</th>\n",
       "      <td>135</td>\n",
       "      <td>[12, 214, 2490809]</td>\n",
       "      <td>[84]</td>\n",
       "      <td>[11]</td>\n",
       "    </tr>\n",
       "    <tr>\n",
       "      <th>3</th>\n",
       "      <td>136</td>\n",
       "      <td>[12, 214, 2490809]</td>\n",
       "      <td>[84]</td>\n",
       "      <td>[11]</td>\n",
       "    </tr>\n",
       "    <tr>\n",
       "      <th>4</th>\n",
       "      <td>138</td>\n",
       "      <td>[12, 214, 322, 72275, 72292, 91199, 213505, 24...</td>\n",
       "      <td>[84]</td>\n",
       "      <td>[11]</td>\n",
       "    </tr>\n",
       "  </tbody>\n",
       "</table>\n",
       "</div>"
      ],
      "text/plain": [
       "   track_id                                             albums artists  \\\n",
       "0        26                                       [3, 2490753]    [16]   \n",
       "1        38                                       [3, 2490753]    [16]   \n",
       "2       135                                 [12, 214, 2490809]    [84]   \n",
       "3       136                                 [12, 214, 2490809]    [84]   \n",
       "4       138  [12, 214, 322, 72275, 72292, 91199, 213505, 24...    [84]   \n",
       "\n",
       "     genres  \n",
       "0  [11, 21]  \n",
       "1  [11, 21]  \n",
       "2      [11]  \n",
       "3      [11]  \n",
       "4      [11]  "
      ]
     },
     "execution_count": 4,
     "metadata": {},
     "output_type": "execute_result"
    }
   ],
   "source": [
    "tracks.head(5)"
   ]
  },
  {
   "cell_type": "code",
   "execution_count": 5,
   "id": "11068d77",
   "metadata": {},
   "outputs": [
    {
     "data": {
      "text/plain": [
       "(1000000, 4)"
      ]
     },
     "execution_count": 5,
     "metadata": {},
     "output_type": "execute_result"
    }
   ],
   "source": [
    "tracks.shape"
   ]
  },
  {
   "cell_type": "code",
   "execution_count": 6,
   "id": "226e9eb2",
   "metadata": {},
   "outputs": [
    {
     "data": {
      "text/plain": [
       "track_id     int64\n",
       "albums      object\n",
       "artists     object\n",
       "genres      object\n",
       "dtype: object"
      ]
     },
     "execution_count": 6,
     "metadata": {},
     "output_type": "execute_result"
    }
   ],
   "source": [
    "tracks.dtypes"
   ]
  },
  {
   "cell_type": "code",
   "execution_count": 7,
   "id": "36901151",
   "metadata": {},
   "outputs": [
    {
     "data": {
      "text/html": [
       "<div>\n",
       "<style scoped>\n",
       "    .dataframe tbody tr th:only-of-type {\n",
       "        vertical-align: middle;\n",
       "    }\n",
       "\n",
       "    .dataframe tbody tr th {\n",
       "        vertical-align: top;\n",
       "    }\n",
       "\n",
       "    .dataframe thead th {\n",
       "        text-align: right;\n",
       "    }\n",
       "</style>\n",
       "<table border=\"1\" class=\"dataframe\">\n",
       "  <thead>\n",
       "    <tr style=\"text-align: right;\">\n",
       "      <th></th>\n",
       "      <th>id</th>\n",
       "      <th>type</th>\n",
       "      <th>name</th>\n",
       "    </tr>\n",
       "  </thead>\n",
       "  <tbody>\n",
       "    <tr>\n",
       "      <th>0</th>\n",
       "      <td>3</td>\n",
       "      <td>album</td>\n",
       "      <td>Taller Children</td>\n",
       "    </tr>\n",
       "    <tr>\n",
       "      <th>1</th>\n",
       "      <td>12</td>\n",
       "      <td>album</td>\n",
       "      <td>Wild Young Hearts</td>\n",
       "    </tr>\n",
       "    <tr>\n",
       "      <th>2</th>\n",
       "      <td>13</td>\n",
       "      <td>album</td>\n",
       "      <td>Lonesome Crow</td>\n",
       "    </tr>\n",
       "    <tr>\n",
       "      <th>3</th>\n",
       "      <td>17</td>\n",
       "      <td>album</td>\n",
       "      <td>Graffiti Soul</td>\n",
       "    </tr>\n",
       "    <tr>\n",
       "      <th>4</th>\n",
       "      <td>26</td>\n",
       "      <td>album</td>\n",
       "      <td>Blues Six Pack</td>\n",
       "    </tr>\n",
       "  </tbody>\n",
       "</table>\n",
       "</div>"
      ],
      "text/plain": [
       "   id   type               name\n",
       "0   3  album    Taller Children\n",
       "1  12  album  Wild Young Hearts\n",
       "2  13  album      Lonesome Crow\n",
       "3  17  album      Graffiti Soul\n",
       "4  26  album     Blues Six Pack"
      ]
     },
     "execution_count": 7,
     "metadata": {},
     "output_type": "execute_result"
    }
   ],
   "source": [
    "catalog_names.head(5)"
   ]
  },
  {
   "cell_type": "code",
   "execution_count": null,
   "id": "ca3416a4",
   "metadata": {},
   "outputs": [
    {
     "data": {
      "text/html": [
       "<div>\n",
       "<style scoped>\n",
       "    .dataframe tbody tr th:only-of-type {\n",
       "        vertical-align: middle;\n",
       "    }\n",
       "\n",
       "    .dataframe tbody tr th {\n",
       "        vertical-align: top;\n",
       "    }\n",
       "\n",
       "    .dataframe thead th {\n",
       "        text-align: right;\n",
       "    }\n",
       "</style>\n",
       "<table border=\"1\" class=\"dataframe\">\n",
       "  <thead>\n",
       "    <tr style=\"text-align: right;\">\n",
       "      <th></th>\n",
       "      <th>id</th>\n",
       "      <th>type</th>\n",
       "      <th>name</th>\n",
       "    </tr>\n",
       "  </thead>\n",
       "  <tbody>\n",
       "    <tr>\n",
       "      <th>0</th>\n",
       "      <td>3</td>\n",
       "      <td>album</td>\n",
       "      <td>Taller Children</td>\n",
       "    </tr>\n",
       "    <tr>\n",
       "      <th>812308</th>\n",
       "      <td>3</td>\n",
       "      <td>genre</td>\n",
       "      <td>rusrap</td>\n",
       "    </tr>\n",
       "  </tbody>\n",
       "</table>\n",
       "</div>"
      ],
      "text/plain": [
       "        id   type             name\n",
       "0        3  album  Taller Children\n",
       "812308   3  genre           rusrap"
      ]
     },
     "execution_count": 8,
     "metadata": {},
     "output_type": "execute_result"
    }
   ],
   "source": [
    "catalog_names.query(\"id == 3\")"
   ]
  },
  {
   "cell_type": "markdown",
   "id": "1c34dca0",
   "metadata": {},
   "source": [
    "По одному id почему-то и альбом и жанр"
   ]
  },
  {
   "cell_type": "code",
   "execution_count": 9,
   "id": "ba07e2f5",
   "metadata": {},
   "outputs": [
    {
     "data": {
      "text/html": [
       "<div>\n",
       "<style scoped>\n",
       "    .dataframe tbody tr th:only-of-type {\n",
       "        vertical-align: middle;\n",
       "    }\n",
       "\n",
       "    .dataframe tbody tr th {\n",
       "        vertical-align: top;\n",
       "    }\n",
       "\n",
       "    .dataframe thead th {\n",
       "        text-align: right;\n",
       "    }\n",
       "</style>\n",
       "<table border=\"1\" class=\"dataframe\">\n",
       "  <thead>\n",
       "    <tr style=\"text-align: right;\">\n",
       "      <th></th>\n",
       "      <th>id</th>\n",
       "      <th>type</th>\n",
       "      <th>name</th>\n",
       "    </tr>\n",
       "  </thead>\n",
       "  <tbody>\n",
       "    <tr>\n",
       "      <th>154612</th>\n",
       "      <td>2490753</td>\n",
       "      <td>album</td>\n",
       "      <td>Taller Children</td>\n",
       "    </tr>\n",
       "  </tbody>\n",
       "</table>\n",
       "</div>"
      ],
      "text/plain": [
       "             id   type             name\n",
       "154612  2490753  album  Taller Children"
      ]
     },
     "execution_count": 9,
     "metadata": {},
     "output_type": "execute_result"
    }
   ],
   "source": [
    "catalog_names.query(\"id == 2490753\")"
   ]
  },
  {
   "cell_type": "code",
   "execution_count": 10,
   "id": "e8953c12",
   "metadata": {},
   "outputs": [
    {
     "data": {
      "text/plain": [
       "type\n",
       "track     1000000\n",
       "album      658724\n",
       "artist     153581\n",
       "genre         166\n",
       "Name: count, dtype: int64"
      ]
     },
     "execution_count": 10,
     "metadata": {},
     "output_type": "execute_result"
    }
   ],
   "source": [
    "catalog_names['type'].value_counts()"
   ]
  },
  {
   "cell_type": "markdown",
   "id": "184f61de",
   "metadata": {},
   "source": [
    "В каталоге содержатся разные типы id, это и альбомы, и артисты, и жанры."
   ]
  },
  {
   "cell_type": "code",
   "execution_count": 11,
   "id": "ade7e14e",
   "metadata": {},
   "outputs": [
    {
     "data": {
      "text/plain": [
       "(1812471, 3)"
      ]
     },
     "execution_count": 11,
     "metadata": {},
     "output_type": "execute_result"
    }
   ],
   "source": [
    "catalog_names.shape"
   ]
  },
  {
   "cell_type": "code",
   "execution_count": 12,
   "id": "b44dd78c",
   "metadata": {},
   "outputs": [
    {
     "data": {
      "text/plain": [
       "id       int64\n",
       "type    object\n",
       "name    object\n",
       "dtype: object"
      ]
     },
     "execution_count": 12,
     "metadata": {},
     "output_type": "execute_result"
    }
   ],
   "source": [
    "catalog_names.dtypes"
   ]
  },
  {
   "cell_type": "code",
   "execution_count": 13,
   "id": "70f7bdfe-175c-45c1-a2e9-d99f0f33be2e",
   "metadata": {},
   "outputs": [
    {
     "data": {
      "text/html": [
       "<div>\n",
       "<style scoped>\n",
       "    .dataframe tbody tr th:only-of-type {\n",
       "        vertical-align: middle;\n",
       "    }\n",
       "\n",
       "    .dataframe tbody tr th {\n",
       "        vertical-align: top;\n",
       "    }\n",
       "\n",
       "    .dataframe thead th {\n",
       "        text-align: right;\n",
       "    }\n",
       "</style>\n",
       "<table border=\"1\" class=\"dataframe\">\n",
       "  <thead>\n",
       "    <tr style=\"text-align: right;\">\n",
       "      <th></th>\n",
       "      <th>user_id</th>\n",
       "      <th>track_id</th>\n",
       "      <th>track_seq</th>\n",
       "      <th>started_at</th>\n",
       "    </tr>\n",
       "  </thead>\n",
       "  <tbody>\n",
       "    <tr>\n",
       "      <th>0</th>\n",
       "      <td>0</td>\n",
       "      <td>99262</td>\n",
       "      <td>1</td>\n",
       "      <td>2022-07-17</td>\n",
       "    </tr>\n",
       "    <tr>\n",
       "      <th>1</th>\n",
       "      <td>0</td>\n",
       "      <td>589498</td>\n",
       "      <td>2</td>\n",
       "      <td>2022-07-19</td>\n",
       "    </tr>\n",
       "    <tr>\n",
       "      <th>2</th>\n",
       "      <td>0</td>\n",
       "      <td>590262</td>\n",
       "      <td>3</td>\n",
       "      <td>2022-07-21</td>\n",
       "    </tr>\n",
       "    <tr>\n",
       "      <th>3</th>\n",
       "      <td>0</td>\n",
       "      <td>590303</td>\n",
       "      <td>4</td>\n",
       "      <td>2022-07-22</td>\n",
       "    </tr>\n",
       "    <tr>\n",
       "      <th>4</th>\n",
       "      <td>0</td>\n",
       "      <td>590692</td>\n",
       "      <td>5</td>\n",
       "      <td>2022-07-22</td>\n",
       "    </tr>\n",
       "  </tbody>\n",
       "</table>\n",
       "</div>"
      ],
      "text/plain": [
       "   user_id  track_id  track_seq started_at\n",
       "0        0     99262          1 2022-07-17\n",
       "1        0    589498          2 2022-07-19\n",
       "2        0    590262          3 2022-07-21\n",
       "3        0    590303          4 2022-07-22\n",
       "4        0    590692          5 2022-07-22"
      ]
     },
     "execution_count": 13,
     "metadata": {},
     "output_type": "execute_result"
    }
   ],
   "source": [
    "interactions.head(5)"
   ]
  },
  {
   "cell_type": "code",
   "execution_count": 14,
   "id": "c161d3b0",
   "metadata": {},
   "outputs": [
    {
     "data": {
      "text/plain": [
       "user_id                int32\n",
       "track_id               int32\n",
       "track_seq              int16\n",
       "started_at    datetime64[ns]\n",
       "dtype: object"
      ]
     },
     "execution_count": 14,
     "metadata": {},
     "output_type": "execute_result"
    }
   ],
   "source": [
    "interactions.dtypes"
   ]
  },
  {
   "cell_type": "code",
   "execution_count": 15,
   "id": "8259e8cb",
   "metadata": {},
   "outputs": [
    {
     "data": {
      "text/plain": [
       "(222629898, 4)"
      ]
     },
     "execution_count": 15,
     "metadata": {},
     "output_type": "execute_result"
    }
   ],
   "source": [
    "interactions.shape"
   ]
  },
  {
   "cell_type": "markdown",
   "id": "e8f2a1f7-a05f-4f39-af90-5f4018aa6f9d",
   "metadata": {},
   "source": [
    "# Обзор данных"
   ]
  },
  {
   "cell_type": "markdown",
   "id": "46a85307-896c-4fac-9fcf-f0dffa90889e",
   "metadata": {},
   "source": [
    "Проверяем данные, есть ли с ними явные проблемы."
   ]
  },
  {
   "cell_type": "code",
   "execution_count": 16,
   "id": "c9f8f17e-9b56-4f5a-a463-f694a993effb",
   "metadata": {},
   "outputs": [],
   "source": [
    "# Количество пользователей, прослушавших трек\n",
    "users_per_tracks = interactions.groupby('track_id', as_index=False).agg(\n",
    "   users=(\"user_id\", \"nunique\"),\n",
    "   start_date=(\"started_at\", \"min\"),\n",
    "   end_date=(\"started_at\", \"max\")\n",
    ")\n",
    "users_per_tracks.sort_values(by='users', ascending=False, inplace=True)\n",
    "users_per_tracks['duration'] = (users_per_tracks['end_date'] - users_per_tracks['start_date']).dt.days"
   ]
  },
  {
   "cell_type": "code",
   "execution_count": 20,
   "id": "1f7c9f7e",
   "metadata": {},
   "outputs": [
    {
     "data": {
      "image/png": "[encoded data removed]",
      "text/plain": [
       "<Figure size 640x480 with 1 Axes>"
      ]
     },
     "metadata": {
      "image/png": {
       "height": 464,
       "width": 547
      }
     },
     "output_type": "display_data"
    }
   ],
   "source": [
    "# Количество прослушанных пользователями треков в течение года\n",
    "numbers_of_tracks = interactions.groupby('started_at').agg(\n",
    "   users_unique=(\"user_id\", \"nunique\"),\n",
    "   users_count=(\"user_id\", \"count\"),\n",
    "   tracks_unique=(\"track_id\", \"nunique\"),\n",
    "   tracks_count=(\"track_id\", \"count\")   \n",
    ")\n",
    "numbers_of_tracks.plot();"
   ]
  },
  {
   "cell_type": "code",
   "execution_count": 5,
   "id": "9e61d6a5",
   "metadata": {},
   "outputs": [
    {
     "data": {
      "image/png": "[encoded data removed]",
      "text/plain": [
       "<Figure size 640x480 with 1 Axes>"
      ]
     },
     "metadata": {
      "image/png": {
       "height": 464,
       "width": 547
      }
     },
     "output_type": "display_data"
    }
   ],
   "source": [
    "# Количество прослушанных пользователями треков на сокращенном промежутке времени\n",
    "interactions.query(\"started_at < '2022-12-16'\").groupby('started_at').agg(\n",
    "   users_unique=(\"user_id\", \"nunique\"),\n",
    "   users_count=(\"user_id\", \"count\"),\n",
    "   tracks_unique=(\"track_id\", \"nunique\"),\n",
    "   tracks_count=(\"track_id\", \"count\")   \n",
    ").plot();"
   ]
  },
  {
   "cell_type": "markdown",
   "id": "2f8ea0f3",
   "metadata": {},
   "source": [
    "Проверим, есть ли в данных неизвестные треки"
   ]
  },
  {
   "cell_type": "code",
   "execution_count": 10,
   "id": "9a72760e",
   "metadata": {},
   "outputs": [],
   "source": [
    "listened_tracks = list(interactions['track_id'].unique())"
   ]
  },
  {
   "cell_type": "code",
   "execution_count": 11,
   "id": "d4274559",
   "metadata": {},
   "outputs": [
    {
     "data": {
      "text/html": [
       "<div>\n",
       "<style scoped>\n",
       "    .dataframe tbody tr th:only-of-type {\n",
       "        vertical-align: middle;\n",
       "    }\n",
       "\n",
       "    .dataframe tbody tr th {\n",
       "        vertical-align: top;\n",
       "    }\n",
       "\n",
       "    .dataframe thead th {\n",
       "        text-align: right;\n",
       "    }\n",
       "</style>\n",
       "<table border=\"1\" class=\"dataframe\">\n",
       "  <thead>\n",
       "    <tr style=\"text-align: right;\">\n",
       "      <th></th>\n",
       "      <th>track_id</th>\n",
       "      <th>albums</th>\n",
       "      <th>artists</th>\n",
       "      <th>genres</th>\n",
       "    </tr>\n",
       "  </thead>\n",
       "  <tbody>\n",
       "  </tbody>\n",
       "</table>\n",
       "</div>"
      ],
      "text/plain": [
       "Empty DataFrame\n",
       "Columns: [track_id, albums, artists, genres]\n",
       "Index: []"
      ]
     },
     "execution_count": 11,
     "metadata": {},
     "output_type": "execute_result"
    }
   ],
   "source": [
    "tracks[~tracks['track_id'].isin(listened_tracks)]"
   ]
  },
  {
   "cell_type": "markdown",
   "id": "4b483d0e",
   "metadata": {},
   "source": [
    "Нет треков, не попавших во взаимодействия с пользователями"
   ]
  },
  {
   "cell_type": "code",
   "execution_count": 23,
   "id": "bf6aa6ba",
   "metadata": {},
   "outputs": [],
   "source": [
    "tracks_per_users = interactions.groupby('user_id').agg(\n",
    "   tracks_unique=(\"track_id\", \"nunique\"),\n",
    "   tracks_count=(\"track_id\", \"count\"),\n",
    "   start_date=(\"started_at\", \"min\"),\n",
    "   end_date=(\"started_at\", \"max\")   \n",
    ")\n",
    "tracks_per_users['ltv'] = (tracks_per_users['end_date'] - tracks_per_users['start_date']).dt.days"
   ]
  },
  {
   "cell_type": "markdown",
   "id": "9f81a7fb",
   "metadata": {},
   "source": [
    "Есть пользователи, которые послушали очень мало треков"
   ]
  },
  {
   "cell_type": "code",
   "execution_count": 74,
   "id": "50a03283",
   "metadata": {},
   "outputs": [
    {
     "data": {
      "text/html": [
       "<div>\n",
       "<style scoped>\n",
       "    .dataframe tbody tr th:only-of-type {\n",
       "        vertical-align: middle;\n",
       "    }\n",
       "\n",
       "    .dataframe tbody tr th {\n",
       "        vertical-align: top;\n",
       "    }\n",
       "\n",
       "    .dataframe thead th {\n",
       "        text-align: right;\n",
       "    }\n",
       "</style>\n",
       "<table border=\"1\" class=\"dataframe\">\n",
       "  <thead>\n",
       "    <tr style=\"text-align: right;\">\n",
       "      <th></th>\n",
       "      <th>tracks_unique</th>\n",
       "      <th>tracks_count</th>\n",
       "      <th>start_date</th>\n",
       "      <th>end_date</th>\n",
       "      <th>ltv</th>\n",
       "    </tr>\n",
       "    <tr>\n",
       "      <th>user_id</th>\n",
       "      <th></th>\n",
       "      <th></th>\n",
       "      <th></th>\n",
       "      <th></th>\n",
       "      <th></th>\n",
       "    </tr>\n",
       "  </thead>\n",
       "  <tbody>\n",
       "    <tr>\n",
       "      <th>398979</th>\n",
       "      <td>16637</td>\n",
       "      <td>16637</td>\n",
       "      <td>2022-01-01</td>\n",
       "      <td>2022-12-31</td>\n",
       "      <td>364</td>\n",
       "    </tr>\n",
       "    <tr>\n",
       "      <th>1200889</th>\n",
       "      <td>15392</td>\n",
       "      <td>15392</td>\n",
       "      <td>2022-01-01</td>\n",
       "      <td>2022-12-31</td>\n",
       "      <td>364</td>\n",
       "    </tr>\n",
       "    <tr>\n",
       "      <th>590868</th>\n",
       "      <td>15136</td>\n",
       "      <td>15136</td>\n",
       "      <td>2022-01-01</td>\n",
       "      <td>2022-12-31</td>\n",
       "      <td>364</td>\n",
       "    </tr>\n",
       "    <tr>\n",
       "      <th>731216</th>\n",
       "      <td>13223</td>\n",
       "      <td>13223</td>\n",
       "      <td>2022-01-01</td>\n",
       "      <td>2022-12-31</td>\n",
       "      <td>364</td>\n",
       "    </tr>\n",
       "    <tr>\n",
       "      <th>339714</th>\n",
       "      <td>12768</td>\n",
       "      <td>12768</td>\n",
       "      <td>2022-01-01</td>\n",
       "      <td>2022-12-31</td>\n",
       "      <td>364</td>\n",
       "    </tr>\n",
       "    <tr>\n",
       "      <th>...</th>\n",
       "      <td>...</td>\n",
       "      <td>...</td>\n",
       "      <td>...</td>\n",
       "      <td>...</td>\n",
       "      <td>...</td>\n",
       "    </tr>\n",
       "    <tr>\n",
       "      <th>31743</th>\n",
       "      <td>2</td>\n",
       "      <td>2</td>\n",
       "      <td>2022-01-25</td>\n",
       "      <td>2022-12-23</td>\n",
       "      <td>332</td>\n",
       "    </tr>\n",
       "    <tr>\n",
       "      <th>1301289</th>\n",
       "      <td>2</td>\n",
       "      <td>2</td>\n",
       "      <td>2022-07-17</td>\n",
       "      <td>2022-09-19</td>\n",
       "      <td>64</td>\n",
       "    </tr>\n",
       "    <tr>\n",
       "      <th>856433</th>\n",
       "      <td>2</td>\n",
       "      <td>2</td>\n",
       "      <td>2022-04-27</td>\n",
       "      <td>2022-12-19</td>\n",
       "      <td>236</td>\n",
       "    </tr>\n",
       "    <tr>\n",
       "      <th>820535</th>\n",
       "      <td>2</td>\n",
       "      <td>2</td>\n",
       "      <td>2022-12-23</td>\n",
       "      <td>2022-12-31</td>\n",
       "      <td>8</td>\n",
       "    </tr>\n",
       "    <tr>\n",
       "      <th>69380</th>\n",
       "      <td>2</td>\n",
       "      <td>2</td>\n",
       "      <td>2022-03-18</td>\n",
       "      <td>2022-12-26</td>\n",
       "      <td>283</td>\n",
       "    </tr>\n",
       "  </tbody>\n",
       "</table>\n",
       "<p>1372372 rows × 5 columns</p>\n",
       "</div>"
      ],
      "text/plain": [
       "         tracks_unique  tracks_count start_date   end_date  ltv\n",
       "user_id                                                        \n",
       "398979           16637         16637 2022-01-01 2022-12-31  364\n",
       "1200889          15392         15392 2022-01-01 2022-12-31  364\n",
       "590868           15136         15136 2022-01-01 2022-12-31  364\n",
       "731216           13223         13223 2022-01-01 2022-12-31  364\n",
       "339714           12768         12768 2022-01-01 2022-12-31  364\n",
       "...                ...           ...        ...        ...  ...\n",
       "31743                2             2 2022-01-25 2022-12-23  332\n",
       "1301289              2             2 2022-07-17 2022-09-19   64\n",
       "856433               2             2 2022-04-27 2022-12-19  236\n",
       "820535               2             2 2022-12-23 2022-12-31    8\n",
       "69380                2             2 2022-03-18 2022-12-26  283\n",
       "\n",
       "[1372372 rows x 5 columns]"
      ]
     },
     "execution_count": 74,
     "metadata": {},
     "output_type": "execute_result"
    }
   ],
   "source": [
    "tracks_per_users.sort_values(\n",
    "    \"tracks_unique\", ascending=False\n",
    "    ).query(\"ltv > 0\")"
   ]
  },
  {
   "cell_type": "markdown",
   "id": "78ed6908",
   "metadata": {},
   "source": [
    "Проверим идентификаторы"
   ]
  },
  {
   "cell_type": "code",
   "execution_count": 11,
   "id": "4206af56",
   "metadata": {},
   "outputs": [
    {
     "data": {
      "text/plain": [
       "(26, 101521819)"
      ]
     },
     "execution_count": 11,
     "metadata": {},
     "output_type": "execute_result"
    }
   ],
   "source": [
    "interactions['track_id'].min(), interactions['track_id'].max()"
   ]
  },
  {
   "cell_type": "code",
   "execution_count": 10,
   "id": "fbd502be",
   "metadata": {},
   "outputs": [
    {
     "data": {
      "text/plain": [
       "(0, 1374582)"
      ]
     },
     "execution_count": 10,
     "metadata": {},
     "output_type": "execute_result"
    }
   ],
   "source": [
    "interactions['user_id'].min(), interactions['user_id'].max()"
   ]
  },
  {
   "cell_type": "code",
   "execution_count": 24,
   "id": "358be7f2",
   "metadata": {},
   "outputs": [
    {
     "data": {
      "text/html": [
       "<div>\n",
       "<style scoped>\n",
       "    .dataframe tbody tr th:only-of-type {\n",
       "        vertical-align: middle;\n",
       "    }\n",
       "\n",
       "    .dataframe tbody tr th {\n",
       "        vertical-align: top;\n",
       "    }\n",
       "\n",
       "    .dataframe thead th {\n",
       "        text-align: right;\n",
       "    }\n",
       "</style>\n",
       "<table border=\"1\" class=\"dataframe\">\n",
       "  <thead>\n",
       "    <tr style=\"text-align: right;\">\n",
       "      <th></th>\n",
       "      <th>user_id</th>\n",
       "      <th>track_id</th>\n",
       "      <th>track_seq</th>\n",
       "      <th>started_at</th>\n",
       "    </tr>\n",
       "  </thead>\n",
       "  <tbody>\n",
       "    <tr>\n",
       "      <th>0</th>\n",
       "      <td>0</td>\n",
       "      <td>99262</td>\n",
       "      <td>1</td>\n",
       "      <td>2022-07-17</td>\n",
       "    </tr>\n",
       "    <tr>\n",
       "      <th>1</th>\n",
       "      <td>0</td>\n",
       "      <td>589498</td>\n",
       "      <td>2</td>\n",
       "      <td>2022-07-19</td>\n",
       "    </tr>\n",
       "    <tr>\n",
       "      <th>2</th>\n",
       "      <td>0</td>\n",
       "      <td>590262</td>\n",
       "      <td>3</td>\n",
       "      <td>2022-07-21</td>\n",
       "    </tr>\n",
       "    <tr>\n",
       "      <th>3</th>\n",
       "      <td>0</td>\n",
       "      <td>590303</td>\n",
       "      <td>4</td>\n",
       "      <td>2022-07-22</td>\n",
       "    </tr>\n",
       "    <tr>\n",
       "      <th>4</th>\n",
       "      <td>0</td>\n",
       "      <td>590692</td>\n",
       "      <td>5</td>\n",
       "      <td>2022-07-22</td>\n",
       "    </tr>\n",
       "    <tr>\n",
       "      <th>5</th>\n",
       "      <td>0</td>\n",
       "      <td>590803</td>\n",
       "      <td>6</td>\n",
       "      <td>2022-07-25</td>\n",
       "    </tr>\n",
       "    <tr>\n",
       "      <th>6</th>\n",
       "      <td>0</td>\n",
       "      <td>597196</td>\n",
       "      <td>7</td>\n",
       "      <td>2022-07-25</td>\n",
       "    </tr>\n",
       "    <tr>\n",
       "      <th>7</th>\n",
       "      <td>0</td>\n",
       "      <td>597199</td>\n",
       "      <td>8</td>\n",
       "      <td>2022-07-25</td>\n",
       "    </tr>\n",
       "    <tr>\n",
       "      <th>8</th>\n",
       "      <td>0</td>\n",
       "      <td>1750835</td>\n",
       "      <td>9</td>\n",
       "      <td>2022-07-30</td>\n",
       "    </tr>\n",
       "    <tr>\n",
       "      <th>9</th>\n",
       "      <td>0</td>\n",
       "      <td>1750843</td>\n",
       "      <td>10</td>\n",
       "      <td>2022-08-05</td>\n",
       "    </tr>\n",
       "    <tr>\n",
       "      <th>10</th>\n",
       "      <td>0</td>\n",
       "      <td>2212520</td>\n",
       "      <td>11</td>\n",
       "      <td>2022-08-07</td>\n",
       "    </tr>\n",
       "    <tr>\n",
       "      <th>11</th>\n",
       "      <td>0</td>\n",
       "      <td>2212525</td>\n",
       "      <td>12</td>\n",
       "      <td>2022-08-07</td>\n",
       "    </tr>\n",
       "    <tr>\n",
       "      <th>12</th>\n",
       "      <td>0</td>\n",
       "      <td>4095918</td>\n",
       "      <td>13</td>\n",
       "      <td>2022-08-15</td>\n",
       "    </tr>\n",
       "    <tr>\n",
       "      <th>13</th>\n",
       "      <td>0</td>\n",
       "      <td>6045307</td>\n",
       "      <td>14</td>\n",
       "      <td>2022-08-17</td>\n",
       "    </tr>\n",
       "    <tr>\n",
       "      <th>14</th>\n",
       "      <td>0</td>\n",
       "      <td>10327926</td>\n",
       "      <td>15</td>\n",
       "      <td>2022-08-19</td>\n",
       "    </tr>\n",
       "    <tr>\n",
       "      <th>15</th>\n",
       "      <td>0</td>\n",
       "      <td>13902994</td>\n",
       "      <td>16</td>\n",
       "      <td>2022-08-22</td>\n",
       "    </tr>\n",
       "    <tr>\n",
       "      <th>16</th>\n",
       "      <td>0</td>\n",
       "      <td>14370719</td>\n",
       "      <td>17</td>\n",
       "      <td>2022-08-28</td>\n",
       "    </tr>\n",
       "    <tr>\n",
       "      <th>17</th>\n",
       "      <td>0</td>\n",
       "      <td>15362094</td>\n",
       "      <td>18</td>\n",
       "      <td>2022-09-02</td>\n",
       "    </tr>\n",
       "    <tr>\n",
       "      <th>18</th>\n",
       "      <td>0</td>\n",
       "      <td>15769661</td>\n",
       "      <td>19</td>\n",
       "      <td>2022-09-04</td>\n",
       "    </tr>\n",
       "    <tr>\n",
       "      <th>19</th>\n",
       "      <td>0</td>\n",
       "      <td>17802671</td>\n",
       "      <td>20</td>\n",
       "      <td>2022-09-06</td>\n",
       "    </tr>\n",
       "    <tr>\n",
       "      <th>20</th>\n",
       "      <td>0</td>\n",
       "      <td>17802673</td>\n",
       "      <td>21</td>\n",
       "      <td>2022-09-08</td>\n",
       "    </tr>\n",
       "    <tr>\n",
       "      <th>21</th>\n",
       "      <td>0</td>\n",
       "      <td>17802674</td>\n",
       "      <td>22</td>\n",
       "      <td>2022-09-10</td>\n",
       "    </tr>\n",
       "    <tr>\n",
       "      <th>22</th>\n",
       "      <td>0</td>\n",
       "      <td>18042047</td>\n",
       "      <td>23</td>\n",
       "      <td>2022-09-12</td>\n",
       "    </tr>\n",
       "    <tr>\n",
       "      <th>23</th>\n",
       "      <td>0</td>\n",
       "      <td>18102829</td>\n",
       "      <td>24</td>\n",
       "      <td>2022-09-13</td>\n",
       "    </tr>\n",
       "    <tr>\n",
       "      <th>24</th>\n",
       "      <td>0</td>\n",
       "      <td>20232119</td>\n",
       "      <td>25</td>\n",
       "      <td>2022-09-14</td>\n",
       "    </tr>\n",
       "    <tr>\n",
       "      <th>25</th>\n",
       "      <td>0</td>\n",
       "      <td>20497621</td>\n",
       "      <td>26</td>\n",
       "      <td>2022-09-15</td>\n",
       "    </tr>\n",
       "  </tbody>\n",
       "</table>\n",
       "</div>"
      ],
      "text/plain": [
       "    user_id  track_id  track_seq started_at\n",
       "0         0     99262          1 2022-07-17\n",
       "1         0    589498          2 2022-07-19\n",
       "2         0    590262          3 2022-07-21\n",
       "3         0    590303          4 2022-07-22\n",
       "4         0    590692          5 2022-07-22\n",
       "5         0    590803          6 2022-07-25\n",
       "6         0    597196          7 2022-07-25\n",
       "7         0    597199          8 2022-07-25\n",
       "8         0   1750835          9 2022-07-30\n",
       "9         0   1750843         10 2022-08-05\n",
       "10        0   2212520         11 2022-08-07\n",
       "11        0   2212525         12 2022-08-07\n",
       "12        0   4095918         13 2022-08-15\n",
       "13        0   6045307         14 2022-08-17\n",
       "14        0  10327926         15 2022-08-19\n",
       "15        0  13902994         16 2022-08-22\n",
       "16        0  14370719         17 2022-08-28\n",
       "17        0  15362094         18 2022-09-02\n",
       "18        0  15769661         19 2022-09-04\n",
       "19        0  17802671         20 2022-09-06\n",
       "20        0  17802673         21 2022-09-08\n",
       "21        0  17802674         22 2022-09-10\n",
       "22        0  18042047         23 2022-09-12\n",
       "23        0  18102829         24 2022-09-13\n",
       "24        0  20232119         25 2022-09-14\n",
       "25        0  20497621         26 2022-09-15"
      ]
     },
     "execution_count": 24,
     "metadata": {},
     "output_type": "execute_result"
    }
   ],
   "source": [
    "interactions[interactions['user_id'] == 0]"
   ]
  },
  {
   "cell_type": "markdown",
   "id": "d6e0857f",
   "metadata": {},
   "source": [
    "Последовательность прослушивания треков не разбита по датам"
   ]
  },
  {
   "cell_type": "markdown",
   "id": "318b573a-9e2d-4808-95db-60cfb8bbdb73",
   "metadata": {
    "editable": true,
    "slideshow": {
     "slide_type": ""
    },
    "tags": []
   },
   "source": [
    "# Выводы"
   ]
  },
  {
   "cell_type": "markdown",
   "id": "caa96e12-36a8-4401-8f11-98627a49ae9d",
   "metadata": {},
   "source": [
    "Приведём выводы по первому знакомству с данными:\n",
    "- есть ли с данными явные проблемы,\n",
    "- какие корректирующие действия (в целом) были предприняты.\n",
    "\n",
    "Обрезать дату по декабрь  \n",
    "Нет не прослушанных треков    "
   ]
  },
  {
   "cell_type": "markdown",
   "id": "7bc3296b-eba6-4333-a78d-b9304aa87e3d",
   "metadata": {},
   "source": [
    "# === ЭТАП 2 ==="
   ]
  },
  {
   "cell_type": "markdown",
   "id": "68e73960-fd38-4e15-8db0-9a25c35dfd25",
   "metadata": {},
   "source": [
    "# EDA"
   ]
  },
  {
   "cell_type": "markdown",
   "id": "a30e823e-8e0f-4a76-a02e-8d1ba8bf0f8a",
   "metadata": {},
   "source": [
    "Распределение количества прослушанных треков."
   ]
  },
  {
   "cell_type": "code",
   "execution_count": 12,
   "id": "9bf5eaba-35f7-4da7-be59-9ab4a34b2423",
   "metadata": {},
   "outputs": [],
   "source": [
    "listened_tracks = interactions.groupby('started_at').agg(\n",
    "   tracks_unique=(\"track_id\", \"nunique\"),\n",
    "   tracks_count=(\"track_id\", \"count\")   \n",
    ")"
   ]
  },
  {
   "cell_type": "code",
   "execution_count": 13,
   "id": "d3e11355",
   "metadata": {},
   "outputs": [
    {
     "data": {
      "image/png": "[encoded data removed]",
      "text/plain": [
       "<Figure size 640x480 with 1 Axes>"
      ]
     },
     "metadata": {
      "image/png": {
       "height": 464,
       "width": 547
      }
     },
     "output_type": "display_data"
    }
   ],
   "source": [
    "listened_tracks.plot();"
   ]
  },
  {
   "cell_type": "markdown",
   "id": "d765519a-18dd-4d30-9e29-cc2d84cacd79",
   "metadata": {},
   "source": [
    "Наиболее популярные треки"
   ]
  },
  {
   "cell_type": "code",
   "execution_count": 14,
   "id": "9821f9aa",
   "metadata": {},
   "outputs": [],
   "source": [
    "users_per_tracks = interactions.groupby('track_id', as_index=False).agg(\n",
    "   users=(\"user_id\", \"nunique\"),\n",
    "   start_date=(\"started_at\", \"min\"),\n",
    "   end_date=(\"started_at\", \"max\")\n",
    ")"
   ]
  },
  {
   "cell_type": "code",
   "execution_count": 15,
   "id": "aecaf630-fde0-4860-b84a-42c933a9606e",
   "metadata": {},
   "outputs": [],
   "source": [
    "popular_tracks = pd.merge(\n",
    "    users_per_tracks, \n",
    "    catalog_names.query(\"\"\"type == 'track'\"\"\"), \n",
    "    left_on='track_id', \n",
    "    right_on='id',\n",
    "    how='left'\n",
    ").drop(['id', 'type'], axis=1).reset_index(drop=True)"
   ]
  },
  {
   "cell_type": "code",
   "execution_count": 16,
   "id": "ab2381d9",
   "metadata": {},
   "outputs": [],
   "source": [
    "assert False\n",
    "popular_tracks.to_parquet('data/popular_tracks.parquet', index=False)"
   ]
  },
  {
   "cell_type": "markdown",
   "id": "b1c32a5a-d3be-4f96-8dd9-f7860951020c",
   "metadata": {},
   "source": [
    "Наиболее популярные жанры"
   ]
  },
  {
   "cell_type": "code",
   "execution_count": 17,
   "id": "1bc50491-9235-4d3c-a6c2-297f7c05a959",
   "metadata": {},
   "outputs": [],
   "source": [
    "genres = pd.DataFrame(tracks['genres'].explode().value_counts()).reset_index()\n",
    "genres = pd.merge(\n",
    "    genres, \n",
    "    catalog_names.query(\"\"\"type == 'genre'\"\"\"), \n",
    "    left_on='genres', \n",
    "    right_on='id',\n",
    "    how='left'\n",
    ").drop(['id', 'type'], axis=1)"
   ]
  },
  {
   "cell_type": "code",
   "execution_count": 18,
   "id": "7560012d",
   "metadata": {},
   "outputs": [],
   "source": [
    "assert False\n",
    "genres.to_parquet('data/genres.parquet', index=False)"
   ]
  },
  {
   "cell_type": "markdown",
   "id": "0d850a07-ef1e-462f-891a-1cf89f2e24ef",
   "metadata": {},
   "source": [
    "# Преобразование данных"
   ]
  },
  {
   "cell_type": "markdown",
   "id": "fabcf8d2-1192-4df5-b20b-fbb84689f57a",
   "metadata": {},
   "source": [
    "Преобразуем данные в формат, более пригодный для дальнейшего использования в расчётах рекомендаций."
   ]
  },
  {
   "cell_type": "code",
   "execution_count": 16,
   "id": "a425556a-9382-45ca-a04e-f1981a522126",
   "metadata": {},
   "outputs": [],
   "source": [
    "interactions['tracks_cnt'] = interactions.groupby('user_id')['track_id'].transform('nunique')\n",
    "interactions['users_cnt'] = interactions.groupby('track_id')['user_id'].transform('nunique')\n",
    "interactions.query(\"tracks_cnt >= 2\", inplace=True) # фильтруем тех, кто редко что-то слушает\n",
    "interactions.query(\"users_cnt > 0\", inplace=True)"
   ]
  },
  {
   "cell_type": "code",
   "execution_count": 64,
   "id": "d2212c85",
   "metadata": {},
   "outputs": [],
   "source": [
    "listened_tracks = list(interactions['track_id'].unique())\n",
    "tracks = tracks[tracks['track_id'].isin(listened_tracks)]"
   ]
  },
  {
   "cell_type": "markdown",
   "id": "7d988f79",
   "metadata": {},
   "source": [
    "Так как текущий объем данных работает просто невыносимо долго и ядро с ним не справляется даже когда импортирован только один датафрейм, возьмем стратифицированный семпл"
   ]
  },
  {
   "cell_type": "markdown",
   "id": "aae41ac8",
   "metadata": {},
   "source": [
    "### Обработка событий"
   ]
  },
  {
   "cell_type": "code",
   "execution_count": 10,
   "id": "921518eb",
   "metadata": {},
   "outputs": [],
   "source": [
    "# Возьмем только 10% данных для ускорения вычислений, стратифицируем по датам\n",
    "interactions_sample = interactions.groupby(\n",
    "    'started_at', group_keys=False\n",
    "    ).apply(lambda x: x.sample(round(0.1*len(x))))"
   ]
  },
  {
   "cell_type": "code",
   "execution_count": 6,
   "id": "0afa5623",
   "metadata": {},
   "outputs": [],
   "source": [
    "# interactions_sample = pd.read_parquet('data/events_sample.parquet').rename(columns={'item_id': 'track_id'})"
   ]
  },
  {
   "cell_type": "code",
   "execution_count": 11,
   "id": "8d73ef91",
   "metadata": {},
   "outputs": [
    {
     "data": {
      "text/html": [
       "<div>\n",
       "<style scoped>\n",
       "    .dataframe tbody tr th:only-of-type {\n",
       "        vertical-align: middle;\n",
       "    }\n",
       "\n",
       "    .dataframe tbody tr th {\n",
       "        vertical-align: top;\n",
       "    }\n",
       "\n",
       "    .dataframe thead th {\n",
       "        text-align: right;\n",
       "    }\n",
       "</style>\n",
       "<table border=\"1\" class=\"dataframe\">\n",
       "  <thead>\n",
       "    <tr style=\"text-align: right;\">\n",
       "      <th></th>\n",
       "      <th>user_id</th>\n",
       "      <th>track_id</th>\n",
       "      <th>track_seq</th>\n",
       "      <th>started_at</th>\n",
       "    </tr>\n",
       "  </thead>\n",
       "  <tbody>\n",
       "    <tr>\n",
       "      <th>10</th>\n",
       "      <td>1</td>\n",
       "      <td>25973493</td>\n",
       "      <td>11</td>\n",
       "      <td>2022-06-25</td>\n",
       "    </tr>\n",
       "    <tr>\n",
       "      <th>12</th>\n",
       "      <td>1</td>\n",
       "      <td>31763491</td>\n",
       "      <td>13</td>\n",
       "      <td>2022-06-26</td>\n",
       "    </tr>\n",
       "    <tr>\n",
       "      <th>14</th>\n",
       "      <td>1</td>\n",
       "      <td>34685697</td>\n",
       "      <td>15</td>\n",
       "      <td>2022-07-03</td>\n",
       "    </tr>\n",
       "    <tr>\n",
       "      <th>22</th>\n",
       "      <td>1</td>\n",
       "      <td>41554596</td>\n",
       "      <td>23</td>\n",
       "      <td>2022-07-14</td>\n",
       "    </tr>\n",
       "    <tr>\n",
       "      <th>28</th>\n",
       "      <td>1</td>\n",
       "      <td>77549332</td>\n",
       "      <td>29</td>\n",
       "      <td>2022-07-22</td>\n",
       "    </tr>\n",
       "  </tbody>\n",
       "</table>\n",
       "</div>"
      ],
      "text/plain": [
       "    user_id  track_id  track_seq started_at\n",
       "10        1  25973493         11 2022-06-25\n",
       "12        1  31763491         13 2022-06-26\n",
       "14        1  34685697         15 2022-07-03\n",
       "22        1  41554596         23 2022-07-14\n",
       "28        1  77549332         29 2022-07-22"
      ]
     },
     "execution_count": 11,
     "metadata": {},
     "output_type": "execute_result"
    }
   ],
   "source": [
    "interactions_sample.query(\"user_id == 1\")"
   ]
  },
  {
   "cell_type": "code",
   "execution_count": 12,
   "id": "271080a1",
   "metadata": {},
   "outputs": [],
   "source": [
    "track_seq_len = (interactions_sample.query(\"user_id == 1\"))"
   ]
  },
  {
   "cell_type": "code",
   "execution_count": 13,
   "id": "f98a9b7c",
   "metadata": {},
   "outputs": [],
   "source": [
    "interactions_sample.sort_values(by=['user_id', 'track_seq'], inplace=True)\n",
    "# теперь нужно перенумеровать порядок прослушивания треков\n",
    "interactions_sample['track_seq'] = interactions_sample.groupby(\n",
    "    'user_id', as_index=False\n",
    "    ).cumcount() + 1"
   ]
  },
  {
   "cell_type": "code",
   "execution_count": 14,
   "id": "2a93b750",
   "metadata": {},
   "outputs": [
    {
     "data": {
      "text/html": [
       "<div>\n",
       "<style scoped>\n",
       "    .dataframe tbody tr th:only-of-type {\n",
       "        vertical-align: middle;\n",
       "    }\n",
       "\n",
       "    .dataframe tbody tr th {\n",
       "        vertical-align: top;\n",
       "    }\n",
       "\n",
       "    .dataframe thead th {\n",
       "        text-align: right;\n",
       "    }\n",
       "</style>\n",
       "<table border=\"1\" class=\"dataframe\">\n",
       "  <thead>\n",
       "    <tr style=\"text-align: right;\">\n",
       "      <th></th>\n",
       "      <th>user_id</th>\n",
       "      <th>track_id</th>\n",
       "      <th>track_seq</th>\n",
       "      <th>started_at</th>\n",
       "    </tr>\n",
       "  </thead>\n",
       "  <tbody>\n",
       "    <tr>\n",
       "      <th>10</th>\n",
       "      <td>1</td>\n",
       "      <td>25973493</td>\n",
       "      <td>1</td>\n",
       "      <td>2022-06-25</td>\n",
       "    </tr>\n",
       "    <tr>\n",
       "      <th>12</th>\n",
       "      <td>1</td>\n",
       "      <td>31763491</td>\n",
       "      <td>2</td>\n",
       "      <td>2022-06-26</td>\n",
       "    </tr>\n",
       "    <tr>\n",
       "      <th>14</th>\n",
       "      <td>1</td>\n",
       "      <td>34685697</td>\n",
       "      <td>3</td>\n",
       "      <td>2022-07-03</td>\n",
       "    </tr>\n",
       "    <tr>\n",
       "      <th>22</th>\n",
       "      <td>1</td>\n",
       "      <td>41554596</td>\n",
       "      <td>4</td>\n",
       "      <td>2022-07-14</td>\n",
       "    </tr>\n",
       "    <tr>\n",
       "      <th>28</th>\n",
       "      <td>1</td>\n",
       "      <td>77549332</td>\n",
       "      <td>5</td>\n",
       "      <td>2022-07-22</td>\n",
       "    </tr>\n",
       "  </tbody>\n",
       "</table>\n",
       "</div>"
      ],
      "text/plain": [
       "    user_id  track_id  track_seq started_at\n",
       "10        1  25973493          1 2022-06-25\n",
       "12        1  31763491          2 2022-06-26\n",
       "14        1  34685697          3 2022-07-03\n",
       "22        1  41554596          4 2022-07-14\n",
       "28        1  77549332          5 2022-07-22"
      ]
     },
     "execution_count": 14,
     "metadata": {},
     "output_type": "execute_result"
    }
   ],
   "source": [
    "interactions_sample.query(\"user_id == 1\")"
   ]
  },
  {
   "cell_type": "code",
   "execution_count": 15,
   "id": "02a7668e",
   "metadata": {},
   "outputs": [],
   "source": [
    "# перенумеруем также пользователей\n",
    "interactions_sample['user_id'] = interactions_sample.groupby('user_id').ngroup() + 1\n",
    "interactions_sample['user_id'] = 1_000_000 + interactions_sample['user_id'] - 1"
   ]
  },
  {
   "cell_type": "code",
   "execution_count": null,
   "id": "3b1efdec",
   "metadata": {},
   "outputs": [],
   "source": [
    "interactions_sample.reset_index(drop=True, inplace=True)"
   ]
  },
  {
   "cell_type": "code",
   "execution_count": 21,
   "id": "5b37c8f2",
   "metadata": {},
   "outputs": [
    {
     "data": {
      "text/html": [
       "<div>\n",
       "<style scoped>\n",
       "    .dataframe tbody tr th:only-of-type {\n",
       "        vertical-align: middle;\n",
       "    }\n",
       "\n",
       "    .dataframe tbody tr th {\n",
       "        vertical-align: top;\n",
       "    }\n",
       "\n",
       "    .dataframe thead th {\n",
       "        text-align: right;\n",
       "    }\n",
       "</style>\n",
       "<table border=\"1\" class=\"dataframe\">\n",
       "  <thead>\n",
       "    <tr style=\"text-align: right;\">\n",
       "      <th></th>\n",
       "      <th>user_id</th>\n",
       "      <th>track_id</th>\n",
       "      <th>track_seq</th>\n",
       "      <th>started_at</th>\n",
       "    </tr>\n",
       "  </thead>\n",
       "  <tbody>\n",
       "    <tr>\n",
       "      <th>0</th>\n",
       "      <td>1000000</td>\n",
       "      <td>25973493</td>\n",
       "      <td>1</td>\n",
       "      <td>2022-06-25</td>\n",
       "    </tr>\n",
       "    <tr>\n",
       "      <th>1</th>\n",
       "      <td>1000000</td>\n",
       "      <td>31763491</td>\n",
       "      <td>2</td>\n",
       "      <td>2022-06-26</td>\n",
       "    </tr>\n",
       "    <tr>\n",
       "      <th>2</th>\n",
       "      <td>1000000</td>\n",
       "      <td>34685697</td>\n",
       "      <td>3</td>\n",
       "      <td>2022-07-03</td>\n",
       "    </tr>\n",
       "    <tr>\n",
       "      <th>3</th>\n",
       "      <td>1000000</td>\n",
       "      <td>41554596</td>\n",
       "      <td>4</td>\n",
       "      <td>2022-07-14</td>\n",
       "    </tr>\n",
       "    <tr>\n",
       "      <th>4</th>\n",
       "      <td>1000000</td>\n",
       "      <td>77549332</td>\n",
       "      <td>5</td>\n",
       "      <td>2022-07-22</td>\n",
       "    </tr>\n",
       "  </tbody>\n",
       "</table>\n",
       "</div>"
      ],
      "text/plain": [
       "   user_id  track_id  track_seq started_at\n",
       "0  1000000  25973493          1 2022-06-25\n",
       "1  1000000  31763491          2 2022-06-26\n",
       "2  1000000  34685697          3 2022-07-03\n",
       "3  1000000  41554596          4 2022-07-14\n",
       "4  1000000  77549332          5 2022-07-22"
      ]
     },
     "execution_count": 21,
     "metadata": {},
     "output_type": "execute_result"
    }
   ],
   "source": [
    "interactions_sample.query(\"user_id == 1000000\")"
   ]
  },
  {
   "cell_type": "code",
   "execution_count": 18,
   "id": "a5be898b",
   "metadata": {},
   "outputs": [
    {
     "data": {
      "text/plain": [
       "0.09999998293131321"
      ]
     },
     "execution_count": 18,
     "metadata": {},
     "output_type": "execute_result"
    }
   ],
   "source": [
    "interactions_sample.shape[0]/interactions.shape[0]"
   ]
  },
  {
   "cell_type": "code",
   "execution_count": 19,
   "id": "60133b90",
   "metadata": {},
   "outputs": [
    {
     "data": {
      "text/plain": [
       "(22262986, 4)"
      ]
     },
     "execution_count": 19,
     "metadata": {},
     "output_type": "execute_result"
    }
   ],
   "source": [
    "interactions_sample.shape"
   ]
  },
  {
   "cell_type": "code",
   "execution_count": 20,
   "id": "1b6dfe75",
   "metadata": {},
   "outputs": [
    {
     "data": {
      "text/html": [
       "<div>\n",
       "<style scoped>\n",
       "    .dataframe tbody tr th:only-of-type {\n",
       "        vertical-align: middle;\n",
       "    }\n",
       "\n",
       "    .dataframe tbody tr th {\n",
       "        vertical-align: top;\n",
       "    }\n",
       "\n",
       "    .dataframe thead th {\n",
       "        text-align: right;\n",
       "    }\n",
       "</style>\n",
       "<table border=\"1\" class=\"dataframe\">\n",
       "  <thead>\n",
       "    <tr style=\"text-align: right;\">\n",
       "      <th></th>\n",
       "      <th>user_id</th>\n",
       "      <th>track_id</th>\n",
       "      <th>track_seq</th>\n",
       "      <th>started_at</th>\n",
       "    </tr>\n",
       "  </thead>\n",
       "  <tbody>\n",
       "    <tr>\n",
       "      <th>0</th>\n",
       "      <td>1000000</td>\n",
       "      <td>25973493</td>\n",
       "      <td>1</td>\n",
       "      <td>2022-06-25</td>\n",
       "    </tr>\n",
       "    <tr>\n",
       "      <th>1</th>\n",
       "      <td>1000000</td>\n",
       "      <td>31763491</td>\n",
       "      <td>2</td>\n",
       "      <td>2022-06-26</td>\n",
       "    </tr>\n",
       "    <tr>\n",
       "      <th>2</th>\n",
       "      <td>1000000</td>\n",
       "      <td>34685697</td>\n",
       "      <td>3</td>\n",
       "      <td>2022-07-03</td>\n",
       "    </tr>\n",
       "    <tr>\n",
       "      <th>3</th>\n",
       "      <td>1000000</td>\n",
       "      <td>41554596</td>\n",
       "      <td>4</td>\n",
       "      <td>2022-07-14</td>\n",
       "    </tr>\n",
       "    <tr>\n",
       "      <th>4</th>\n",
       "      <td>1000000</td>\n",
       "      <td>77549332</td>\n",
       "      <td>5</td>\n",
       "      <td>2022-07-22</td>\n",
       "    </tr>\n",
       "  </tbody>\n",
       "</table>\n",
       "</div>"
      ],
      "text/plain": [
       "   user_id  track_id  track_seq started_at\n",
       "0  1000000  25973493          1 2022-06-25\n",
       "1  1000000  31763491          2 2022-06-26\n",
       "2  1000000  34685697          3 2022-07-03\n",
       "3  1000000  41554596          4 2022-07-14\n",
       "4  1000000  77549332          5 2022-07-22"
      ]
     },
     "execution_count": 20,
     "metadata": {},
     "output_type": "execute_result"
    }
   ],
   "source": [
    "interactions_sample.head()"
   ]
  },
  {
   "cell_type": "code",
   "execution_count": 22,
   "id": "9f9ffdb3",
   "metadata": {},
   "outputs": [],
   "source": [
    "interactions_sample['tracks_cnt'] = \\\n",
    "    interactions_sample.groupby('user_id')['track_id'].transform('nunique')\n",
    "interactions_sample['users_cnt'] = \\\n",
    "    interactions_sample.groupby('track_id')['user_id'].transform('nunique')\n",
    "\n",
    "# фильтруем тех, кто редко что-то слушает\n",
    "interactions_sample.query(\"tracks_cnt >= 2\", inplace=True)\n",
    "# фильтруем непопулярные треки \n",
    "interactions_sample.query(\"users_cnt > 0\", inplace=True)"
   ]
  },
  {
   "cell_type": "markdown",
   "id": "0f23ed50",
   "metadata": {},
   "source": [
    "### Обработка треков"
   ]
  },
  {
   "cell_type": "code",
   "execution_count": 2,
   "id": "71e897a2",
   "metadata": {},
   "outputs": [],
   "source": [
    "tracks = pd.read_parquet(\"data/tracks.parquet\")\n",
    "catalog_names = pd.read_parquet(\"data/catalog_names.parquet\")"
   ]
  },
  {
   "cell_type": "code",
   "execution_count": 3,
   "id": "b2bac3ca",
   "metadata": {},
   "outputs": [
    {
     "data": {
      "text/html": [
       "<div>\n",
       "<style scoped>\n",
       "    .dataframe tbody tr th:only-of-type {\n",
       "        vertical-align: middle;\n",
       "    }\n",
       "\n",
       "    .dataframe tbody tr th {\n",
       "        vertical-align: top;\n",
       "    }\n",
       "\n",
       "    .dataframe thead th {\n",
       "        text-align: right;\n",
       "    }\n",
       "</style>\n",
       "<table border=\"1\" class=\"dataframe\">\n",
       "  <thead>\n",
       "    <tr style=\"text-align: right;\">\n",
       "      <th></th>\n",
       "      <th>id</th>\n",
       "      <th>type</th>\n",
       "      <th>name</th>\n",
       "    </tr>\n",
       "  </thead>\n",
       "  <tbody>\n",
       "    <tr>\n",
       "      <th>0</th>\n",
       "      <td>3</td>\n",
       "      <td>album</td>\n",
       "      <td>Taller Children</td>\n",
       "    </tr>\n",
       "    <tr>\n",
       "      <th>1</th>\n",
       "      <td>12</td>\n",
       "      <td>album</td>\n",
       "      <td>Wild Young Hearts</td>\n",
       "    </tr>\n",
       "    <tr>\n",
       "      <th>2</th>\n",
       "      <td>13</td>\n",
       "      <td>album</td>\n",
       "      <td>Lonesome Crow</td>\n",
       "    </tr>\n",
       "    <tr>\n",
       "      <th>3</th>\n",
       "      <td>17</td>\n",
       "      <td>album</td>\n",
       "      <td>Graffiti Soul</td>\n",
       "    </tr>\n",
       "    <tr>\n",
       "      <th>4</th>\n",
       "      <td>26</td>\n",
       "      <td>album</td>\n",
       "      <td>Blues Six Pack</td>\n",
       "    </tr>\n",
       "  </tbody>\n",
       "</table>\n",
       "</div>"
      ],
      "text/plain": [
       "   id   type               name\n",
       "0   3  album    Taller Children\n",
       "1  12  album  Wild Young Hearts\n",
       "2  13  album      Lonesome Crow\n",
       "3  17  album      Graffiti Soul\n",
       "4  26  album     Blues Six Pack"
      ]
     },
     "execution_count": 3,
     "metadata": {},
     "output_type": "execute_result"
    }
   ],
   "source": [
    "catalog_names.head()"
   ]
  },
  {
   "cell_type": "code",
   "execution_count": 4,
   "id": "9f9d27e2",
   "metadata": {},
   "outputs": [
    {
     "data": {
      "text/html": [
       "<div>\n",
       "<style scoped>\n",
       "    .dataframe tbody tr th:only-of-type {\n",
       "        vertical-align: middle;\n",
       "    }\n",
       "\n",
       "    .dataframe tbody tr th {\n",
       "        vertical-align: top;\n",
       "    }\n",
       "\n",
       "    .dataframe thead th {\n",
       "        text-align: right;\n",
       "    }\n",
       "</style>\n",
       "<table border=\"1\" class=\"dataframe\">\n",
       "  <thead>\n",
       "    <tr style=\"text-align: right;\">\n",
       "      <th></th>\n",
       "      <th>track_id</th>\n",
       "      <th>albums</th>\n",
       "      <th>artists</th>\n",
       "      <th>genres</th>\n",
       "    </tr>\n",
       "  </thead>\n",
       "  <tbody>\n",
       "    <tr>\n",
       "      <th>0</th>\n",
       "      <td>26</td>\n",
       "      <td>[3, 2490753]</td>\n",
       "      <td>[16]</td>\n",
       "      <td>[11, 21]</td>\n",
       "    </tr>\n",
       "    <tr>\n",
       "      <th>1</th>\n",
       "      <td>38</td>\n",
       "      <td>[3, 2490753]</td>\n",
       "      <td>[16]</td>\n",
       "      <td>[11, 21]</td>\n",
       "    </tr>\n",
       "    <tr>\n",
       "      <th>2</th>\n",
       "      <td>135</td>\n",
       "      <td>[12, 214, 2490809]</td>\n",
       "      <td>[84]</td>\n",
       "      <td>[11]</td>\n",
       "    </tr>\n",
       "    <tr>\n",
       "      <th>3</th>\n",
       "      <td>136</td>\n",
       "      <td>[12, 214, 2490809]</td>\n",
       "      <td>[84]</td>\n",
       "      <td>[11]</td>\n",
       "    </tr>\n",
       "    <tr>\n",
       "      <th>4</th>\n",
       "      <td>138</td>\n",
       "      <td>[12, 214, 322, 72275, 72292, 91199, 213505, 24...</td>\n",
       "      <td>[84]</td>\n",
       "      <td>[11]</td>\n",
       "    </tr>\n",
       "  </tbody>\n",
       "</table>\n",
       "</div>"
      ],
      "text/plain": [
       "   track_id                                             albums artists  \\\n",
       "0        26                                       [3, 2490753]    [16]   \n",
       "1        38                                       [3, 2490753]    [16]   \n",
       "2       135                                 [12, 214, 2490809]    [84]   \n",
       "3       136                                 [12, 214, 2490809]    [84]   \n",
       "4       138  [12, 214, 322, 72275, 72292, 91199, 213505, 24...    [84]   \n",
       "\n",
       "     genres  \n",
       "0  [11, 21]  \n",
       "1  [11, 21]  \n",
       "2      [11]  \n",
       "3      [11]  \n",
       "4      [11]  "
      ]
     },
     "execution_count": 4,
     "metadata": {},
     "output_type": "execute_result"
    }
   ],
   "source": [
    "tracks.head()"
   ]
  },
  {
   "cell_type": "code",
   "execution_count": 5,
   "id": "e93745bd",
   "metadata": {},
   "outputs": [],
   "source": [
    "# обрежем количество для упрощения вычислений\n",
    "tracks['genres'] = tracks.genres.apply(lambda x: x[:2])\n",
    "tracks['artists'] = tracks.artists.apply(lambda x: x[:2])\n",
    "tracks['albums'] = tracks.albums.apply(lambda x: x[:2])"
   ]
  },
  {
   "cell_type": "markdown",
   "id": "ca482e96",
   "metadata": {},
   "source": [
    "Формируем датафрейм с перенумерованными жанрами исполнителей и словариками "
   ]
  },
  {
   "cell_type": "code",
   "execution_count": 6,
   "id": "130edae5",
   "metadata": {},
   "outputs": [],
   "source": [
    "tracks[['genre_1', 'genre_2']] = tracks.genres.apply(pd.Series)\n",
    "tracks[['artist_1', 'artist_2']] = tracks.artists.apply(pd.Series)\n",
    "tracks[['album_1', 'album_2']] = tracks.albums.apply(pd.Series)"
   ]
  },
  {
   "cell_type": "code",
   "execution_count": 9,
   "id": "5d896e04",
   "metadata": {},
   "outputs": [],
   "source": [
    "genres = pd.DataFrame(tracks['genres'].explode().value_counts()).reset_index()\n",
    "genre_id_mapping = {genre: idx for idx, genre in enumerate(genres['genres'])}\n",
    "\n",
    "artists = pd.DataFrame(tracks['artists'].explode().value_counts()).reset_index()\n",
    "artist_id_mapping = {artist: idx for idx, artist in enumerate(artists['artists'])}\n",
    "\n",
    "albums = pd.DataFrame(tracks['albums'].explode().value_counts()).reset_index()\n",
    "album_id_mapping = {album: idx for idx, album in enumerate(albums['albums'])}"
   ]
  },
  {
   "cell_type": "code",
   "execution_count": 10,
   "id": "81033bf2",
   "metadata": {},
   "outputs": [],
   "source": [
    "def get_dict_mapping(x, name_type, id_mapping):\n",
    "    if x[f'{name_type}_1'] != 'None' and x[f'{name_type}_2'] != 'None':\n",
    "        return { \n",
    "                id_mapping[x[f'{name_type}_1']]: x[f'{name_type}_name_1'], \n",
    "                id_mapping[x[f'{name_type}_2']]: x[f'{name_type}_name_2']\n",
    "            }\n",
    "    elif x[f'{name_type}_1'] != 'None':\n",
    "        return { \n",
    "                id_mapping[x[f'{name_type}_1']]: x[f'{name_type}_name_1']\n",
    "            }\n",
    "    elif x[f'{name_type}_2'] != 'None':\n",
    "        return { \n",
    "                id_mapping[x[f'{name_type}_2']]: x[f'{name_type}_name_2']\n",
    "            }\n",
    "    else:\n",
    "        return {}"
   ]
  },
  {
   "cell_type": "code",
   "execution_count": 11,
   "id": "36b3986a",
   "metadata": {},
   "outputs": [
    {
     "name": "stdout",
     "output_type": "stream",
     "text": [
      "['track', 'album', 'artist', 'genre']\n"
     ]
    }
   ],
   "source": [
    "tracks_tmp = tracks.copy()\n",
    "name_types = list(catalog_names['type'].value_counts().index)\n",
    "print(name_types)\n",
    "\n",
    "for name_type in name_types:\n",
    "    if name_type == 'track':\n",
    "        tracks_tmp = pd.merge(\n",
    "            tracks_tmp,\n",
    "            catalog_names.query(\n",
    "                f\"type == '{name_type}'\"\n",
    "                )[['id', 'name']].rename(\n",
    "                    columns={'name': f'{name_type}_name'}\n",
    "                    ),\n",
    "            left_on=f'track_id',\n",
    "            right_on='id'\n",
    "        ).drop(['id'], axis=1)\n",
    "    else:\n",
    "        for num in ['1', '2']:\n",
    "            tracks_tmp = pd.merge(\n",
    "                tracks_tmp,\n",
    "                catalog_names.query(\n",
    "                    f\"type == '{name_type}'\"\n",
    "                    )[['id', 'name']].rename(\n",
    "                        columns={'name': f'{name_type}_name_{num}'}\n",
    "                        ),\n",
    "                left_on=f'{name_type}_{num}',\n",
    "                right_on='id',\n",
    "                how='left'\n",
    "            ).drop(['id'], axis=1)\n",
    "\n",
    "        if name_type == 'genre':\n",
    "            id_mapping = genre_id_mapping.copy()\n",
    "        elif name_type == 'artist':\n",
    "            id_mapping = artist_id_mapping.copy()\n",
    "        elif name_type == 'album':\n",
    "            id_mapping = album_id_mapping.copy()\n",
    "\n",
    "        tracks_tmp[f'{name_type}s'] = tracks_tmp.fillna('None').apply(\n",
    "            lambda x: get_dict_mapping(x, name_type, id_mapping), axis=1\n",
    "        ).astype(str)\n",
    "        "
   ]
  },
  {
   "cell_type": "code",
   "execution_count": 12,
   "id": "02ead7b7",
   "metadata": {},
   "outputs": [
    {
     "data": {
      "text/html": [
       "<div>\n",
       "<style scoped>\n",
       "    .dataframe tbody tr th:only-of-type {\n",
       "        vertical-align: middle;\n",
       "    }\n",
       "\n",
       "    .dataframe tbody tr th {\n",
       "        vertical-align: top;\n",
       "    }\n",
       "\n",
       "    .dataframe thead th {\n",
       "        text-align: right;\n",
       "    }\n",
       "</style>\n",
       "<table border=\"1\" class=\"dataframe\">\n",
       "  <thead>\n",
       "    <tr style=\"text-align: right;\">\n",
       "      <th></th>\n",
       "      <th>track_id</th>\n",
       "      <th>albums</th>\n",
       "      <th>artists</th>\n",
       "      <th>genres</th>\n",
       "      <th>track_name</th>\n",
       "    </tr>\n",
       "  </thead>\n",
       "  <tbody>\n",
       "    <tr>\n",
       "      <th>0</th>\n",
       "      <td>26</td>\n",
       "      <td>{158401: 'Taller Children', 158386: 'Taller Ch...</td>\n",
       "      <td>{66830: 'Elizabeth &amp; the Catapult'}</td>\n",
       "      <td>{0: 'pop', 13: 'folk'}</td>\n",
       "      <td>Complimentary Me</td>\n",
       "    </tr>\n",
       "    <tr>\n",
       "      <th>1</th>\n",
       "      <td>38</td>\n",
       "      <td>{158401: 'Taller Children', 158386: 'Taller Ch...</td>\n",
       "      <td>{66830: 'Elizabeth &amp; the Catapult'}</td>\n",
       "      <td>{0: 'pop', 13: 'folk'}</td>\n",
       "      <td>Momma's Boy</td>\n",
       "    </tr>\n",
       "    <tr>\n",
       "      <th>2</th>\n",
       "      <td>135</td>\n",
       "      <td>{39144: 'Wild Young Hearts', 39140: 'Wild Youn...</td>\n",
       "      <td>{16729: 'Noisettes'}</td>\n",
       "      <td>{0: 'pop'}</td>\n",
       "      <td>Atticus</td>\n",
       "    </tr>\n",
       "    <tr>\n",
       "      <th>3</th>\n",
       "      <td>136</td>\n",
       "      <td>{39144: 'Wild Young Hearts', 39140: 'Wild Youn...</td>\n",
       "      <td>{16729: 'Noisettes'}</td>\n",
       "      <td>{0: 'pop'}</td>\n",
       "      <td>24 Hours</td>\n",
       "    </tr>\n",
       "    <tr>\n",
       "      <th>4</th>\n",
       "      <td>138</td>\n",
       "      <td>{39144: 'Wild Young Hearts', 39140: 'Wild Youn...</td>\n",
       "      <td>{16729: 'Noisettes'}</td>\n",
       "      <td>{0: 'pop'}</td>\n",
       "      <td>Don't Upset The Rhythm (Go Baby Go)</td>\n",
       "    </tr>\n",
       "  </tbody>\n",
       "</table>\n",
       "</div>"
      ],
      "text/plain": [
       "   track_id                                             albums  \\\n",
       "0        26  {158401: 'Taller Children', 158386: 'Taller Ch...   \n",
       "1        38  {158401: 'Taller Children', 158386: 'Taller Ch...   \n",
       "2       135  {39144: 'Wild Young Hearts', 39140: 'Wild Youn...   \n",
       "3       136  {39144: 'Wild Young Hearts', 39140: 'Wild Youn...   \n",
       "4       138  {39144: 'Wild Young Hearts', 39140: 'Wild Youn...   \n",
       "\n",
       "                               artists                  genres  \\\n",
       "0  {66830: 'Elizabeth & the Catapult'}  {0: 'pop', 13: 'folk'}   \n",
       "1  {66830: 'Elizabeth & the Catapult'}  {0: 'pop', 13: 'folk'}   \n",
       "2                 {16729: 'Noisettes'}              {0: 'pop'}   \n",
       "3                 {16729: 'Noisettes'}              {0: 'pop'}   \n",
       "4                 {16729: 'Noisettes'}              {0: 'pop'}   \n",
       "\n",
       "                            track_name  \n",
       "0                     Complimentary Me  \n",
       "1                          Momma's Boy  \n",
       "2                              Atticus  \n",
       "3                             24 Hours  \n",
       "4  Don't Upset The Rhythm (Go Baby Go)  "
      ]
     },
     "execution_count": 12,
     "metadata": {},
     "output_type": "execute_result"
    }
   ],
   "source": [
    "tracks_tmp[['track_id', 'albums', 'artists', 'genres', 'track_name']].head(5)"
   ]
  },
  {
   "cell_type": "code",
   "execution_count": 13,
   "id": "45750f36",
   "metadata": {},
   "outputs": [
    {
     "data": {
      "text/plain": [
       "track_id       int64\n",
       "albums        object\n",
       "artists       object\n",
       "genres        object\n",
       "track_name    object\n",
       "dtype: object"
      ]
     },
     "execution_count": 13,
     "metadata": {},
     "output_type": "execute_result"
    }
   ],
   "source": [
    "tracks_tmp[['track_id', 'albums', 'artists', 'genres', 'track_name']].dtypes"
   ]
  },
  {
   "cell_type": "code",
   "execution_count": 14,
   "id": "af2d00e3",
   "metadata": {},
   "outputs": [
    {
     "data": {
      "text/plain": [
       "(1000000, 17)"
      ]
     },
     "execution_count": 14,
     "metadata": {},
     "output_type": "execute_result"
    }
   ],
   "source": [
    "tracks_tmp.shape"
   ]
  },
  {
   "cell_type": "markdown",
   "id": "4d1be653-eed8-4fa0-a9c5-3811b080d71d",
   "metadata": {},
   "source": [
    "# Сохранение данных"
   ]
  },
  {
   "cell_type": "markdown",
   "id": "36f1314a-3af3-4faf-a0b1-3045173d1500",
   "metadata": {},
   "source": [
    "Сохраним данные в двух файлах в персональном S3-бакете по пути `recsys/data/`:\n",
    "- `items.parquet` — все данные о музыкальных треках,\n",
    "- `events.parquet` — все данные о взаимодействиях."
   ]
  },
  {
   "cell_type": "code",
   "execution_count": 21,
   "id": "9f77af17-7705-4fae-9aad-db579b39faad",
   "metadata": {},
   "outputs": [],
   "source": [
    "interactions.rename(columns={'track_id': 'item_id'}).to_parquet('data/events.parquet', index=False)"
   ]
  },
  {
   "cell_type": "code",
   "execution_count": 35,
   "id": "372860a1",
   "metadata": {},
   "outputs": [],
   "source": [
    "interactions_sample.rename(\n",
    "    columns={'track_id': 'item_id'}\n",
    "    ).to_parquet('data/events_sample.parquet', index=False)"
   ]
  },
  {
   "cell_type": "code",
   "execution_count": 15,
   "id": "009fcc27",
   "metadata": {},
   "outputs": [],
   "source": [
    "tracks_tmp.rename(\n",
    "    columns={'track_id': 'item_id'}\n",
    "    ).to_parquet('data/items.parquet', index=False)"
   ]
  },
  {
   "cell_type": "code",
   "execution_count": 17,
   "id": "c8eeab4f",
   "metadata": {},
   "outputs": [],
   "source": [
    "tracks_tmp[['track_id', 'albums', 'artists', 'genres', 'track_name']].rename(\n",
    "    columns={'track_id': 'item_id'}\n",
    ").to_parquet('data/items_sample.parquet', index=False)"
   ]
  },
  {
   "cell_type": "code",
   "execution_count": 4,
   "id": "a7b1c739",
   "metadata": {},
   "outputs": [],
   "source": [
    "import boto3\n",
    "import os\n",
    " \n",
    "def get_session_student():\n",
    "    session = boto3.session.Session()\n",
    " \n",
    "    return session.client(\n",
    "        service_name='s3',\n",
    "        endpoint_url='https://storage.yandexcloud.net',\n",
    "        aws_access_key_id=os.getenv(\"AWS_ACCESS_KEY_ID\"),\n",
    "        aws_secret_access_key=os.getenv(\"AWS_SECRET_ACCESS_KEY\")\n",
    "    )\n",
    " \n",
    "s3 = get_session_student()\n",
    "bucket_name = os.getenv(\"S3_BUCKET_NAME\")\n",
    " \n",
    "s3.upload_file(\"data/items.parquet\", bucket_name, 'recsys/data/items.parquet')\n",
    "s3.upload_file(\"data/events.parquet\", bucket_name, 'recsys/data/events.parquet')"
   ]
  },
  {
   "cell_type": "markdown",
   "id": "72ecbbed-c560-44d9-9c14-86c7dc76f399",
   "metadata": {},
   "source": [
    "# Очистка памяти"
   ]
  },
  {
   "cell_type": "markdown",
   "id": "b5358ede-ba6e-4c4f-bd73-5b9344f0ba79",
   "metadata": {},
   "source": [
    "Здесь, может понадобится очистка памяти для высвобождения ресурсов для выполнения кода ниже. \n",
    "\n",
    "Приведите соответствующие код, комментарии, например:\n",
    "- код для удаление более ненужных переменных,\n",
    "- комментарий, что следует перезапустить kernel, выполнить такие-то начальные секции и продолжить с этапа 3."
   ]
  },
  {
   "cell_type": "code",
   "execution_count": null,
   "id": "767fe920-e12e-4ad8-b04e-56e8091fac9f",
   "metadata": {},
   "outputs": [],
   "source": []
  },
  {
   "cell_type": "markdown",
   "id": "708503df-ee89-4cf3-8489-093dc478e2a8",
   "metadata": {},
   "source": [
    "# === ЭТАП 3 ==="
   ]
  },
  {
   "cell_type": "markdown",
   "id": "fd77de22-e10f-4b42-85c1-8fb6f805fe68",
   "metadata": {},
   "source": [
    "# Загрузка данных"
   ]
  },
  {
   "cell_type": "markdown",
   "id": "780a4241-1ecd-4a3e-bbb3-fc2f6ca94f68",
   "metadata": {},
   "source": [
    "Если необходимо, то загружаем items.parquet, events.parquet."
   ]
  },
  {
   "cell_type": "code",
   "execution_count": 2,
   "id": "f19fc8a5-bd2c-40d7-864a-ee75aca6d512",
   "metadata": {},
   "outputs": [],
   "source": [
    "import logging\n",
    "\n",
    "import matplotlib.pyplot as plt\n",
    "import numpy as np\n",
    "import pandas as pd\n",
    "\n",
    "import datetime\n",
    "import uuid\n",
    "import pickle\n",
    "\n",
    "import scipy\n",
    "import sklearn.preprocessing"
   ]
  },
  {
   "cell_type": "code",
   "execution_count": 3,
   "id": "5db1e801-5845-4ce3-86f2-c2fa30f68cc5",
   "metadata": {},
   "outputs": [],
   "source": [
    "events = pd.read_parquet('data/events_sample.parquet')\n",
    "items = pd.read_parquet('data/items_sample.parquet')"
   ]
  },
  {
   "cell_type": "code",
   "execution_count": 4,
   "id": "1c0bedf4",
   "metadata": {},
   "outputs": [
    {
     "data": {
      "text/html": [
       "<div>\n",
       "<style scoped>\n",
       "    .dataframe tbody tr th:only-of-type {\n",
       "        vertical-align: middle;\n",
       "    }\n",
       "\n",
       "    .dataframe tbody tr th {\n",
       "        vertical-align: top;\n",
       "    }\n",
       "\n",
       "    .dataframe thead th {\n",
       "        text-align: right;\n",
       "    }\n",
       "</style>\n",
       "<table border=\"1\" class=\"dataframe\">\n",
       "  <thead>\n",
       "    <tr style=\"text-align: right;\">\n",
       "      <th></th>\n",
       "      <th>user_id</th>\n",
       "      <th>item_id</th>\n",
       "      <th>track_seq</th>\n",
       "      <th>started_at</th>\n",
       "      <th>tracks_cnt</th>\n",
       "      <th>users_cnt</th>\n",
       "    </tr>\n",
       "  </thead>\n",
       "  <tbody>\n",
       "    <tr>\n",
       "      <th>0</th>\n",
       "      <td>1000000</td>\n",
       "      <td>25973493</td>\n",
       "      <td>1</td>\n",
       "      <td>2022-06-25</td>\n",
       "      <td>5</td>\n",
       "      <td>36</td>\n",
       "    </tr>\n",
       "    <tr>\n",
       "      <th>1</th>\n",
       "      <td>1000000</td>\n",
       "      <td>31763491</td>\n",
       "      <td>2</td>\n",
       "      <td>2022-06-26</td>\n",
       "      <td>5</td>\n",
       "      <td>489</td>\n",
       "    </tr>\n",
       "    <tr>\n",
       "      <th>2</th>\n",
       "      <td>1000000</td>\n",
       "      <td>34685697</td>\n",
       "      <td>3</td>\n",
       "      <td>2022-07-03</td>\n",
       "      <td>5</td>\n",
       "      <td>18</td>\n",
       "    </tr>\n",
       "    <tr>\n",
       "      <th>3</th>\n",
       "      <td>1000000</td>\n",
       "      <td>41554596</td>\n",
       "      <td>4</td>\n",
       "      <td>2022-07-14</td>\n",
       "      <td>5</td>\n",
       "      <td>131</td>\n",
       "    </tr>\n",
       "    <tr>\n",
       "      <th>4</th>\n",
       "      <td>1000000</td>\n",
       "      <td>77549332</td>\n",
       "      <td>5</td>\n",
       "      <td>2022-07-22</td>\n",
       "      <td>5</td>\n",
       "      <td>380</td>\n",
       "    </tr>\n",
       "  </tbody>\n",
       "</table>\n",
       "</div>"
      ],
      "text/plain": [
       "   user_id   item_id  track_seq started_at  tracks_cnt  users_cnt\n",
       "0  1000000  25973493          1 2022-06-25           5         36\n",
       "1  1000000  31763491          2 2022-06-26           5        489\n",
       "2  1000000  34685697          3 2022-07-03           5         18\n",
       "3  1000000  41554596          4 2022-07-14           5        131\n",
       "4  1000000  77549332          5 2022-07-22           5        380"
      ]
     },
     "execution_count": 4,
     "metadata": {},
     "output_type": "execute_result"
    }
   ],
   "source": [
    "events.query('user_id == 1000000')"
   ]
  },
  {
   "cell_type": "code",
   "execution_count": 5,
   "id": "23035464",
   "metadata": {},
   "outputs": [
    {
     "data": {
      "text/html": [
       "<div>\n",
       "<style scoped>\n",
       "    .dataframe tbody tr th:only-of-type {\n",
       "        vertical-align: middle;\n",
       "    }\n",
       "\n",
       "    .dataframe tbody tr th {\n",
       "        vertical-align: top;\n",
       "    }\n",
       "\n",
       "    .dataframe thead th {\n",
       "        text-align: right;\n",
       "    }\n",
       "</style>\n",
       "<table border=\"1\" class=\"dataframe\">\n",
       "  <thead>\n",
       "    <tr style=\"text-align: right;\">\n",
       "      <th></th>\n",
       "      <th>item_id</th>\n",
       "      <th>albums</th>\n",
       "      <th>artists</th>\n",
       "      <th>genres</th>\n",
       "      <th>track_name</th>\n",
       "      <th>item_id_enc</th>\n",
       "    </tr>\n",
       "  </thead>\n",
       "  <tbody>\n",
       "    <tr>\n",
       "      <th>0</th>\n",
       "      <td>26</td>\n",
       "      <td>{158401: 'Taller Children', 158386: 'Taller Ch...</td>\n",
       "      <td>{66830: 'Elizabeth &amp; the Catapult'}</td>\n",
       "      <td>{0: 'pop', 13: 'folk'}</td>\n",
       "      <td>Complimentary Me</td>\n",
       "      <td>0</td>\n",
       "    </tr>\n",
       "    <tr>\n",
       "      <th>1</th>\n",
       "      <td>38</td>\n",
       "      <td>{158401: 'Taller Children', 158386: 'Taller Ch...</td>\n",
       "      <td>{66830: 'Elizabeth &amp; the Catapult'}</td>\n",
       "      <td>{0: 'pop', 13: 'folk'}</td>\n",
       "      <td>Momma's Boy</td>\n",
       "      <td>1</td>\n",
       "    </tr>\n",
       "    <tr>\n",
       "      <th>2</th>\n",
       "      <td>135</td>\n",
       "      <td>{39144: 'Wild Young Hearts', 39140: 'Wild Youn...</td>\n",
       "      <td>{16729: 'Noisettes'}</td>\n",
       "      <td>{0: 'pop'}</td>\n",
       "      <td>Atticus</td>\n",
       "      <td>2</td>\n",
       "    </tr>\n",
       "    <tr>\n",
       "      <th>3</th>\n",
       "      <td>136</td>\n",
       "      <td>{39144: 'Wild Young Hearts', 39140: 'Wild Youn...</td>\n",
       "      <td>{16729: 'Noisettes'}</td>\n",
       "      <td>{0: 'pop'}</td>\n",
       "      <td>24 Hours</td>\n",
       "      <td>3</td>\n",
       "    </tr>\n",
       "    <tr>\n",
       "      <th>4</th>\n",
       "      <td>138</td>\n",
       "      <td>{39144: 'Wild Young Hearts', 39140: 'Wild Youn...</td>\n",
       "      <td>{16729: 'Noisettes'}</td>\n",
       "      <td>{0: 'pop'}</td>\n",
       "      <td>Don't Upset The Rhythm (Go Baby Go)</td>\n",
       "      <td>4</td>\n",
       "    </tr>\n",
       "  </tbody>\n",
       "</table>\n",
       "</div>"
      ],
      "text/plain": [
       "   item_id                                             albums  \\\n",
       "0       26  {158401: 'Taller Children', 158386: 'Taller Ch...   \n",
       "1       38  {158401: 'Taller Children', 158386: 'Taller Ch...   \n",
       "2      135  {39144: 'Wild Young Hearts', 39140: 'Wild Youn...   \n",
       "3      136  {39144: 'Wild Young Hearts', 39140: 'Wild Youn...   \n",
       "4      138  {39144: 'Wild Young Hearts', 39140: 'Wild Youn...   \n",
       "\n",
       "                               artists                  genres  \\\n",
       "0  {66830: 'Elizabeth & the Catapult'}  {0: 'pop', 13: 'folk'}   \n",
       "1  {66830: 'Elizabeth & the Catapult'}  {0: 'pop', 13: 'folk'}   \n",
       "2                 {16729: 'Noisettes'}              {0: 'pop'}   \n",
       "3                 {16729: 'Noisettes'}              {0: 'pop'}   \n",
       "4                 {16729: 'Noisettes'}              {0: 'pop'}   \n",
       "\n",
       "                            track_name  item_id_enc  \n",
       "0                     Complimentary Me            0  \n",
       "1                          Momma's Boy            1  \n",
       "2                              Atticus            2  \n",
       "3                             24 Hours            3  \n",
       "4  Don't Upset The Rhythm (Go Baby Go)            4  "
      ]
     },
     "execution_count": 5,
     "metadata": {},
     "output_type": "execute_result"
    }
   ],
   "source": [
    "items.head()"
   ]
  },
  {
   "cell_type": "code",
   "execution_count": 5,
   "id": "3a90fbdc",
   "metadata": {},
   "outputs": [],
   "source": [
    "users_per_tracks = events.groupby('item_id', as_index=False).agg(\n",
    "   users=(\"user_id\", \"nunique\")\n",
    ")\n",
    "users_per_tracks.sort_values(by='users', ascending=False, inplace=True)\n",
    "\n",
    "popular_tracks = pd.merge(\n",
    "    users_per_tracks, \n",
    "    items, \n",
    "    left_on='item_id', \n",
    "    right_on='item_id',\n",
    "    how='left'\n",
    ")\n",
    "popular_tracks.to_parquet('data/popular_tracks.parquet', index=False)"
   ]
  },
  {
   "cell_type": "code",
   "execution_count": 6,
   "id": "459c563d",
   "metadata": {},
   "outputs": [
    {
     "data": {
      "text/html": [
       "<div>\n",
       "<style scoped>\n",
       "    .dataframe tbody tr th:only-of-type {\n",
       "        vertical-align: middle;\n",
       "    }\n",
       "\n",
       "    .dataframe tbody tr th {\n",
       "        vertical-align: top;\n",
       "    }\n",
       "\n",
       "    .dataframe thead th {\n",
       "        text-align: right;\n",
       "    }\n",
       "</style>\n",
       "<table border=\"1\" class=\"dataframe\">\n",
       "  <thead>\n",
       "    <tr style=\"text-align: right;\">\n",
       "      <th></th>\n",
       "      <th>item_id</th>\n",
       "      <th>users</th>\n",
       "      <th>albums</th>\n",
       "      <th>artists</th>\n",
       "      <th>genres</th>\n",
       "      <th>track_name</th>\n",
       "    </tr>\n",
       "  </thead>\n",
       "  <tbody>\n",
       "    <tr>\n",
       "      <th>0</th>\n",
       "      <td>53404</td>\n",
       "      <td>11072</td>\n",
       "      <td>{18077: 'Nevermind', 26411: 'Nirvana'}</td>\n",
       "      <td>{37: 'Nirvana'}</td>\n",
       "      <td>{10: 'alternative', 7: 'rock'}</td>\n",
       "      <td>Smells Like Teen Spirit</td>\n",
       "    </tr>\n",
       "    <tr>\n",
       "      <th>1</th>\n",
       "      <td>33311009</td>\n",
       "      <td>10489</td>\n",
       "      <td>{25561: 'Shape Of Pop', 11011: \"NOW That's Wha...</td>\n",
       "      <td>{1053: 'Imagine Dragons'}</td>\n",
       "      <td>{7: 'rock', 3: 'allrock'}</td>\n",
       "      <td>Believer</td>\n",
       "    </tr>\n",
       "    <tr>\n",
       "      <th>2</th>\n",
       "      <td>178529</td>\n",
       "      <td>9993</td>\n",
       "      <td>{9745: 'Meteora', 9746: 'Meteora'}</td>\n",
       "      <td>{115: 'Linkin Park'}</td>\n",
       "      <td>{41: 'numetal', 4: 'metal'}</td>\n",
       "      <td>Numb</td>\n",
       "    </tr>\n",
       "    <tr>\n",
       "      <th>3</th>\n",
       "      <td>35505245</td>\n",
       "      <td>9813</td>\n",
       "      <td>{204897: 'I Got Love', 204898: 'I Got Love'}</td>\n",
       "      <td>{1827: 'Miyagi &amp; Эндшпиль', 154: 'Рем Дигга'}</td>\n",
       "      <td>{5: 'rusrap', 1: 'rap'}</td>\n",
       "      <td>I Got Love</td>\n",
       "    </tr>\n",
       "    <tr>\n",
       "      <th>4</th>\n",
       "      <td>65851540</td>\n",
       "      <td>8583</td>\n",
       "      <td>{369727: 'Юность'}</td>\n",
       "      <td>{1013: 'Dabro'}</td>\n",
       "      <td>{0: 'pop', 9: 'ruspop'}</td>\n",
       "      <td>Юность</td>\n",
       "    </tr>\n",
       "    <tr>\n",
       "      <th>...</th>\n",
       "      <td>...</td>\n",
       "      <td>...</td>\n",
       "      <td>...</td>\n",
       "      <td>...</td>\n",
       "      <td>...</td>\n",
       "      <td>...</td>\n",
       "    </tr>\n",
       "    <tr>\n",
       "      <th>791449</th>\n",
       "      <td>101308853</td>\n",
       "      <td>1</td>\n",
       "      <td>{16745: 'Cowboy Tears'}</td>\n",
       "      <td>{3172: 'Oliver Tree'}</td>\n",
       "      <td>{15: 'indie'}</td>\n",
       "      <td>Things We Used To Do</td>\n",
       "    </tr>\n",
       "    <tr>\n",
       "      <th>791450</th>\n",
       "      <td>101144891</td>\n",
       "      <td>1</td>\n",
       "      <td>{158452: 'Роза Дель Валье'}</td>\n",
       "      <td>{78921: 'Jagame', 78920: 'Mendiga'}</td>\n",
       "      <td>{6: 'foreignrap', 1: 'rap'}</td>\n",
       "      <td>Роза Дель Валье</td>\n",
       "    </tr>\n",
       "    <tr>\n",
       "      <th>791451</th>\n",
       "      <td>101152036</td>\n",
       "      <td>1</td>\n",
       "      <td>{158454: 'Shot Me Down'}</td>\n",
       "      <td>{47682: 'Miyagi'}</td>\n",
       "      <td>{6: 'foreignrap', 1: 'rap'}</td>\n",
       "      <td>Shot Me Down</td>\n",
       "    </tr>\n",
       "    <tr>\n",
       "      <th>791452</th>\n",
       "      <td>101188615</td>\n",
       "      <td>1</td>\n",
       "      <td>{158442: 'Она моя'}</td>\n",
       "      <td>{12431: 'Эрнест Геворгян'}</td>\n",
       "      <td>{0: 'pop'}</td>\n",
       "      <td>Она моя</td>\n",
       "    </tr>\n",
       "    <tr>\n",
       "      <th>791453</th>\n",
       "      <td>587</td>\n",
       "      <td>1</td>\n",
       "      <td>{158394: 'Classic Rock'}</td>\n",
       "      <td>{66831: 'The International Classic Rock Orches...</td>\n",
       "      <td>{7: 'rock', 3: 'allrock'}</td>\n",
       "      <td>Smells Like Teen Spirit</td>\n",
       "    </tr>\n",
       "  </tbody>\n",
       "</table>\n",
       "<p>791454 rows × 6 columns</p>\n",
       "</div>"
      ],
      "text/plain": [
       "          item_id  users                                             albums  \\\n",
       "0           53404  11072             {18077: 'Nevermind', 26411: 'Nirvana'}   \n",
       "1        33311009  10489  {25561: 'Shape Of Pop', 11011: \"NOW That's Wha...   \n",
       "2          178529   9993                 {9745: 'Meteora', 9746: 'Meteora'}   \n",
       "3        35505245   9813       {204897: 'I Got Love', 204898: 'I Got Love'}   \n",
       "4        65851540   8583                                 {369727: 'Юность'}   \n",
       "...           ...    ...                                                ...   \n",
       "791449  101308853      1                            {16745: 'Cowboy Tears'}   \n",
       "791450  101144891      1                        {158452: 'Роза Дель Валье'}   \n",
       "791451  101152036      1                           {158454: 'Shot Me Down'}   \n",
       "791452  101188615      1                                {158442: 'Она моя'}   \n",
       "791453        587      1                           {158394: 'Classic Rock'}   \n",
       "\n",
       "                                                  artists  \\\n",
       "0                                         {37: 'Nirvana'}   \n",
       "1                               {1053: 'Imagine Dragons'}   \n",
       "2                                    {115: 'Linkin Park'}   \n",
       "3           {1827: 'Miyagi & Эндшпиль', 154: 'Рем Дигга'}   \n",
       "4                                         {1013: 'Dabro'}   \n",
       "...                                                   ...   \n",
       "791449                              {3172: 'Oliver Tree'}   \n",
       "791450                {78921: 'Jagame', 78920: 'Mendiga'}   \n",
       "791451                                  {47682: 'Miyagi'}   \n",
       "791452                         {12431: 'Эрнест Геворгян'}   \n",
       "791453  {66831: 'The International Classic Rock Orches...   \n",
       "\n",
       "                                genres               track_name  \n",
       "0       {10: 'alternative', 7: 'rock'}  Smells Like Teen Spirit  \n",
       "1            {7: 'rock', 3: 'allrock'}                 Believer  \n",
       "2          {41: 'numetal', 4: 'metal'}                     Numb  \n",
       "3              {5: 'rusrap', 1: 'rap'}               I Got Love  \n",
       "4              {0: 'pop', 9: 'ruspop'}                   Юность  \n",
       "...                                ...                      ...  \n",
       "791449                   {15: 'indie'}     Things We Used To Do  \n",
       "791450     {6: 'foreignrap', 1: 'rap'}          Роза Дель Валье  \n",
       "791451     {6: 'foreignrap', 1: 'rap'}             Shot Me Down  \n",
       "791452                      {0: 'pop'}                  Она моя  \n",
       "791453       {7: 'rock', 3: 'allrock'}  Smells Like Teen Spirit  \n",
       "\n",
       "[791454 rows x 6 columns]"
      ]
     },
     "execution_count": 6,
     "metadata": {},
     "output_type": "execute_result"
    }
   ],
   "source": [
    "popular_tracks"
   ]
  },
  {
   "cell_type": "markdown",
   "id": "a694c023-6477-490b-939d-1cfa6f5f1b72",
   "metadata": {},
   "source": [
    "# Разбиение данных"
   ]
  },
  {
   "cell_type": "markdown",
   "id": "fbd5f6e0-54e7-4428-8678-eabce505d82c",
   "metadata": {},
   "source": [
    "Разбиваем данные на тренировочную, тестовую выборки."
   ]
  },
  {
   "cell_type": "code",
   "execution_count": 7,
   "id": "00c2dfa5-d8a2-47d1-922e-6eefee2c62d1",
   "metadata": {},
   "outputs": [
    {
     "name": "stdout",
     "output_type": "stream",
     "text": [
      "1106263 387846 357376\n"
     ]
    }
   ],
   "source": [
    "# зададим точку разбиения\n",
    "train_test_global_time_split_date = pd.to_datetime(\"2022-12-16\")\n",
    "\n",
    "train_test_global_time_split_idx = events[\"started_at\"] < train_test_global_time_split_date\n",
    "events_train = events[train_test_global_time_split_idx]\n",
    "events_test = events[~train_test_global_time_split_idx]\n",
    "\n",
    "# количество пользователей в train и test\n",
    "users_train = events_train[\"user_id\"].drop_duplicates()\n",
    "users_test = events_test[\"user_id\"].drop_duplicates()\n",
    "# количество пользователей, которые есть и в train, и в test\n",
    "common_users = set(users_train)&set(users_test)\n",
    "\n",
    "print(len(users_train), len(users_test), len(common_users))"
   ]
  },
  {
   "cell_type": "code",
   "execution_count": 6,
   "id": "c15d94db",
   "metadata": {},
   "outputs": [],
   "source": [
    "# перекодируем идентификаторы пользователей: \n",
    "# из имеющихся в последовательность 0, 1, 2, ...\n",
    "user_encoder = sklearn.preprocessing.LabelEncoder()\n",
    "user_encoder.fit(events[\"user_id\"])\n",
    "events_train[\"user_id_enc\"] = user_encoder.transform(events_train[\"user_id\"])\n",
    "events_test[\"user_id_enc\"] = user_encoder.transform(events_test[\"user_id\"])\n",
    "\n",
    "# перекодируем идентификаторы объектов: \n",
    "# из имеющихся в последовательность 0, 1, 2, ...\n",
    "item_encoder = sklearn.preprocessing.LabelEncoder()\n",
    "item_encoder.fit(items[\"item_id\"])\n",
    "items[\"item_id_enc\"] = item_encoder.transform(items[\"item_id\"])\n",
    "events_train[\"item_id_enc\"] = item_encoder.transform(events_train[\"item_id\"])\n",
    "events_test[\"item_id_enc\"] = item_encoder.transform(events_test[\"item_id\"])"
   ]
  },
  {
   "cell_type": "code",
   "execution_count": 7,
   "id": "feee658f",
   "metadata": {},
   "outputs": [],
   "source": [
    "assert False\n",
    "events_train.to_parquet('data/events_train.parquet', index=False)\n",
    "events_test.to_parquet('data/events_test.parquet', index=False)\n",
    "items.to_parquet('data/items_sample.parquet', index=False)"
   ]
  },
  {
   "cell_type": "code",
   "execution_count": null,
   "id": "c5fdabd6",
   "metadata": {},
   "outputs": [],
   "source": [
    "assert False\n",
    "with open('user_encoder.pkl', 'wb') as file:\n",
    "    pickle.dump(user_encoder, file)\n",
    "\n",
    "with open('item_encoder.pkl', 'wb') as file:\n",
    "    pickle.dump(item_encoder, file)"
   ]
  },
  {
   "cell_type": "markdown",
   "id": "9131c7e6-8852-4556-b510-51f7253cc299",
   "metadata": {},
   "source": [
    "# Топ популярных"
   ]
  },
  {
   "cell_type": "markdown",
   "id": "dd70d43a-88cc-4719-b291-feaed7136f30",
   "metadata": {},
   "source": [
    "Рассчитаем рекомендации как топ популярных."
   ]
  },
  {
   "cell_type": "code",
   "execution_count": null,
   "id": "3d40c68c",
   "metadata": {},
   "outputs": [],
   "source": [
    "import logging\n",
    "\n",
    "import matplotlib.pyplot as plt\n",
    "import numpy as np\n",
    "import pandas as pd\n",
    "\n",
    "import datetime\n",
    "import uuid\n",
    "\n",
    "import scipy\n",
    "import sklearn.preprocessing"
   ]
  },
  {
   "cell_type": "code",
   "execution_count": 21,
   "id": "2f41b1b6",
   "metadata": {},
   "outputs": [],
   "source": [
    "events_train = pd.read_parquet('data/events_train.parquet')\n",
    "events_test = pd.read_parquet('data/events_test.parquet')\n",
    "items = pd.read_parquet('data/items.parquet')"
   ]
  },
  {
   "cell_type": "code",
   "execution_count": 10,
   "id": "ee45e200-b7d6-4f56-9077-aad431689b96",
   "metadata": {},
   "outputs": [],
   "source": [
    "popular_items = events_train.groupby('item_id', as_index=False).agg(\n",
    "   items_unique=(\"user_id\", \"nunique\")\n",
    ").sort_values(by='items_unique', ascending=False)"
   ]
  },
  {
   "cell_type": "code",
   "execution_count": 11,
   "id": "7690c86f-7aa9-46ed-bba5-2c837626411e",
   "metadata": {},
   "outputs": [],
   "source": [
    "top_k_pop_items = popular_items[:100]"
   ]
  },
  {
   "cell_type": "code",
   "execution_count": 12,
   "id": "daa7807b",
   "metadata": {},
   "outputs": [],
   "source": [
    "top_k_pop_items = pd.merge(\n",
    "    top_k_pop_items,\n",
    "    items, \n",
    "    left_on=\"item_id\",\n",
    "    right_on=\"item_id\",\n",
    "    how=\"left\",\n",
    ")"
   ]
  },
  {
   "cell_type": "code",
   "execution_count": 13,
   "id": "d08767e3",
   "metadata": {},
   "outputs": [
    {
     "data": {
      "text/html": [
       "<div>\n",
       "<style scoped>\n",
       "    .dataframe tbody tr th:only-of-type {\n",
       "        vertical-align: middle;\n",
       "    }\n",
       "\n",
       "    .dataframe tbody tr th {\n",
       "        vertical-align: top;\n",
       "    }\n",
       "\n",
       "    .dataframe thead th {\n",
       "        text-align: right;\n",
       "    }\n",
       "</style>\n",
       "<table border=\"1\" class=\"dataframe\">\n",
       "  <thead>\n",
       "    <tr style=\"text-align: right;\">\n",
       "      <th></th>\n",
       "      <th>item_id</th>\n",
       "      <th>items_unique</th>\n",
       "      <th>albums</th>\n",
       "      <th>artists</th>\n",
       "      <th>genres</th>\n",
       "      <th>track_name</th>\n",
       "      <th>item_id_enc</th>\n",
       "    </tr>\n",
       "  </thead>\n",
       "  <tbody>\n",
       "    <tr>\n",
       "      <th>0</th>\n",
       "      <td>53404</td>\n",
       "      <td>10975</td>\n",
       "      <td>{18077: 'Nevermind', 26411: 'Nirvana'}</td>\n",
       "      <td>{37: 'Nirvana'}</td>\n",
       "      <td>{10: 'alternative', 7: 'rock'}</td>\n",
       "      <td>Smells Like Teen Spirit</td>\n",
       "      <td>9098</td>\n",
       "    </tr>\n",
       "    <tr>\n",
       "      <th>1</th>\n",
       "      <td>33311009</td>\n",
       "      <td>9927</td>\n",
       "      <td>{25561: 'Shape Of Pop', 11011: \"NOW That's Wha...</td>\n",
       "      <td>{1053: 'Imagine Dragons'}</td>\n",
       "      <td>{7: 'rock', 3: 'allrock'}</td>\n",
       "      <td>Believer</td>\n",
       "      <td>483876</td>\n",
       "    </tr>\n",
       "    <tr>\n",
       "      <th>2</th>\n",
       "      <td>178529</td>\n",
       "      <td>9903</td>\n",
       "      <td>{9745: 'Meteora', 9746: 'Meteora'}</td>\n",
       "      <td>{115: 'Linkin Park'}</td>\n",
       "      <td>{41: 'numetal', 4: 'metal'}</td>\n",
       "      <td>Numb</td>\n",
       "      <td>26665</td>\n",
       "    </tr>\n",
       "    <tr>\n",
       "      <th>3</th>\n",
       "      <td>35505245</td>\n",
       "      <td>9445</td>\n",
       "      <td>{204897: 'I Got Love', 204898: 'I Got Love'}</td>\n",
       "      <td>{1827: 'Miyagi &amp; Эндшпиль', 154: 'Рем Дигга'}</td>\n",
       "      <td>{5: 'rusrap', 1: 'rap'}</td>\n",
       "      <td>I Got Love</td>\n",
       "      <td>512157</td>\n",
       "    </tr>\n",
       "    <tr>\n",
       "      <th>4</th>\n",
       "      <td>795836</td>\n",
       "      <td>8249</td>\n",
       "      <td>{35640: \"Ten Summoner's Tales\", 740: '25 Years'}</td>\n",
       "      <td>{109: 'Sting'}</td>\n",
       "      <td>{0: 'pop', 7: 'rock'}</td>\n",
       "      <td>Shape Of My Heart</td>\n",
       "      <td>90461</td>\n",
       "    </tr>\n",
       "  </tbody>\n",
       "</table>\n",
       "</div>"
      ],
      "text/plain": [
       "    item_id  items_unique                                             albums  \\\n",
       "0     53404         10975             {18077: 'Nevermind', 26411: 'Nirvana'}   \n",
       "1  33311009          9927  {25561: 'Shape Of Pop', 11011: \"NOW That's Wha...   \n",
       "2    178529          9903                 {9745: 'Meteora', 9746: 'Meteora'}   \n",
       "3  35505245          9445       {204897: 'I Got Love', 204898: 'I Got Love'}   \n",
       "4    795836          8249   {35640: \"Ten Summoner's Tales\", 740: '25 Years'}   \n",
       "\n",
       "                                         artists  \\\n",
       "0                                {37: 'Nirvana'}   \n",
       "1                      {1053: 'Imagine Dragons'}   \n",
       "2                           {115: 'Linkin Park'}   \n",
       "3  {1827: 'Miyagi & Эндшпиль', 154: 'Рем Дигга'}   \n",
       "4                                 {109: 'Sting'}   \n",
       "\n",
       "                           genres               track_name  item_id_enc  \n",
       "0  {10: 'alternative', 7: 'rock'}  Smells Like Teen Spirit         9098  \n",
       "1       {7: 'rock', 3: 'allrock'}                 Believer       483876  \n",
       "2     {41: 'numetal', 4: 'metal'}                     Numb        26665  \n",
       "3         {5: 'rusrap', 1: 'rap'}               I Got Love       512157  \n",
       "4           {0: 'pop', 7: 'rock'}        Shape Of My Heart        90461  "
      ]
     },
     "metadata": {},
     "output_type": "display_data"
    }
   ],
   "source": [
    "with pd.option_context('display.max_rows', 5):\n",
    "    display(top_k_pop_items[:5])"
   ]
  },
  {
   "cell_type": "code",
   "execution_count": 20,
   "id": "74ece5b3",
   "metadata": {},
   "outputs": [],
   "source": [
    "assert False\n",
    "top_k_pop_items.to_parquet(\"data/top_k_pop_items.parquet\", index=False)"
   ]
  },
  {
   "cell_type": "code",
   "execution_count": 12,
   "id": "d10e72af",
   "metadata": {},
   "outputs": [],
   "source": [
    "top_k_pop_items.reset_index(inplace=True)\n",
    "top_k_pop_items.rename(columns={'index': 'rank'}, inplace=True)\n",
    "top_k_pop_items['rank'] = top_k_pop_items['rank'] + 1"
   ]
  },
  {
   "cell_type": "code",
   "execution_count": null,
   "id": "50fe0f2b",
   "metadata": {},
   "outputs": [],
   "source": []
  },
  {
   "cell_type": "markdown",
   "id": "4479e172",
   "metadata": {},
   "source": [
    "Теперь получим персональные рекомендации для пользователей холодного стартав тестовых данных. "
   ]
  },
  {
   "cell_type": "code",
   "execution_count": 15,
   "id": "852fa579",
   "metadata": {},
   "outputs": [
    {
     "name": "stdout",
     "output_type": "stream",
     "text": [
      "30470\n"
     ]
    }
   ],
   "source": [
    "cold_users = set(users_test)-set(users_train)\n",
    "print(len(cold_users))"
   ]
  },
  {
   "cell_type": "code",
   "execution_count": 16,
   "id": "80e17d0d",
   "metadata": {},
   "outputs": [],
   "source": [
    "cold_users_events_with_recs = pd.merge(\n",
    "    events_test[events_test[\"user_id\"].isin(cold_users)],\n",
    "    top_k_pop_items, \n",
    "    left_on=\"item_id\",\n",
    "    right_on=\"item_id\",\n",
    "    how=\"left\"\n",
    ")"
   ]
  },
  {
   "cell_type": "code",
   "execution_count": 32,
   "id": "848c595e",
   "metadata": {},
   "outputs": [],
   "source": [
    "events_test['key'] = 1\n",
    "top_k_pop_items['key'] = 1"
   ]
  },
  {
   "cell_type": "code",
   "execution_count": 40,
   "id": "f5d647ee",
   "metadata": {},
   "outputs": [],
   "source": [
    "users_events_with_top_recs = pd.merge(\n",
    "    events_test[['user_id']],\n",
    "    top_k_pop_items[['item_id', 'rank']][:10], \n",
    "    how='cross'\n",
    ")"
   ]
  },
  {
   "cell_type": "code",
   "execution_count": 41,
   "id": "a0b58af9",
   "metadata": {},
   "outputs": [
    {
     "data": {
      "text/html": [
       "<div>\n",
       "<style scoped>\n",
       "    .dataframe tbody tr th:only-of-type {\n",
       "        vertical-align: middle;\n",
       "    }\n",
       "\n",
       "    .dataframe tbody tr th {\n",
       "        vertical-align: top;\n",
       "    }\n",
       "\n",
       "    .dataframe thead th {\n",
       "        text-align: right;\n",
       "    }\n",
       "</style>\n",
       "<table border=\"1\" class=\"dataframe\">\n",
       "  <thead>\n",
       "    <tr style=\"text-align: right;\">\n",
       "      <th></th>\n",
       "      <th>user_id</th>\n",
       "      <th>item_id</th>\n",
       "      <th>rank</th>\n",
       "    </tr>\n",
       "  </thead>\n",
       "  <tbody>\n",
       "    <tr>\n",
       "      <th>0</th>\n",
       "      <td>1000006</td>\n",
       "      <td>53404</td>\n",
       "      <td>1</td>\n",
       "    </tr>\n",
       "    <tr>\n",
       "      <th>1</th>\n",
       "      <td>1000006</td>\n",
       "      <td>33311009</td>\n",
       "      <td>2</td>\n",
       "    </tr>\n",
       "    <tr>\n",
       "      <th>2</th>\n",
       "      <td>1000006</td>\n",
       "      <td>178529</td>\n",
       "      <td>3</td>\n",
       "    </tr>\n",
       "    <tr>\n",
       "      <th>3</th>\n",
       "      <td>1000006</td>\n",
       "      <td>35505245</td>\n",
       "      <td>4</td>\n",
       "    </tr>\n",
       "    <tr>\n",
       "      <th>4</th>\n",
       "      <td>1000006</td>\n",
       "      <td>795836</td>\n",
       "      <td>5</td>\n",
       "    </tr>\n",
       "    <tr>\n",
       "      <th>...</th>\n",
       "      <td>...</td>\n",
       "      <td>...</td>\n",
       "      <td>...</td>\n",
       "    </tr>\n",
       "    <tr>\n",
       "      <th>13695085</th>\n",
       "      <td>2287702</td>\n",
       "      <td>24692821</td>\n",
       "      <td>6</td>\n",
       "    </tr>\n",
       "    <tr>\n",
       "      <th>13695086</th>\n",
       "      <td>2287702</td>\n",
       "      <td>6705392</td>\n",
       "      <td>7</td>\n",
       "    </tr>\n",
       "    <tr>\n",
       "      <th>13695087</th>\n",
       "      <td>2287702</td>\n",
       "      <td>37384</td>\n",
       "      <td>8</td>\n",
       "    </tr>\n",
       "    <tr>\n",
       "      <th>13695088</th>\n",
       "      <td>2287702</td>\n",
       "      <td>45499814</td>\n",
       "      <td>9</td>\n",
       "    </tr>\n",
       "    <tr>\n",
       "      <th>13695089</th>\n",
       "      <td>2287702</td>\n",
       "      <td>29544272</td>\n",
       "      <td>10</td>\n",
       "    </tr>\n",
       "  </tbody>\n",
       "</table>\n",
       "<p>13695090 rows × 3 columns</p>\n",
       "</div>"
      ],
      "text/plain": [
       "          user_id   item_id  rank\n",
       "0         1000006     53404     1\n",
       "1         1000006  33311009     2\n",
       "2         1000006    178529     3\n",
       "3         1000006  35505245     4\n",
       "4         1000006    795836     5\n",
       "...           ...       ...   ...\n",
       "13695085  2287702  24692821     6\n",
       "13695086  2287702   6705392     7\n",
       "13695087  2287702     37384     8\n",
       "13695088  2287702  45499814     9\n",
       "13695089  2287702  29544272    10\n",
       "\n",
       "[13695090 rows x 3 columns]"
      ]
     },
     "execution_count": 41,
     "metadata": {},
     "output_type": "execute_result"
    }
   ],
   "source": [
    "users_events_with_top_recs"
   ]
  },
  {
   "cell_type": "code",
   "execution_count": 43,
   "id": "49b20ec0",
   "metadata": {},
   "outputs": [],
   "source": [
    "assert False\n",
    "users_events_with_top_recs.to_parquet(\"data/top_popular.parquet\", index=False)"
   ]
  },
  {
   "cell_type": "code",
   "execution_count": 45,
   "id": "a32c9fe0",
   "metadata": {},
   "outputs": [
    {
     "data": {
      "text/html": [
       "<div>\n",
       "<style scoped>\n",
       "    .dataframe tbody tr th:only-of-type {\n",
       "        vertical-align: middle;\n",
       "    }\n",
       "\n",
       "    .dataframe tbody tr th {\n",
       "        vertical-align: top;\n",
       "    }\n",
       "\n",
       "    .dataframe thead th {\n",
       "        text-align: right;\n",
       "    }\n",
       "</style>\n",
       "<table border=\"1\" class=\"dataframe\">\n",
       "  <thead>\n",
       "    <tr style=\"text-align: right;\">\n",
       "      <th></th>\n",
       "      <th>user_id</th>\n",
       "      <th>item_id</th>\n",
       "      <th>rank</th>\n",
       "    </tr>\n",
       "  </thead>\n",
       "  <tbody>\n",
       "    <tr>\n",
       "      <th>0</th>\n",
       "      <td>1000006</td>\n",
       "      <td>53404</td>\n",
       "      <td>1</td>\n",
       "    </tr>\n",
       "    <tr>\n",
       "      <th>1</th>\n",
       "      <td>1000006</td>\n",
       "      <td>33311009</td>\n",
       "      <td>2</td>\n",
       "    </tr>\n",
       "    <tr>\n",
       "      <th>2</th>\n",
       "      <td>1000006</td>\n",
       "      <td>178529</td>\n",
       "      <td>3</td>\n",
       "    </tr>\n",
       "    <tr>\n",
       "      <th>3</th>\n",
       "      <td>1000006</td>\n",
       "      <td>35505245</td>\n",
       "      <td>4</td>\n",
       "    </tr>\n",
       "    <tr>\n",
       "      <th>4</th>\n",
       "      <td>1000006</td>\n",
       "      <td>795836</td>\n",
       "      <td>5</td>\n",
       "    </tr>\n",
       "  </tbody>\n",
       "</table>\n",
       "</div>"
      ],
      "text/plain": [
       "   user_id   item_id  rank\n",
       "0  1000006     53404     1\n",
       "1  1000006  33311009     2\n",
       "2  1000006    178529     3\n",
       "3  1000006  35505245     4\n",
       "4  1000006    795836     5"
      ]
     },
     "execution_count": 45,
     "metadata": {},
     "output_type": "execute_result"
    }
   ],
   "source": [
    "pd.read_parquet(\"ml_service/data/top_popular.parquet\",\n",
    "        columns=[\"user_id\", \"item_id\", \"rank\"]).head(5)"
   ]
  },
  {
   "cell_type": "code",
   "execution_count": 17,
   "id": "0f5eb5a3",
   "metadata": {},
   "outputs": [
    {
     "data": {
      "text/html": [
       "<div>\n",
       "<style scoped>\n",
       "    .dataframe tbody tr th:only-of-type {\n",
       "        vertical-align: middle;\n",
       "    }\n",
       "\n",
       "    .dataframe tbody tr th {\n",
       "        vertical-align: top;\n",
       "    }\n",
       "\n",
       "    .dataframe thead th {\n",
       "        text-align: right;\n",
       "    }\n",
       "</style>\n",
       "<table border=\"1\" class=\"dataframe\">\n",
       "  <thead>\n",
       "    <tr style=\"text-align: right;\">\n",
       "      <th></th>\n",
       "      <th>user_id</th>\n",
       "      <th>item_id</th>\n",
       "      <th>track_seq</th>\n",
       "      <th>started_at</th>\n",
       "      <th>tracks_cnt</th>\n",
       "      <th>users_cnt</th>\n",
       "      <th>user_id_enc</th>\n",
       "      <th>item_id_enc_x</th>\n",
       "      <th>items_unique</th>\n",
       "      <th>albums</th>\n",
       "      <th>artists</th>\n",
       "      <th>genres</th>\n",
       "      <th>track_name</th>\n",
       "      <th>item_id_enc_y</th>\n",
       "    </tr>\n",
       "  </thead>\n",
       "  <tbody>\n",
       "    <tr>\n",
       "      <th>0</th>\n",
       "      <td>1000014</td>\n",
       "      <td>65851540</td>\n",
       "      <td>1</td>\n",
       "      <td>2022-12-20</td>\n",
       "      <td>3</td>\n",
       "      <td>8781</td>\n",
       "      <td>13</td>\n",
       "      <td>829320</td>\n",
       "      <td>7520.0</td>\n",
       "      <td>{369727: 'Юность'}</td>\n",
       "      <td>{1013: 'Dabro'}</td>\n",
       "      <td>{0: 'pop', 9: 'ruspop'}</td>\n",
       "      <td>Юность</td>\n",
       "      <td>829320.0</td>\n",
       "    </tr>\n",
       "  </tbody>\n",
       "</table>\n",
       "</div>"
      ],
      "text/plain": [
       "   user_id   item_id  track_seq started_at  tracks_cnt  users_cnt  \\\n",
       "0  1000014  65851540          1 2022-12-20           3       8781   \n",
       "\n",
       "   user_id_enc  item_id_enc_x  items_unique              albums  \\\n",
       "0           13         829320        7520.0  {369727: 'Юность'}   \n",
       "\n",
       "           artists                   genres track_name  item_id_enc_y  \n",
       "0  {1013: 'Dabro'}  {0: 'pop', 9: 'ruspop'}     Юность       829320.0  "
      ]
     },
     "execution_count": 17,
     "metadata": {},
     "output_type": "execute_result"
    }
   ],
   "source": [
    "cold_users_events_with_recs.head(1)"
   ]
  },
  {
   "cell_type": "code",
   "execution_count": 18,
   "id": "00195c78",
   "metadata": {},
   "outputs": [],
   "source": [
    "cold_user_items_no_avg_rating_idx = cold_users_events_with_recs[\"items_unique\"].isnull()\n",
    "cold_user_recs = cold_users_events_with_recs[~cold_user_items_no_avg_rating_idx]"
   ]
  },
  {
   "cell_type": "markdown",
   "id": "b4f07990",
   "metadata": {},
   "source": [
    "Покрытие холодного старта:"
   ]
  },
  {
   "cell_type": "code",
   "execution_count": 19,
   "id": "f65217ac",
   "metadata": {},
   "outputs": [
    {
     "data": {
      "text/plain": [
       "0.9460145328464461"
      ]
     },
     "execution_count": 19,
     "metadata": {},
     "output_type": "execute_result"
    }
   ],
   "source": [
    "len(cold_users_events_with_recs[cold_user_items_no_avg_rating_idx])/len(cold_users_events_with_recs)"
   ]
  },
  {
   "cell_type": "code",
   "execution_count": 20,
   "id": "ccee63ea",
   "metadata": {},
   "outputs": [
    {
     "name": "stdout",
     "output_type": "stream",
     "text": [
      "Доля пользователей без релевантных рекомендаций: 0.81\n",
      "Среднее покрытие пользователей: 0.30\n"
     ]
    }
   ],
   "source": [
    "# посчитаем покрытие холодных пользователей рекомендациями\n",
    "\n",
    "cold_users_hit_ratio = cold_users_events_with_recs.groupby(\"user_id\").agg(\n",
    "    hits=(\"items_unique\", lambda x: (~x.isnull()).mean())\n",
    "    )\n",
    "\n",
    "print(f\"Доля пользователей без релевантных рекомендаций: {(cold_users_hit_ratio == 0).mean().iat[0]:.2f}\")\n",
    "print(f\"Среднее покрытие пользователей: {cold_users_hit_ratio[cold_users_hit_ratio != 0].mean().iat[0]:.2f}\")"
   ]
  },
  {
   "cell_type": "markdown",
   "id": "54a37f7b",
   "metadata": {},
   "source": [
    "# Жанры"
   ]
  },
  {
   "cell_type": "markdown",
   "id": "cc02ef68",
   "metadata": {},
   "source": [
    "Добавление жанров в пайплайн"
   ]
  },
  {
   "cell_type": "code",
   "execution_count": null,
   "id": "242ef5b3",
   "metadata": {},
   "outputs": [],
   "source": [
    "import logging\n",
    "\n",
    "import matplotlib.pyplot as plt\n",
    "import numpy as np\n",
    "import pandas as pd\n",
    "\n",
    "import datetime\n",
    "import uuid\n",
    "\n",
    "import scipy\n",
    "import sklearn.preprocessing\n",
    "import sklearn \n",
    "\n",
    "from scipy.sparse import csr_matrix, save_npz, load_npz\n",
    "import pickle\n",
    "\n",
    "from sklearn.metrics.pairwise import cosine_similarity\n",
    "from implicit.als import AlternatingLeastSquares"
   ]
  },
  {
   "cell_type": "code",
   "execution_count": null,
   "id": "63e805d8",
   "metadata": {},
   "outputs": [],
   "source": [
    "items = pd.read_parquet('data/items.parquet')"
   ]
  },
  {
   "cell_type": "code",
   "execution_count": 9,
   "id": "2d554907",
   "metadata": {},
   "outputs": [],
   "source": [
    "items[\"genres\"] = items[\"genres\"].apply(eval)"
   ]
  },
  {
   "cell_type": "code",
   "execution_count": 13,
   "id": "1c11ed2b",
   "metadata": {},
   "outputs": [],
   "source": [
    "def get_genres(items):\n",
    "\n",
    "    \"\"\" \n",
    "    извлекает список жанров по всем трекам, \n",
    "    подсчитывает долю прослушиваний по каждому их них\n",
    "    \"\"\"\n",
    "    \n",
    "    genres_counter = {}\n",
    "    genres_names = {}\n",
    "    \n",
    "    for k, v, in items.iterrows():\n",
    "        \n",
    "        genre_and_votes = v['genres']\n",
    "\n",
    "        if genre_and_votes is None or not isinstance(genre_and_votes, dict):\n",
    "            continue\n",
    "        for genre_idx, genre_name in genre_and_votes.items():\n",
    "            # увеличиваем счётчик жанров\n",
    "            try:\n",
    "                genres_counter[genre_idx] += 1\n",
    "            except KeyError:\n",
    "                genres_counter[genre_idx] = 0\n",
    "                genres_names[genre_idx] = genre_name\n",
    "\n",
    "    genres = pd.Series(genres_counter, name=\"votes\").to_frame()\n",
    "    genres.index.name = \"genre_id\"\n",
    "\n",
    "    df_genres_names = pd.Series(genres_names, name=\"name\").to_frame()\n",
    "    genres.index.name = \"genre_id\"\n",
    "    \n",
    "    return genres.join(df_genres_names)\n",
    "   \n",
    "genres = get_genres(items)"
   ]
  },
  {
   "cell_type": "code",
   "execution_count": 14,
   "id": "8bfbbe39",
   "metadata": {},
   "outputs": [
    {
     "data": {
      "text/html": [
       "<div>\n",
       "<style scoped>\n",
       "    .dataframe tbody tr th:only-of-type {\n",
       "        vertical-align: middle;\n",
       "    }\n",
       "\n",
       "    .dataframe tbody tr th {\n",
       "        vertical-align: top;\n",
       "    }\n",
       "\n",
       "    .dataframe thead th {\n",
       "        text-align: right;\n",
       "    }\n",
       "</style>\n",
       "<table border=\"1\" class=\"dataframe\">\n",
       "  <thead>\n",
       "    <tr style=\"text-align: right;\">\n",
       "      <th></th>\n",
       "      <th>votes</th>\n",
       "      <th>name</th>\n",
       "    </tr>\n",
       "    <tr>\n",
       "      <th>genre_id</th>\n",
       "      <th></th>\n",
       "      <th></th>\n",
       "    </tr>\n",
       "  </thead>\n",
       "  <tbody>\n",
       "    <tr>\n",
       "      <th>0</th>\n",
       "      <td>166284</td>\n",
       "      <td>pop</td>\n",
       "    </tr>\n",
       "    <tr>\n",
       "      <th>13</th>\n",
       "      <td>37490</td>\n",
       "      <td>folk</td>\n",
       "    </tr>\n",
       "    <tr>\n",
       "      <th>30</th>\n",
       "      <td>10829</td>\n",
       "      <td>hardrock</td>\n",
       "    </tr>\n",
       "    <tr>\n",
       "      <th>3</th>\n",
       "      <td>110485</td>\n",
       "      <td>allrock</td>\n",
       "    </tr>\n",
       "    <tr>\n",
       "      <th>7</th>\n",
       "      <td>55135</td>\n",
       "      <td>rock</td>\n",
       "    </tr>\n",
       "    <tr>\n",
       "      <th>...</th>\n",
       "      <td>...</td>\n",
       "      <td>...</td>\n",
       "    </tr>\n",
       "    <tr>\n",
       "      <th>152</th>\n",
       "      <td>88</td>\n",
       "      <td>work</td>\n",
       "    </tr>\n",
       "    <tr>\n",
       "      <th>168</th>\n",
       "      <td>13</td>\n",
       "      <td>hls</td>\n",
       "    </tr>\n",
       "    <tr>\n",
       "      <th>159</th>\n",
       "      <td>39</td>\n",
       "      <td>community</td>\n",
       "    </tr>\n",
       "    <tr>\n",
       "      <th>169</th>\n",
       "      <td>3</td>\n",
       "      <td>technologies</td>\n",
       "    </tr>\n",
       "    <tr>\n",
       "      <th>170</th>\n",
       "      <td>3</td>\n",
       "      <td>None</td>\n",
       "    </tr>\n",
       "  </tbody>\n",
       "</table>\n",
       "<p>173 rows × 2 columns</p>\n",
       "</div>"
      ],
      "text/plain": [
       "           votes          name\n",
       "genre_id                      \n",
       "0         166284           pop\n",
       "13         37490          folk\n",
       "30         10829      hardrock\n",
       "3         110485       allrock\n",
       "7          55135          rock\n",
       "...          ...           ...\n",
       "152           88          work\n",
       "168           13           hls\n",
       "159           39     community\n",
       "169            3  technologies\n",
       "170            3          None\n",
       "\n",
       "[173 rows x 2 columns]"
      ]
     },
     "execution_count": 14,
     "metadata": {},
     "output_type": "execute_result"
    }
   ],
   "source": [
    "genres"
   ]
  },
  {
   "cell_type": "code",
   "execution_count": 15,
   "id": "53d36839",
   "metadata": {},
   "outputs": [
    {
     "data": {
      "text/html": [
       "<div>\n",
       "<style scoped>\n",
       "    .dataframe tbody tr th:only-of-type {\n",
       "        vertical-align: middle;\n",
       "    }\n",
       "\n",
       "    .dataframe tbody tr th {\n",
       "        vertical-align: top;\n",
       "    }\n",
       "\n",
       "    .dataframe thead th {\n",
       "        text-align: right;\n",
       "    }\n",
       "</style>\n",
       "<table border=\"1\" class=\"dataframe\">\n",
       "  <thead>\n",
       "    <tr style=\"text-align: right;\">\n",
       "      <th></th>\n",
       "      <th>votes</th>\n",
       "      <th>name</th>\n",
       "      <th>score</th>\n",
       "    </tr>\n",
       "    <tr>\n",
       "      <th>genre_id</th>\n",
       "      <th></th>\n",
       "      <th></th>\n",
       "      <th></th>\n",
       "    </tr>\n",
       "  </thead>\n",
       "  <tbody>\n",
       "    <tr>\n",
       "      <th>0</th>\n",
       "      <td>166284</td>\n",
       "      <td>pop</td>\n",
       "      <td>0.102981</td>\n",
       "    </tr>\n",
       "    <tr>\n",
       "      <th>1</th>\n",
       "      <td>127038</td>\n",
       "      <td>rap</td>\n",
       "      <td>0.078676</td>\n",
       "    </tr>\n",
       "    <tr>\n",
       "      <th>2</th>\n",
       "      <td>114024</td>\n",
       "      <td>electronics</td>\n",
       "      <td>0.070616</td>\n",
       "    </tr>\n",
       "    <tr>\n",
       "      <th>3</th>\n",
       "      <td>110485</td>\n",
       "      <td>allrock</td>\n",
       "      <td>0.068424</td>\n",
       "    </tr>\n",
       "    <tr>\n",
       "      <th>4</th>\n",
       "      <td>72156</td>\n",
       "      <td>metal</td>\n",
       "      <td>0.044687</td>\n",
       "    </tr>\n",
       "    <tr>\n",
       "      <th>5</th>\n",
       "      <td>65957</td>\n",
       "      <td>rusrap</td>\n",
       "      <td>0.040848</td>\n",
       "    </tr>\n",
       "    <tr>\n",
       "      <th>6</th>\n",
       "      <td>59714</td>\n",
       "      <td>foreignrap</td>\n",
       "      <td>0.036981</td>\n",
       "    </tr>\n",
       "    <tr>\n",
       "      <th>7</th>\n",
       "      <td>55135</td>\n",
       "      <td>rock</td>\n",
       "      <td>0.034145</td>\n",
       "    </tr>\n",
       "    <tr>\n",
       "      <th>8</th>\n",
       "      <td>51625</td>\n",
       "      <td>dance</td>\n",
       "      <td>0.031972</td>\n",
       "    </tr>\n",
       "    <tr>\n",
       "      <th>9</th>\n",
       "      <td>46574</td>\n",
       "      <td>ruspop</td>\n",
       "      <td>0.028844</td>\n",
       "    </tr>\n",
       "  </tbody>\n",
       "</table>\n",
       "</div>"
      ],
      "text/plain": [
       "           votes         name     score\n",
       "genre_id                               \n",
       "0         166284          pop  0.102981\n",
       "1         127038          rap  0.078676\n",
       "2         114024  electronics  0.070616\n",
       "3         110485      allrock  0.068424\n",
       "4          72156        metal  0.044687\n",
       "5          65957       rusrap  0.040848\n",
       "6          59714   foreignrap  0.036981\n",
       "7          55135         rock  0.034145\n",
       "8          51625        dance  0.031972\n",
       "9          46574       ruspop  0.028844"
      ]
     },
     "execution_count": 15,
     "metadata": {},
     "output_type": "execute_result"
    }
   ],
   "source": [
    "genres[\"score\"] = genres[\"votes\"] / genres[\"votes\"].sum()\n",
    "genres.sort_values(by=\"score\", ascending=False).head(10)"
   ]
  },
  {
   "cell_type": "code",
   "execution_count": 16,
   "id": "f84e836c",
   "metadata": {},
   "outputs": [],
   "source": [
    "assert False\n",
    "genres.to_parquet('data/genres.parquet', index=False)"
   ]
  },
  {
   "cell_type": "code",
   "execution_count": 6,
   "id": "9bba99ba",
   "metadata": {},
   "outputs": [],
   "source": [
    "genres = pd.read_parquet('data/genres.parquet')"
   ]
  },
  {
   "cell_type": "code",
   "execution_count": 22,
   "id": "b47035c8",
   "metadata": {},
   "outputs": [],
   "source": [
    "def get_item2genre_matrix(genres, items):\n",
    "\n",
    "    genre_names_to_id = genres[\"votes\"].to_dict()\n",
    "    \n",
    "    # list to build CSR matrix\n",
    "    genres_csr_data = []\n",
    "    genres_csr_row_idx = []\n",
    "    genres_csr_col_idx = []\n",
    "    \n",
    "    for item_idx, (k, v) in enumerate(items.iterrows()):\n",
    "        if v[\"genres\"] is None:\n",
    "            continue\n",
    "        for genre_idx, genre_name in v[\"genres\"].items():\n",
    "            vote = genre_names_to_id[genre_idx]\n",
    "            genres_csr_data.append(int(vote))\n",
    "            genres_csr_row_idx.append(item_idx)\n",
    "            genres_csr_col_idx.append(genre_idx)\n",
    "\n",
    "    genres_csr = scipy.sparse.csr_matrix((genres_csr_data, (genres_csr_row_idx, genres_csr_col_idx)), shape=(len(items), len(genres)))\n",
    "    # нормализуем, чтобы сумма оценок принадлежности к жанру была равна 1\n",
    "    genres_csr = sklearn.preprocessing.normalize(genres_csr, norm='l1', axis=1)\n",
    "    \n",
    "    return genres_csr"
   ]
  },
  {
   "cell_type": "code",
   "execution_count": 30,
   "id": "4070c14d",
   "metadata": {},
   "outputs": [],
   "source": [
    "items.sort_values(by=\"item_id_enc\", inplace=True)"
   ]
  },
  {
   "cell_type": "code",
   "execution_count": 33,
   "id": "e6ba620d",
   "metadata": {},
   "outputs": [],
   "source": [
    "all_items_genres_csr = get_item2genre_matrix(genres, items)"
   ]
  },
  {
   "cell_type": "code",
   "execution_count": 35,
   "id": "8e4a0027",
   "metadata": {},
   "outputs": [],
   "source": [
    "assert False\n",
    "with open('data/all_items_genres_csr.pkl', 'wb') as f:\n",
    "    pickle.dump(all_items_genres_csr, f)"
   ]
  },
  {
   "cell_type": "markdown",
   "id": "99bf6004",
   "metadata": {},
   "source": [
    "## Проверка"
   ]
  },
  {
   "cell_type": "code",
   "execution_count": 36,
   "id": "6305a437",
   "metadata": {},
   "outputs": [
    {
     "data": {
      "text/plain": [
       "<Compressed Sparse Row sparse matrix of dtype 'float64'\n",
       "\twith 8 stored elements and shape (6, 173)>"
      ]
     },
     "execution_count": 36,
     "metadata": {},
     "output_type": "execute_result"
    }
   ],
   "source": [
    "user_id = 1000010\n",
    "user_events = events_train.query(\"user_id == @user_id\")[[\"item_id\", \"track_seq\"]]\n",
    "user_items = items[items[\"item_id\"].isin(user_events[\"item_id\"])]\n",
    "\n",
    "user_items_genres_csr = get_item2genre_matrix(genres, user_items)\n",
    "user_items_genres_csr"
   ]
  },
  {
   "cell_type": "markdown",
   "id": "d1bbf22c",
   "metadata": {},
   "source": [
    "Можно посмотреть, какие жанры больше всего нравятся пользователю:"
   ]
  },
  {
   "cell_type": "code",
   "execution_count": 37,
   "id": "5f5973d9",
   "metadata": {},
   "outputs": [
    {
     "data": {
      "text/html": [
       "<div>\n",
       "<style scoped>\n",
       "    .dataframe tbody tr th:only-of-type {\n",
       "        vertical-align: middle;\n",
       "    }\n",
       "\n",
       "    .dataframe tbody tr th {\n",
       "        vertical-align: top;\n",
       "    }\n",
       "\n",
       "    .dataframe thead th {\n",
       "        text-align: right;\n",
       "    }\n",
       "</style>\n",
       "<table border=\"1\" class=\"dataframe\">\n",
       "  <thead>\n",
       "    <tr style=\"text-align: right;\">\n",
       "      <th></th>\n",
       "      <th>votes</th>\n",
       "      <th>name</th>\n",
       "      <th>score</th>\n",
       "    </tr>\n",
       "    <tr>\n",
       "      <th>genre_id</th>\n",
       "      <th></th>\n",
       "      <th></th>\n",
       "      <th></th>\n",
       "    </tr>\n",
       "  </thead>\n",
       "  <tbody>\n",
       "    <tr>\n",
       "      <th>36</th>\n",
       "      <td>6954</td>\n",
       "      <td>industrial</td>\n",
       "      <td>1.000000</td>\n",
       "    </tr>\n",
       "    <tr>\n",
       "      <th>12</th>\n",
       "      <td>38041</td>\n",
       "      <td>estrada</td>\n",
       "      <td>0.833333</td>\n",
       "    </tr>\n",
       "    <tr>\n",
       "      <th>13</th>\n",
       "      <td>37490</td>\n",
       "      <td>folk</td>\n",
       "      <td>0.566875</td>\n",
       "    </tr>\n",
       "    <tr>\n",
       "      <th>30</th>\n",
       "      <td>10829</td>\n",
       "      <td>hardrock</td>\n",
       "      <td>0.490249</td>\n",
       "    </tr>\n",
       "    <tr>\n",
       "      <th>0</th>\n",
       "      <td>166284</td>\n",
       "      <td>pop</td>\n",
       "      <td>0.333333</td>\n",
       "    </tr>\n",
       "  </tbody>\n",
       "</table>\n",
       "</div>"
      ],
      "text/plain": [
       "           votes        name     score\n",
       "genre_id                              \n",
       "36          6954  industrial  1.000000\n",
       "12         38041     estrada  0.833333\n",
       "13         37490        folk  0.566875\n",
       "30         10829    hardrock  0.490249\n",
       "0         166284         pop  0.333333"
      ]
     },
     "execution_count": 37,
     "metadata": {},
     "output_type": "execute_result"
    }
   ],
   "source": [
    "user_ratings = user_events[\"track_seq\"].to_numpy() # ????????\n",
    "user_ratings = np.expand_dims(user_ratings, axis=1)\n",
    "\n",
    "user_items_genres_weighted = user_items_genres_csr.multiply(user_ratings)\n",
    "\n",
    "user_genres_scores = np.asarray(user_items_genres_weighted.mean(axis=0))\n",
    "\n",
    "user_genres = genres.copy()\n",
    "user_genres[\"score\"] = np.ravel(user_genres_scores)\n",
    "user_genres = user_genres[user_genres[\"score\"] > 0].sort_values(by=[\"score\"], ascending=False)\n",
    "\n",
    "user_genres.head(5)"
   ]
  },
  {
   "cell_type": "code",
   "execution_count": 38,
   "id": "559ee9ee",
   "metadata": {},
   "outputs": [],
   "source": [
    "# вычисляем сходство между вектором пользователя и векторами по книгам\n",
    "similarity_scores = cosine_similarity(all_items_genres_csr, user_genres_scores)\n",
    "\n",
    "# преобразуем в одномерный массив\n",
    "similarity_scores = similarity_scores.flatten()\n",
    "\n",
    "# получаем индексы top-k (по убыванию значений), по сути, индексы книг (encoded)\n",
    "k = 5\n",
    "top_k_indices = np.argsort(similarity_scores)[:k]"
   ]
  },
  {
   "cell_type": "code",
   "execution_count": 39,
   "id": "788c6394",
   "metadata": {},
   "outputs": [
    {
     "data": {
      "text/html": [
       "<div>\n",
       "<style scoped>\n",
       "    .dataframe tbody tr th:only-of-type {\n",
       "        vertical-align: middle;\n",
       "    }\n",
       "\n",
       "    .dataframe tbody tr th {\n",
       "        vertical-align: top;\n",
       "    }\n",
       "\n",
       "    .dataframe thead th {\n",
       "        text-align: right;\n",
       "    }\n",
       "</style>\n",
       "<table border=\"1\" class=\"dataframe\">\n",
       "  <thead>\n",
       "    <tr style=\"text-align: right;\">\n",
       "      <th></th>\n",
       "      <th>item_id</th>\n",
       "      <th>albums</th>\n",
       "      <th>artists</th>\n",
       "      <th>genres</th>\n",
       "      <th>track_name</th>\n",
       "      <th>item_id_enc</th>\n",
       "    </tr>\n",
       "  </thead>\n",
       "  <tbody>\n",
       "    <tr>\n",
       "      <th>381150</th>\n",
       "      <td>25687582</td>\n",
       "      <td>{6302: 'The Peanuts Movie - Original Motion Pi...</td>\n",
       "      <td>{1196: 'Christophe Beck'}</td>\n",
       "      <td>{82: 'animated', 11: 'soundtrack'}</td>\n",
       "      <td>Charlie Brown in Love</td>\n",
       "      <td>381150</td>\n",
       "    </tr>\n",
       "    <tr>\n",
       "      <th>381155</th>\n",
       "      <td>25687587</td>\n",
       "      <td>{6302: 'The Peanuts Movie - Original Motion Pi...</td>\n",
       "      <td>{1196: 'Christophe Beck'}</td>\n",
       "      <td>{82: 'animated', 11: 'soundtrack'}</td>\n",
       "      <td>Winter Becomes Spring</td>\n",
       "      <td>381155</td>\n",
       "    </tr>\n",
       "    <tr>\n",
       "      <th>381164</th>\n",
       "      <td>25688332</td>\n",
       "      <td>{101473: 'The Ocean'}</td>\n",
       "      <td>{25368: 'Mindfillers'}</td>\n",
       "      <td>{39: 'lounge', 18: 'relax'}</td>\n",
       "      <td>The Ocean</td>\n",
       "      <td>381164</td>\n",
       "    </tr>\n",
       "    <tr>\n",
       "      <th>381165</th>\n",
       "      <td>25688337</td>\n",
       "      <td>{101473: 'The Ocean'}</td>\n",
       "      <td>{25368: 'Mindfillers'}</td>\n",
       "      <td>{39: 'lounge', 18: 'relax'}</td>\n",
       "      <td>Theremin</td>\n",
       "      <td>381165</td>\n",
       "    </tr>\n",
       "    <tr>\n",
       "      <th>381166</th>\n",
       "      <td>25688338</td>\n",
       "      <td>{101473: 'The Ocean'}</td>\n",
       "      <td>{25368: 'Mindfillers'}</td>\n",
       "      <td>{39: 'lounge', 18: 'relax'}</td>\n",
       "      <td>Prism</td>\n",
       "      <td>381166</td>\n",
       "    </tr>\n",
       "  </tbody>\n",
       "</table>\n",
       "</div>"
      ],
      "text/plain": [
       "         item_id                                             albums  \\\n",
       "381150  25687582  {6302: 'The Peanuts Movie - Original Motion Pi...   \n",
       "381155  25687587  {6302: 'The Peanuts Movie - Original Motion Pi...   \n",
       "381164  25688332                              {101473: 'The Ocean'}   \n",
       "381165  25688337                              {101473: 'The Ocean'}   \n",
       "381166  25688338                              {101473: 'The Ocean'}   \n",
       "\n",
       "                          artists                              genres  \\\n",
       "381150  {1196: 'Christophe Beck'}  {82: 'animated', 11: 'soundtrack'}   \n",
       "381155  {1196: 'Christophe Beck'}  {82: 'animated', 11: 'soundtrack'}   \n",
       "381164     {25368: 'Mindfillers'}         {39: 'lounge', 18: 'relax'}   \n",
       "381165     {25368: 'Mindfillers'}         {39: 'lounge', 18: 'relax'}   \n",
       "381166     {25368: 'Mindfillers'}         {39: 'lounge', 18: 'relax'}   \n",
       "\n",
       "                   track_name  item_id_enc  \n",
       "381150  Charlie Brown in Love       381150  \n",
       "381155  Winter Becomes Spring       381155  \n",
       "381164              The Ocean       381164  \n",
       "381165               Theremin       381165  \n",
       "381166                  Prism       381166  "
      ]
     },
     "execution_count": 39,
     "metadata": {},
     "output_type": "execute_result"
    }
   ],
   "source": [
    "selected_items = items[items[\"item_id_enc\"].isin(top_k_indices)]\n",
    "selected_items"
   ]
  },
  {
   "cell_type": "markdown",
   "id": "2ad231f2-6158-421a-b7fa-01d8bc3ed572",
   "metadata": {},
   "source": [
    "# Персональные"
   ]
  },
  {
   "cell_type": "markdown",
   "id": "86159460-cd9d-4b63-8248-604ea3c9aebf",
   "metadata": {},
   "source": [
    "Рассчитаем персональные рекомендации."
   ]
  },
  {
   "cell_type": "code",
   "execution_count": null,
   "id": "7a60a7d8",
   "metadata": {},
   "outputs": [],
   "source": [
    "import logging\n",
    "\n",
    "import matplotlib.pyplot as plt\n",
    "import numpy as np\n",
    "import pandas as pd\n",
    "\n",
    "import datetime\n",
    "import uuid\n",
    "\n",
    "import scipy\n",
    "import sklearn.preprocessing\n",
    "import sklearn \n",
    "\n",
    "from scipy.sparse import csr_matrix, save_npz, load_npz\n",
    "import pickle\n",
    "\n",
    "from sklearn.metrics.pairwise import cosine_similarity\n",
    "from implicit.als import AlternatingLeastSquares"
   ]
  },
  {
   "cell_type": "code",
   "execution_count": 40,
   "id": "70053d92",
   "metadata": {},
   "outputs": [
    {
     "name": "stdout",
     "output_type": "stream",
     "text": [
      "20742507 1369509\n"
     ]
    }
   ],
   "source": [
    "print(events_train.shape[0], events_test.shape[0])"
   ]
  },
  {
   "cell_type": "code",
   "execution_count": 6,
   "id": "592b818d",
   "metadata": {},
   "outputs": [],
   "source": [
    "events_train = pd.read_parquet('data/events_train.parquet')\n",
    "events_test = pd.read_parquet('data/events_test.parquet')\n",
    "items = pd.read_parquet('data/items.parquet')"
   ]
  },
  {
   "cell_type": "code",
   "execution_count": 14,
   "id": "1e8cdb58-3a8c-45ad-8e5f-7f950314aa56",
   "metadata": {},
   "outputs": [],
   "source": [
    "def get_recommendations_als(user_item_matrix, model, user_id, user_encoder, item_encoder, include_seen=True, n=5):\n",
    "    \"\"\"\n",
    "    Возвращает отранжированные рекомендации для заданного пользователя\n",
    "    \"\"\"\n",
    "    user_id_enc = user_encoder.transform([user_id])[0]\n",
    "    recommendations = model.recommend(\n",
    "         user_id_enc, \n",
    "         user_item_matrix[user_id_enc], \n",
    "         filter_already_liked_items=not include_seen,\n",
    "         N=n)\n",
    "    recommendations = pd.DataFrame({\"item_id_enc\": recommendations[0], \"score\": recommendations[1]})\n",
    "    recommendations[\"item_id\"] = item_encoder.inverse_transform(recommendations[\"item_id_enc\"])\n",
    "    \n",
    "    return recommendations"
   ]
  },
  {
   "cell_type": "code",
   "execution_count": 15,
   "id": "e949de7e",
   "metadata": {},
   "outputs": [],
   "source": [
    "# создаём sparse-матрицу формата CSR \n",
    "user_item_matrix_train = scipy.sparse.csr_matrix((\n",
    "    events_train[\"track_seq\"],\n",
    "    (events_train['user_id_enc'], events_train['item_id_enc'])),\n",
    "    dtype=np.int8)"
   ]
  },
  {
   "cell_type": "code",
   "execution_count": 16,
   "id": "66c723f6",
   "metadata": {},
   "outputs": [
    {
     "name": "stderr",
     "output_type": "stream",
     "text": [
      "/home/mle-user/mle_projects/mle-recsys-start/.venv_recsys/lib/python3.10/site-packages/tqdm/auto.py:21: TqdmWarning: IProgress not found. Please update jupyter and ipywidgets. See https://ipywidgets.readthedocs.io/en/stable/user_install.html\n",
      "  from .autonotebook import tqdm as notebook_tqdm\n",
      "/home/mle-user/mle_projects/mle-recsys-start/.venv_recsys/lib/python3.10/site-packages/implicit/cpu/als.py:95: RuntimeWarning: OpenBLAS is configured to use 4 threads. It is highly recommended to disable its internal threadpool by setting the environment variable 'OPENBLAS_NUM_THREADS=1' or by calling 'threadpoolctl.threadpool_limits(1, \"blas\")'. Having OpenBLAS use a threadpool can lead to severe performance issues here.\n",
      "  check_blas_config()\n",
      "100%|██████████| 50/50 [07:13<00:00,  8.67s/it]\n"
     ]
    }
   ],
   "source": [
    "als_model = AlternatingLeastSquares(factors=50, iterations=50, regularization=0.05, random_state=0)\n",
    "als_model.fit(user_item_matrix_train)"
   ]
  },
  {
   "cell_type": "code",
   "execution_count": 17,
   "id": "333d9fae",
   "metadata": {},
   "outputs": [],
   "source": [
    "assert False\n",
    "\n",
    "with open('models/als_model.pkl', 'wb') as file:\n",
    "    pickle.dump(als_model, file)"
   ]
  },
  {
   "cell_type": "code",
   "execution_count": 5,
   "id": "7fc6cbc0",
   "metadata": {},
   "outputs": [
    {
     "name": "stderr",
     "output_type": "stream",
     "text": [
      "/home/mle-user/mle_projects/mle-recsys-start/.venv_recsys/lib/python3.10/site-packages/tqdm/auto.py:21: TqdmWarning: IProgress not found. Please update jupyter and ipywidgets. See https://ipywidgets.readthedocs.io/en/stable/user_install.html\n",
      "  from .autonotebook import tqdm as notebook_tqdm\n"
     ]
    }
   ],
   "source": [
    "import pickle\n",
    "\n",
    "with open('als_model.pkl', 'rb') as file:\n",
    "    als_model = pickle.load(file)"
   ]
  },
  {
   "cell_type": "code",
   "execution_count": 18,
   "id": "3b963979",
   "metadata": {},
   "outputs": [],
   "source": [
    "# получаем список всех возможных user_id (перекодированных)\n",
    "user_ids_encoded = range(len(user_encoder.classes_))\n",
    "\n",
    "# получаем рекомендации для всех пользователей\n",
    "als_recommendations = als_model.recommend(\n",
    "    user_ids_encoded, \n",
    "    user_item_matrix_train[user_ids_encoded], \n",
    "    filter_already_liked_items=False, N=100)\n",
    "\n",
    "# преобразуем полученные рекомендации в табличный формат\n",
    "item_ids_enc = als_recommendations[0]\n",
    "als_scores = als_recommendations[1]\n",
    "\n",
    "als_recommendations = pd.DataFrame({\n",
    "    \"user_id_enc\": user_ids_encoded,\n",
    "    \"item_id_enc\": item_ids_enc.tolist(), \n",
    "    \"score\": als_scores.tolist()})\n",
    "als_recommendations = als_recommendations.explode([\"item_id_enc\", \"score\"], ignore_index=True)\n",
    "\n",
    "# приводим типы данных\n",
    "als_recommendations[\"item_id_enc\"] = als_recommendations[\"item_id_enc\"].astype(\"int\")\n",
    "als_recommendations[\"score\"] = als_recommendations[\"score\"].astype(\"float\")\n",
    "\n",
    "# получаем изначальные идентификаторы\n",
    "als_recommendations[\"user_id\"] = user_encoder.inverse_transform(als_recommendations[\"user_id_enc\"])\n",
    "als_recommendations[\"item_id\"] = item_encoder.inverse_transform(als_recommendations[\"item_id_enc\"])\n",
    "als_recommendations = als_recommendations.drop(columns=[\"user_id_enc\", \"item_id_enc\"])\n",
    "\n",
    "als_recommendations = als_recommendations[[\"user_id\", \"item_id\", \"score\"]]"
   ]
  },
  {
   "cell_type": "code",
   "execution_count": 19,
   "id": "e94b323d",
   "metadata": {},
   "outputs": [],
   "source": [
    "assert False\n",
    "als_recommendations.to_parquet(\"data/personal_als.parquet\", index=False)"
   ]
  },
  {
   "cell_type": "markdown",
   "id": "5f09dc7e-7c91-4355-860a-b9cfb9f33f15",
   "metadata": {},
   "source": [
    "# Похожие"
   ]
  },
  {
   "cell_type": "markdown",
   "id": "1dfcb683-b440-40a8-9975-894156a53872",
   "metadata": {},
   "source": [
    "Рассчитаем похожие, они позже пригодятся для онлайн-рекомендаций."
   ]
  },
  {
   "cell_type": "code",
   "execution_count": null,
   "id": "6384bb85",
   "metadata": {},
   "outputs": [],
   "source": [
    "import logging\n",
    "\n",
    "import matplotlib.pyplot as plt\n",
    "import numpy as np\n",
    "import pandas as pd\n",
    "\n",
    "import datetime\n",
    "import uuid\n",
    "\n",
    "import scipy\n",
    "import sklearn.preprocessing\n",
    "import sklearn \n",
    "\n",
    "from scipy.sparse import csr_matrix, save_npz, load_npz\n",
    "import pickle\n",
    "\n",
    "from sklearn.metrics.pairwise import cosine_similarity\n",
    "from implicit.als import AlternatingLeastSquares"
   ]
  },
  {
   "cell_type": "code",
   "execution_count": null,
   "id": "585fce91",
   "metadata": {},
   "outputs": [],
   "source": [
    "als_recommendations = pd.read_parquet(\"data/personal_als.parquet\")\n",
    "\n",
    "with open('user_encoder.pkl', 'rb') as file:\n",
    "    user_encoder = pickle.load(file)\n",
    "\n",
    "with open('item_encoder.pkl', 'rb') as file:\n",
    "    item_encoder = pickle.load(file)"
   ]
  },
  {
   "cell_type": "code",
   "execution_count": 26,
   "id": "a75d07ee-4b12-4ce5-aa85-e45cb7a7a4f0",
   "metadata": {},
   "outputs": [],
   "source": [
    "# получим энкодированные идентификаторы всех объектов, известных нам из events_train\n",
    "train_item_ids_enc = events_train['item_id_enc'].unique()\n",
    "\n",
    "max_similar_items = 10\n",
    "\n",
    "# получаем списки похожих объектов, используя ранее полученную ALS-модель\n",
    "# метод similar_items возвращает и сам объект, как наиболее похожий\n",
    "# этот объект мы позже отфильтруем, но сейчас запросим на 1 больше\n",
    "similar_items = als_model.similar_items(train_item_ids_enc, N=max_similar_items+1)\n",
    "\n",
    "# преобразуем полученные списки в табличный формат\n",
    "sim_item_item_ids_enc = similar_items[0]\n",
    "sim_item_scores = similar_items[1]\n",
    "\n",
    "similar_items = pd.DataFrame({\n",
    "    \"item_id_enc\": train_item_ids_enc,\n",
    "    \"sim_item_id_enc\": sim_item_item_ids_enc.tolist(), \n",
    "    \"score\": sim_item_scores.tolist()\n",
    "    })\n",
    "similar_items = similar_items.explode([\"sim_item_id_enc\", \"score\"], ignore_index=True)\n",
    "\n",
    "# приводим типы данных\n",
    "similar_items[\"sim_item_id_enc\"] = similar_items[\"sim_item_id_enc\"].astype(\"int\")\n",
    "similar_items[\"score\"] = similar_items[\"score\"].astype(\"float\")\n",
    "\n",
    "# получаем изначальные идентификаторы\n",
    "similar_items[\"item_id_1\"] = item_encoder.inverse_transform(similar_items[\"item_id_enc\"])\n",
    "similar_items[\"item_id_2\"] = item_encoder.inverse_transform(similar_items[\"sim_item_id_enc\"])\n",
    "similar_items = similar_items.drop(columns=[\"item_id_enc\", \"sim_item_id_enc\"])\n",
    "\n",
    "# убираем пары с одинаковыми объектами\n",
    "similar_items = similar_items.query(\"item_id_1 != item_id_2\")"
   ]
  },
  {
   "cell_type": "code",
   "execution_count": 22,
   "id": "ce370904-4c49-4152-8706-416074ea9b9a",
   "metadata": {},
   "outputs": [],
   "source": [
    "assert False\n",
    "similar_items.to_parquet(\"data/similar_items.parquet\")"
   ]
  },
  {
   "cell_type": "code",
   "execution_count": 8,
   "id": "2b5d5451",
   "metadata": {},
   "outputs": [],
   "source": [
    "similar_items = pd.read_parquet(\"data/similar_items.parquet\")"
   ]
  },
  {
   "cell_type": "code",
   "execution_count": 9,
   "id": "28d07a54",
   "metadata": {},
   "outputs": [
    {
     "data": {
      "text/html": [
       "<div>\n",
       "<style scoped>\n",
       "    .dataframe tbody tr th:only-of-type {\n",
       "        vertical-align: middle;\n",
       "    }\n",
       "\n",
       "    .dataframe tbody tr th {\n",
       "        vertical-align: top;\n",
       "    }\n",
       "\n",
       "    .dataframe thead th {\n",
       "        text-align: right;\n",
       "    }\n",
       "</style>\n",
       "<table border=\"1\" class=\"dataframe\">\n",
       "  <thead>\n",
       "    <tr style=\"text-align: right;\">\n",
       "      <th></th>\n",
       "      <th>score</th>\n",
       "      <th>item_id_1</th>\n",
       "      <th>item_id_2</th>\n",
       "    </tr>\n",
       "  </thead>\n",
       "  <tbody>\n",
       "    <tr>\n",
       "      <th>1</th>\n",
       "      <td>0.871136</td>\n",
       "      <td>25973493</td>\n",
       "      <td>27347888</td>\n",
       "    </tr>\n",
       "    <tr>\n",
       "      <th>2</th>\n",
       "      <td>0.856753</td>\n",
       "      <td>25973493</td>\n",
       "      <td>25427088</td>\n",
       "    </tr>\n",
       "    <tr>\n",
       "      <th>3</th>\n",
       "      <td>0.852567</td>\n",
       "      <td>25973493</td>\n",
       "      <td>25973506</td>\n",
       "    </tr>\n",
       "    <tr>\n",
       "      <th>4</th>\n",
       "      <td>0.849883</td>\n",
       "      <td>25973493</td>\n",
       "      <td>30087651</td>\n",
       "    </tr>\n",
       "    <tr>\n",
       "      <th>5</th>\n",
       "      <td>0.847203</td>\n",
       "      <td>25973493</td>\n",
       "      <td>25297534</td>\n",
       "    </tr>\n",
       "  </tbody>\n",
       "</table>\n",
       "</div>"
      ],
      "text/plain": [
       "      score  item_id_1  item_id_2\n",
       "1  0.871136   25973493   27347888\n",
       "2  0.856753   25973493   25427088\n",
       "3  0.852567   25973493   25973506\n",
       "4  0.849883   25973493   30087651\n",
       "5  0.847203   25973493   25297534"
      ]
     },
     "execution_count": 9,
     "metadata": {},
     "output_type": "execute_result"
    }
   ],
   "source": [
    "similar_items.head()"
   ]
  },
  {
   "cell_type": "code",
   "execution_count": 14,
   "id": "612228be",
   "metadata": {},
   "outputs": [
    {
     "data": {
      "text/html": [
       "<div>\n",
       "<style scoped>\n",
       "    .dataframe tbody tr th:only-of-type {\n",
       "        vertical-align: middle;\n",
       "    }\n",
       "\n",
       "    .dataframe tbody tr th {\n",
       "        vertical-align: top;\n",
       "    }\n",
       "\n",
       "    .dataframe thead th {\n",
       "        text-align: right;\n",
       "    }\n",
       "</style>\n",
       "<table border=\"1\" class=\"dataframe\">\n",
       "  <thead>\n",
       "    <tr style=\"text-align: right;\">\n",
       "      <th></th>\n",
       "      <th>user_id</th>\n",
       "      <th>item_id</th>\n",
       "      <th>track_seq</th>\n",
       "      <th>started_at</th>\n",
       "      <th>tracks_cnt</th>\n",
       "      <th>users_cnt</th>\n",
       "      <th>user_id_enc</th>\n",
       "      <th>item_id_enc</th>\n",
       "    </tr>\n",
       "  </thead>\n",
       "  <tbody>\n",
       "    <tr>\n",
       "      <th>0</th>\n",
       "      <td>1000000</td>\n",
       "      <td>25973493</td>\n",
       "      <td>1</td>\n",
       "      <td>2022-06-25</td>\n",
       "      <td>5</td>\n",
       "      <td>36</td>\n",
       "      <td>0</td>\n",
       "      <td>385517</td>\n",
       "    </tr>\n",
       "    <tr>\n",
       "      <th>1</th>\n",
       "      <td>1000000</td>\n",
       "      <td>31763491</td>\n",
       "      <td>2</td>\n",
       "      <td>2022-06-26</td>\n",
       "      <td>5</td>\n",
       "      <td>489</td>\n",
       "      <td>0</td>\n",
       "      <td>454663</td>\n",
       "    </tr>\n",
       "    <tr>\n",
       "      <th>2</th>\n",
       "      <td>1000000</td>\n",
       "      <td>34685697</td>\n",
       "      <td>3</td>\n",
       "      <td>2022-07-03</td>\n",
       "      <td>5</td>\n",
       "      <td>18</td>\n",
       "      <td>0</td>\n",
       "      <td>501659</td>\n",
       "    </tr>\n",
       "    <tr>\n",
       "      <th>3</th>\n",
       "      <td>1000000</td>\n",
       "      <td>41554596</td>\n",
       "      <td>4</td>\n",
       "      <td>2022-07-14</td>\n",
       "      <td>5</td>\n",
       "      <td>131</td>\n",
       "      <td>0</td>\n",
       "      <td>598649</td>\n",
       "    </tr>\n",
       "    <tr>\n",
       "      <th>4</th>\n",
       "      <td>1000000</td>\n",
       "      <td>77549332</td>\n",
       "      <td>5</td>\n",
       "      <td>2022-07-22</td>\n",
       "      <td>5</td>\n",
       "      <td>380</td>\n",
       "      <td>0</td>\n",
       "      <td>911478</td>\n",
       "    </tr>\n",
       "  </tbody>\n",
       "</table>\n",
       "</div>"
      ],
      "text/plain": [
       "   user_id   item_id  track_seq started_at  tracks_cnt  users_cnt  \\\n",
       "0  1000000  25973493          1 2022-06-25           5         36   \n",
       "1  1000000  31763491          2 2022-06-26           5        489   \n",
       "2  1000000  34685697          3 2022-07-03           5         18   \n",
       "3  1000000  41554596          4 2022-07-14           5        131   \n",
       "4  1000000  77549332          5 2022-07-22           5        380   \n",
       "\n",
       "   user_id_enc  item_id_enc  \n",
       "0            0       385517  \n",
       "1            0       454663  \n",
       "2            0       501659  \n",
       "3            0       598649  \n",
       "4            0       911478  "
      ]
     },
     "execution_count": 14,
     "metadata": {},
     "output_type": "execute_result"
    }
   ],
   "source": [
    "events_train.head()"
   ]
  },
  {
   "cell_type": "markdown",
   "id": "0e32a6f3",
   "metadata": {},
   "source": [
    "Убедимся, что объекты действительно похожи"
   ]
  },
  {
   "cell_type": "code",
   "execution_count": 10,
   "id": "89609d74",
   "metadata": {},
   "outputs": [],
   "source": [
    "def print_sim_items(item_id, similar_items):\n",
    "\n",
    "    item_id_1 = items.query(\"item_id == @item_id\")\n",
    "    display(item_id_1)\n",
    "    \n",
    "    si = similar_items.query(\"item_id_1 == @item_id\")\n",
    "    si = si.merge(items.set_index(\"item_id\"), left_on=\"item_id_2\", right_index=True)\n",
    "    display(si)"
   ]
  },
  {
   "cell_type": "code",
   "execution_count": 20,
   "id": "652772c9",
   "metadata": {},
   "outputs": [
    {
     "data": {
      "text/html": [
       "<div>\n",
       "<style scoped>\n",
       "    .dataframe tbody tr th:only-of-type {\n",
       "        vertical-align: middle;\n",
       "    }\n",
       "\n",
       "    .dataframe tbody tr th {\n",
       "        vertical-align: top;\n",
       "    }\n",
       "\n",
       "    .dataframe thead th {\n",
       "        text-align: right;\n",
       "    }\n",
       "</style>\n",
       "<table border=\"1\" class=\"dataframe\">\n",
       "  <thead>\n",
       "    <tr style=\"text-align: right;\">\n",
       "      <th></th>\n",
       "      <th>item_id</th>\n",
       "      <th>albums</th>\n",
       "      <th>artists</th>\n",
       "      <th>genres</th>\n",
       "      <th>track_name</th>\n",
       "      <th>item_id_enc</th>\n",
       "    </tr>\n",
       "  </thead>\n",
       "  <tbody>\n",
       "    <tr>\n",
       "      <th>483876</th>\n",
       "      <td>33311009</td>\n",
       "      <td>{25561: 'Shape Of Pop', 11011: \"NOW That's Wha...</td>\n",
       "      <td>{1053: 'Imagine Dragons'}</td>\n",
       "      <td>{7: 'rock', 3: 'allrock'}</td>\n",
       "      <td>Believer</td>\n",
       "      <td>483876</td>\n",
       "    </tr>\n",
       "  </tbody>\n",
       "</table>\n",
       "</div>"
      ],
      "text/plain": [
       "         item_id                                             albums  \\\n",
       "483876  33311009  {25561: 'Shape Of Pop', 11011: \"NOW That's Wha...   \n",
       "\n",
       "                          artists                     genres track_name  \\\n",
       "483876  {1053: 'Imagine Dragons'}  {7: 'rock', 3: 'allrock'}   Believer   \n",
       "\n",
       "        item_id_enc  \n",
       "483876       483876  "
      ]
     },
     "metadata": {},
     "output_type": "display_data"
    },
    {
     "data": {
      "text/html": [
       "<div>\n",
       "<style scoped>\n",
       "    .dataframe tbody tr th:only-of-type {\n",
       "        vertical-align: middle;\n",
       "    }\n",
       "\n",
       "    .dataframe tbody tr th {\n",
       "        vertical-align: top;\n",
       "    }\n",
       "\n",
       "    .dataframe thead th {\n",
       "        text-align: right;\n",
       "    }\n",
       "</style>\n",
       "<table border=\"1\" class=\"dataframe\">\n",
       "  <thead>\n",
       "    <tr style=\"text-align: right;\">\n",
       "      <th></th>\n",
       "      <th>score</th>\n",
       "      <th>item_id_1</th>\n",
       "      <th>item_id_2</th>\n",
       "      <th>albums</th>\n",
       "      <th>artists</th>\n",
       "      <th>genres</th>\n",
       "      <th>track_name</th>\n",
       "      <th>item_id_enc</th>\n",
       "    </tr>\n",
       "  </thead>\n",
       "  <tbody>\n",
       "    <tr>\n",
       "      <th>760</th>\n",
       "      <td>0.962708</td>\n",
       "      <td>33311009</td>\n",
       "      <td>34976783</td>\n",
       "      <td>{201815: 'Thunder', 5961: 'Summer Songs'}</td>\n",
       "      <td>{1053: 'Imagine Dragons'}</td>\n",
       "      <td>{7: 'rock', 3: 'allrock'}</td>\n",
       "      <td>Thunder</td>\n",
       "      <td>504691</td>\n",
       "    </tr>\n",
       "    <tr>\n",
       "      <th>761</th>\n",
       "      <td>0.943071</td>\n",
       "      <td>33311009</td>\n",
       "      <td>35170143</td>\n",
       "      <td>{202825: 'Whatever It Takes', 54002: 'Gaming F...</td>\n",
       "      <td>{1053: 'Imagine Dragons'}</td>\n",
       "      <td>{7: 'rock', 3: 'allrock'}</td>\n",
       "      <td>Whatever It Takes</td>\n",
       "      <td>507283</td>\n",
       "    </tr>\n",
       "    <tr>\n",
       "      <th>762</th>\n",
       "      <td>0.936679</td>\n",
       "      <td>33311009</td>\n",
       "      <td>29544272</td>\n",
       "      <td>{171827: 'Human', 5458: 'Human'}</td>\n",
       "      <td>{1687: \"Rag'n'Bone Man\"}</td>\n",
       "      <td>{11: 'soundtrack', 15: 'indie'}</td>\n",
       "      <td>Human</td>\n",
       "      <td>427048</td>\n",
       "    </tr>\n",
       "    <tr>\n",
       "      <th>763</th>\n",
       "      <td>0.921850</td>\n",
       "      <td>33311009</td>\n",
       "      <td>33977439</td>\n",
       "      <td>{196033: 'Feel It Still', 31182: 'Woodstock'}</td>\n",
       "      <td>{1585: 'Portugal. The Man'}</td>\n",
       "      <td>{15: 'indie'}</td>\n",
       "      <td>Feel It Still</td>\n",
       "      <td>492110</td>\n",
       "    </tr>\n",
       "    <tr>\n",
       "      <th>764</th>\n",
       "      <td>0.919310</td>\n",
       "      <td>33311009</td>\n",
       "      <td>32947997</td>\n",
       "      <td>{189872: 'Shape of You', 21170: '÷'}</td>\n",
       "      <td>{379: 'Ed Sheeran'}</td>\n",
       "      <td>{0: 'pop'}</td>\n",
       "      <td>Shape of You</td>\n",
       "      <td>475289</td>\n",
       "    </tr>\n",
       "    <tr>\n",
       "      <th>765</th>\n",
       "      <td>0.918885</td>\n",
       "      <td>33311009</td>\n",
       "      <td>42197229</td>\n",
       "      <td>{249541: 'Natural', 20078: 'Origins'}</td>\n",
       "      <td>{1053: 'Imagine Dragons'}</td>\n",
       "      <td>{7: 'rock', 3: 'allrock'}</td>\n",
       "      <td>Natural</td>\n",
       "      <td>606716</td>\n",
       "    </tr>\n",
       "    <tr>\n",
       "      <th>766</th>\n",
       "      <td>0.917806</td>\n",
       "      <td>33311009</td>\n",
       "      <td>29611476</td>\n",
       "      <td>{172159: 'Heathens', 45154: 'Suicide Squad: Th...</td>\n",
       "      <td>{2317: 'twenty one pilots'}</td>\n",
       "      <td>{29: 'films', 11: 'soundtrack'}</td>\n",
       "      <td>Heathens</td>\n",
       "      <td>427770</td>\n",
       "    </tr>\n",
       "    <tr>\n",
       "      <th>767</th>\n",
       "      <td>0.908702</td>\n",
       "      <td>33311009</td>\n",
       "      <td>24692821</td>\n",
       "      <td>{174592: 'Way down We Go', 1029: 'Summer Music...</td>\n",
       "      <td>{9537: 'KALEO'}</td>\n",
       "      <td>{15: 'indie'}</td>\n",
       "      <td>Way Down We Go</td>\n",
       "      <td>368072</td>\n",
       "    </tr>\n",
       "    <tr>\n",
       "      <th>768</th>\n",
       "      <td>0.894922</td>\n",
       "      <td>33311009</td>\n",
       "      <td>36479667</td>\n",
       "      <td>{211772: 'Havana', 25971: 'Camila'}</td>\n",
       "      <td>{4117: 'Camila Cabello', 201: 'Young Thug'}</td>\n",
       "      <td>{0: 'pop'}</td>\n",
       "      <td>Havana</td>\n",
       "      <td>526457</td>\n",
       "    </tr>\n",
       "    <tr>\n",
       "      <th>769</th>\n",
       "      <td>0.880868</td>\n",
       "      <td>33311009</td>\n",
       "      <td>32188268</td>\n",
       "      <td>{185202: 'Be Mine', 440: 'Winter Music 2017'}</td>\n",
       "      <td>{3594: 'Ofenbach'}</td>\n",
       "      <td>{0: 'pop'}</td>\n",
       "      <td>Be Mine</td>\n",
       "      <td>461570</td>\n",
       "    </tr>\n",
       "  </tbody>\n",
       "</table>\n",
       "</div>"
      ],
      "text/plain": [
       "        score  item_id_1  item_id_2  \\\n",
       "760  0.962708   33311009   34976783   \n",
       "761  0.943071   33311009   35170143   \n",
       "762  0.936679   33311009   29544272   \n",
       "763  0.921850   33311009   33977439   \n",
       "764  0.919310   33311009   32947997   \n",
       "765  0.918885   33311009   42197229   \n",
       "766  0.917806   33311009   29611476   \n",
       "767  0.908702   33311009   24692821   \n",
       "768  0.894922   33311009   36479667   \n",
       "769  0.880868   33311009   32188268   \n",
       "\n",
       "                                                albums  \\\n",
       "760          {201815: 'Thunder', 5961: 'Summer Songs'}   \n",
       "761  {202825: 'Whatever It Takes', 54002: 'Gaming F...   \n",
       "762                   {171827: 'Human', 5458: 'Human'}   \n",
       "763      {196033: 'Feel It Still', 31182: 'Woodstock'}   \n",
       "764               {189872: 'Shape of You', 21170: '÷'}   \n",
       "765              {249541: 'Natural', 20078: 'Origins'}   \n",
       "766  {172159: 'Heathens', 45154: 'Suicide Squad: Th...   \n",
       "767  {174592: 'Way down We Go', 1029: 'Summer Music...   \n",
       "768                {211772: 'Havana', 25971: 'Camila'}   \n",
       "769      {185202: 'Be Mine', 440: 'Winter Music 2017'}   \n",
       "\n",
       "                                         artists  \\\n",
       "760                    {1053: 'Imagine Dragons'}   \n",
       "761                    {1053: 'Imagine Dragons'}   \n",
       "762                     {1687: \"Rag'n'Bone Man\"}   \n",
       "763                  {1585: 'Portugal. The Man'}   \n",
       "764                          {379: 'Ed Sheeran'}   \n",
       "765                    {1053: 'Imagine Dragons'}   \n",
       "766                  {2317: 'twenty one pilots'}   \n",
       "767                              {9537: 'KALEO'}   \n",
       "768  {4117: 'Camila Cabello', 201: 'Young Thug'}   \n",
       "769                           {3594: 'Ofenbach'}   \n",
       "\n",
       "                              genres         track_name  item_id_enc  \n",
       "760        {7: 'rock', 3: 'allrock'}            Thunder       504691  \n",
       "761        {7: 'rock', 3: 'allrock'}  Whatever It Takes       507283  \n",
       "762  {11: 'soundtrack', 15: 'indie'}              Human       427048  \n",
       "763                    {15: 'indie'}      Feel It Still       492110  \n",
       "764                       {0: 'pop'}       Shape of You       475289  \n",
       "765        {7: 'rock', 3: 'allrock'}            Natural       606716  \n",
       "766  {29: 'films', 11: 'soundtrack'}           Heathens       427770  \n",
       "767                    {15: 'indie'}     Way Down We Go       368072  \n",
       "768                       {0: 'pop'}             Havana       526457  \n",
       "769                       {0: 'pop'}            Be Mine       461570  "
      ]
     },
     "metadata": {},
     "output_type": "display_data"
    }
   ],
   "source": [
    "print_sim_items(33311009, similar_items)"
   ]
  },
  {
   "cell_type": "markdown",
   "id": "0087a3e7-ca9f-42cd-944c-944222c1baef",
   "metadata": {},
   "source": [
    "# Построение признаков"
   ]
  },
  {
   "cell_type": "markdown",
   "id": "e82a32e1-b90b-4eaf-9439-fc8deab9f34b",
   "metadata": {},
   "source": [
    "Построим три признака, можно больше, для ранжирующей модели."
   ]
  },
  {
   "cell_type": "code",
   "execution_count": 2,
   "id": "b81fc5b2",
   "metadata": {},
   "outputs": [],
   "source": [
    "import logging\n",
    "\n",
    "import matplotlib.pyplot as plt\n",
    "import numpy as np\n",
    "import pandas as pd\n",
    "\n",
    "import datetime\n",
    "import uuid\n",
    "\n",
    "import scipy\n",
    "import sklearn.preprocessing\n",
    "import sklearn \n",
    "\n",
    "from scipy.sparse import csr_matrix, save_npz, load_npz\n",
    "import pickle\n",
    "\n",
    "from sklearn.metrics.pairwise import cosine_similarity\n",
    "from implicit.als import AlternatingLeastSquares"
   ]
  },
  {
   "cell_type": "code",
   "execution_count": 4,
   "id": "8fdec81e",
   "metadata": {},
   "outputs": [],
   "source": [
    "events_train = pd.read_parquet('data/events_train.parquet')\n",
    "events_test = pd.read_parquet('data/events_test.parquet')\n",
    "als_recommendations = pd.read_parquet('data/personal_als.parquet')"
   ]
  },
  {
   "cell_type": "code",
   "execution_count": 8,
   "id": "5e250e11",
   "metadata": {},
   "outputs": [
    {
     "data": {
      "text/plain": [
       "started_at\n",
       "2022-12-16    108442\n",
       "2022-12-17    107569\n",
       "2022-12-18    106180\n",
       "2022-12-19    104686\n",
       "2022-12-20    102953\n",
       "2022-12-21    100806\n",
       "2022-12-22     98674\n",
       "2022-12-23     95836\n",
       "2022-12-24     92910\n",
       "2022-12-25     89228\n",
       "2022-12-26     84790\n",
       "2022-12-27     79188\n",
       "2022-12-28     72081\n",
       "2022-12-29     62609\n",
       "2022-12-30     48510\n",
       "2022-12-31     15047\n",
       "Name: count, dtype: int64"
      ]
     },
     "execution_count": 8,
     "metadata": {},
     "output_type": "execute_result"
    }
   ],
   "source": [
    "events_test[\"started_at\"].value_counts()"
   ]
  },
  {
   "cell_type": "code",
   "execution_count": 5,
   "id": "f4430208",
   "metadata": {},
   "outputs": [],
   "source": [
    "# задаём точку разбиения\n",
    "split_date_for_labels = pd.to_datetime(\"2022-12-22\")\n",
    "\n",
    "split_date_for_labels_idx = events_test[\"started_at\"] < split_date_for_labels\n",
    "events_labels = events_test[split_date_for_labels_idx].copy()\n",
    "events_test_2 = events_test[~split_date_for_labels_idx].copy()"
   ]
  },
  {
   "cell_type": "code",
   "execution_count": 10,
   "id": "cb1f3e40",
   "metadata": {},
   "outputs": [
    {
     "name": "stdout",
     "output_type": "stream",
     "text": [
      "630636 738873\n"
     ]
    }
   ],
   "source": [
    "print(events_labels.shape[0], events_test_2.shape[0])"
   ]
  },
  {
   "cell_type": "code",
   "execution_count": 16,
   "id": "5db403e9",
   "metadata": {},
   "outputs": [],
   "source": [
    "assert False\n",
    "events_labels.to_parquet('data/events_labels.parquet', index=False)\n",
    "events_test_2.to_parquet('data/events_test_2.parquet', index=False)"
   ]
  },
  {
   "cell_type": "code",
   "execution_count": 18,
   "id": "412eb694",
   "metadata": {},
   "outputs": [
    {
     "data": {
      "text/html": [
       "<div>\n",
       "<style scoped>\n",
       "    .dataframe tbody tr th:only-of-type {\n",
       "        vertical-align: middle;\n",
       "    }\n",
       "\n",
       "    .dataframe tbody tr th {\n",
       "        vertical-align: top;\n",
       "    }\n",
       "\n",
       "    .dataframe thead th {\n",
       "        text-align: right;\n",
       "    }\n",
       "</style>\n",
       "<table border=\"1\" class=\"dataframe\">\n",
       "  <thead>\n",
       "    <tr style=\"text-align: right;\">\n",
       "      <th></th>\n",
       "      <th>user_id</th>\n",
       "      <th>item_id</th>\n",
       "      <th>score</th>\n",
       "    </tr>\n",
       "  </thead>\n",
       "  <tbody>\n",
       "    <tr>\n",
       "      <th>0</th>\n",
       "      <td>1000000</td>\n",
       "      <td>79071657</td>\n",
       "      <td>0.007624</td>\n",
       "    </tr>\n",
       "    <tr>\n",
       "      <th>1</th>\n",
       "      <td>1000000</td>\n",
       "      <td>78669680</td>\n",
       "      <td>0.007526</td>\n",
       "    </tr>\n",
       "    <tr>\n",
       "      <th>2</th>\n",
       "      <td>1000000</td>\n",
       "      <td>74163432</td>\n",
       "      <td>0.007194</td>\n",
       "    </tr>\n",
       "    <tr>\n",
       "      <th>3</th>\n",
       "      <td>1000000</td>\n",
       "      <td>78619463</td>\n",
       "      <td>0.007177</td>\n",
       "    </tr>\n",
       "    <tr>\n",
       "      <th>4</th>\n",
       "      <td>1000000</td>\n",
       "      <td>71308883</td>\n",
       "      <td>0.006726</td>\n",
       "    </tr>\n",
       "  </tbody>\n",
       "</table>\n",
       "</div>"
      ],
      "text/plain": [
       "   user_id   item_id     score\n",
       "0  1000000  79071657  0.007624\n",
       "1  1000000  78669680  0.007526\n",
       "2  1000000  74163432  0.007194\n",
       "3  1000000  78619463  0.007177\n",
       "4  1000000  71308883  0.006726"
      ]
     },
     "execution_count": 18,
     "metadata": {},
     "output_type": "execute_result"
    }
   ],
   "source": [
    "als_recommendations.head()"
   ]
  },
  {
   "cell_type": "code",
   "execution_count": 9,
   "id": "c6cf0179",
   "metadata": {},
   "outputs": [],
   "source": [
    "events_labels = pd.read_parquet('data/events_labels.parquet')\n",
    "events_test_2 = pd.read_parquet('data/events_test_2.parquet')"
   ]
  },
  {
   "cell_type": "code",
   "execution_count": 11,
   "id": "91aa6466",
   "metadata": {},
   "outputs": [],
   "source": [
    "# добавляем таргет к кандидатам со значением:\n",
    "# — 1 для тех item_id, которые пользователь прочитал\n",
    "# — 0, для всех остальных \n",
    "\n",
    "events_labels[\"target\"] = 1\n",
    "candidates = als_recommendations.merge(events_labels[[\"user_id\", \"item_id\", \"target\"]], \n",
    "                              on=[\"user_id\", \"item_id\"], \n",
    "                              how=\"left\")\n",
    "candidates[\"target\"] = candidates[\"target\"].fillna(0).astype(\"int\")\n",
    "\n",
    "# в кандидатах оставляем только тех пользователей, у которых есть хотя бы один положительный таргет\n",
    "candidates_to_sample = candidates.groupby(\"user_id\").filter(lambda x: x[\"target\"].sum() > 0)\n",
    "\n",
    "# для каждого пользователя оставляем только 4 негативных примера\n",
    "negatives_per_user = 4\n",
    "candidates_for_train = pd.concat([\n",
    "    candidates_to_sample.query(\"target == 1\"),\n",
    "    candidates_to_sample.query(\"target == 0\") \\\n",
    "        .groupby(\"user_id\") \\\n",
    "        .apply(lambda x: x.sample(negatives_per_user, random_state=0))\n",
    "    ])"
   ]
  },
  {
   "cell_type": "code",
   "execution_count": 12,
   "id": "c01143f8",
   "metadata": {},
   "outputs": [
    {
     "data": {
      "text/plain": [
       "(146979, 4)"
      ]
     },
     "execution_count": 12,
     "metadata": {},
     "output_type": "execute_result"
    }
   ],
   "source": [
    "candidates_for_train.shape"
   ]
  },
  {
   "cell_type": "code",
   "execution_count": 20,
   "id": "42ec9713",
   "metadata": {},
   "outputs": [],
   "source": [
    "assert False\n",
    "candidates_for_train.to_parquet('data/candidates_for_train.parquet', index=False)"
   ]
  },
  {
   "cell_type": "code",
   "execution_count": null,
   "id": "e89c84bf",
   "metadata": {},
   "outputs": [],
   "source": [
    "candidates_for_train = pd.read_parquet('data/candidates_for_train.parquet')"
   ]
  },
  {
   "cell_type": "code",
   "execution_count": 13,
   "id": "40d86257",
   "metadata": {},
   "outputs": [],
   "source": [
    "events_inference = pd.concat([events_train, events_labels])\n",
    "events_inference = events_inference[events_inference[\"user_id\"].isin(events_test_2[\"user_id\"].drop_duplicates())]"
   ]
  },
  {
   "cell_type": "code",
   "execution_count": 18,
   "id": "4fc7a6cd",
   "metadata": {},
   "outputs": [
    {
     "name": "stdout",
     "output_type": "stream",
     "text": [
      "(27246000, 3)\n"
     ]
    }
   ],
   "source": [
    "# оставляем только тех пользователей, что есть в тестовой выборке, для экономии ресурсов\n",
    "candidates_to_rank = als_recommendations[als_recommendations[\"user_id\"].isin(events_test_2[\"user_id\"].drop_duplicates())]\n",
    "print(candidates_to_rank.shape)"
   ]
  },
  {
   "cell_type": "code",
   "execution_count": 20,
   "id": "68e84a3e",
   "metadata": {},
   "outputs": [
    {
     "data": {
      "text/html": [
       "<div>\n",
       "<style scoped>\n",
       "    .dataframe tbody tr th:only-of-type {\n",
       "        vertical-align: middle;\n",
       "    }\n",
       "\n",
       "    .dataframe tbody tr th {\n",
       "        vertical-align: top;\n",
       "    }\n",
       "\n",
       "    .dataframe thead th {\n",
       "        text-align: right;\n",
       "    }\n",
       "</style>\n",
       "<table border=\"1\" class=\"dataframe\">\n",
       "  <thead>\n",
       "    <tr style=\"text-align: right;\">\n",
       "      <th></th>\n",
       "      <th>user_id</th>\n",
       "      <th>item_id</th>\n",
       "      <th>score</th>\n",
       "    </tr>\n",
       "  </thead>\n",
       "  <tbody>\n",
       "    <tr>\n",
       "      <th>500</th>\n",
       "      <td>1000006</td>\n",
       "      <td>62352387</td>\n",
       "      <td>0.049623</td>\n",
       "    </tr>\n",
       "    <tr>\n",
       "      <th>501</th>\n",
       "      <td>1000006</td>\n",
       "      <td>54798445</td>\n",
       "      <td>0.043902</td>\n",
       "    </tr>\n",
       "    <tr>\n",
       "      <th>502</th>\n",
       "      <td>1000006</td>\n",
       "      <td>56920241</td>\n",
       "      <td>0.043137</td>\n",
       "    </tr>\n",
       "    <tr>\n",
       "      <th>503</th>\n",
       "      <td>1000006</td>\n",
       "      <td>45499814</td>\n",
       "      <td>0.042230</td>\n",
       "    </tr>\n",
       "    <tr>\n",
       "      <th>504</th>\n",
       "      <td>1000006</td>\n",
       "      <td>49961817</td>\n",
       "      <td>0.041083</td>\n",
       "    </tr>\n",
       "    <tr>\n",
       "      <th>...</th>\n",
       "      <td>...</td>\n",
       "      <td>...</td>\n",
       "      <td>...</td>\n",
       "    </tr>\n",
       "    <tr>\n",
       "      <th>113673295</th>\n",
       "      <td>2287702</td>\n",
       "      <td>66495392</td>\n",
       "      <td>0.047082</td>\n",
       "    </tr>\n",
       "    <tr>\n",
       "      <th>113673296</th>\n",
       "      <td>2287702</td>\n",
       "      <td>63960996</td>\n",
       "      <td>0.047076</td>\n",
       "    </tr>\n",
       "    <tr>\n",
       "      <th>113673297</th>\n",
       "      <td>2287702</td>\n",
       "      <td>80711073</td>\n",
       "      <td>0.046872</td>\n",
       "    </tr>\n",
       "    <tr>\n",
       "      <th>113673298</th>\n",
       "      <td>2287702</td>\n",
       "      <td>78231669</td>\n",
       "      <td>0.046870</td>\n",
       "    </tr>\n",
       "    <tr>\n",
       "      <th>113673299</th>\n",
       "      <td>2287702</td>\n",
       "      <td>71360530</td>\n",
       "      <td>0.046809</td>\n",
       "    </tr>\n",
       "  </tbody>\n",
       "</table>\n",
       "<p>27246000 rows × 3 columns</p>\n",
       "</div>"
      ],
      "text/plain": [
       "           user_id   item_id     score\n",
       "500        1000006  62352387  0.049623\n",
       "501        1000006  54798445  0.043902\n",
       "502        1000006  56920241  0.043137\n",
       "503        1000006  45499814  0.042230\n",
       "504        1000006  49961817  0.041083\n",
       "...            ...       ...       ...\n",
       "113673295  2287702  66495392  0.047082\n",
       "113673296  2287702  63960996  0.047076\n",
       "113673297  2287702  80711073  0.046872\n",
       "113673298  2287702  78231669  0.046870\n",
       "113673299  2287702  71360530  0.046809\n",
       "\n",
       "[27246000 rows x 3 columns]"
      ]
     },
     "execution_count": 20,
     "metadata": {},
     "output_type": "execute_result"
    }
   ],
   "source": [
    "candidates_to_rank"
   ]
  },
  {
   "cell_type": "code",
   "execution_count": 22,
   "id": "9c6ff185",
   "metadata": {},
   "outputs": [
    {
     "name": "stderr",
     "output_type": "stream",
     "text": [
      "/tmp/ipykernel_3598/3779055581.py:1: SettingWithCopyWarning: \n",
      "A value is trying to be set on a copy of a slice from a DataFrame\n",
      "\n",
      "See the caveats in the documentation: https://pandas.pydata.org/pandas-docs/stable/user_guide/indexing.html#returning-a-view-versus-a-copy\n",
      "  candidates_to_rank.query(\"score > 0\", inplace=True)\n"
     ]
    }
   ],
   "source": [
    "candidates_to_rank.query(\"score > 0\", inplace=True)"
   ]
  },
  {
   "cell_type": "code",
   "execution_count": 23,
   "id": "c97b9e18",
   "metadata": {},
   "outputs": [
    {
     "data": {
      "text/plain": [
       "(24357300, 3)"
      ]
     },
     "execution_count": 23,
     "metadata": {},
     "output_type": "execute_result"
    }
   ],
   "source": [
    "candidates_to_rank.shape"
   ]
  },
  {
   "cell_type": "code",
   "execution_count": 24,
   "id": "635cc6a0",
   "metadata": {},
   "outputs": [],
   "source": [
    "candidates_to_rank.reset_index(drop=True, inplace=True)"
   ]
  },
  {
   "cell_type": "code",
   "execution_count": 25,
   "id": "080017ce",
   "metadata": {},
   "outputs": [
    {
     "name": "stderr",
     "output_type": "stream",
     "text": [
      "/tmp/ipykernel_3598/944051501.py:1: SettingWithCopyWarning: \n",
      "A value is trying to be set on a copy of a slice from a DataFrame\n",
      "\n",
      "See the caveats in the documentation: https://pandas.pydata.org/pandas-docs/stable/user_guide/indexing.html#returning-a-view-versus-a-copy\n",
      "  candidates_to_rank.sort_values(by=['user_id', 'score'], ascending=False, inplace=True)\n",
      "/tmp/ipykernel_3598/944051501.py:2: SettingWithCopyWarning: \n",
      "A value is trying to be set on a copy of a slice from a DataFrame.\n",
      "Try using .loc[row_indexer,col_indexer] = value instead\n",
      "\n",
      "See the caveats in the documentation: https://pandas.pydata.org/pandas-docs/stable/user_guide/indexing.html#returning-a-view-versus-a-copy\n",
      "  candidates_to_rank[\"rank\"] = candidates_to_rank.groupby(\"user_id\")[\"score\"].cumcount() + 1\n"
     ]
    }
   ],
   "source": [
    "candidates_to_rank.sort_values(by=['user_id', 'score'], ascending=False, inplace=True)\n",
    "candidates_to_rank[\"rank\"] = candidates_to_rank.groupby(\"user_id\")[\"score\"].cumcount() + 1"
   ]
  },
  {
   "cell_type": "code",
   "execution_count": 26,
   "id": "e352f135",
   "metadata": {},
   "outputs": [
    {
     "data": {
      "text/html": [
       "<div>\n",
       "<style scoped>\n",
       "    .dataframe tbody tr th:only-of-type {\n",
       "        vertical-align: middle;\n",
       "    }\n",
       "\n",
       "    .dataframe tbody tr th {\n",
       "        vertical-align: top;\n",
       "    }\n",
       "\n",
       "    .dataframe thead th {\n",
       "        text-align: right;\n",
       "    }\n",
       "</style>\n",
       "<table border=\"1\" class=\"dataframe\">\n",
       "  <thead>\n",
       "    <tr style=\"text-align: right;\">\n",
       "      <th></th>\n",
       "      <th>user_id</th>\n",
       "      <th>item_id</th>\n",
       "      <th>score</th>\n",
       "      <th>rank</th>\n",
       "    </tr>\n",
       "  </thead>\n",
       "  <tbody>\n",
       "    <tr>\n",
       "      <th>24357200</th>\n",
       "      <td>2287702</td>\n",
       "      <td>76030982</td>\n",
       "      <td>0.076554</td>\n",
       "      <td>1</td>\n",
       "    </tr>\n",
       "    <tr>\n",
       "      <th>24357201</th>\n",
       "      <td>2287702</td>\n",
       "      <td>72819004</td>\n",
       "      <td>0.075325</td>\n",
       "      <td>2</td>\n",
       "    </tr>\n",
       "    <tr>\n",
       "      <th>24357202</th>\n",
       "      <td>2287702</td>\n",
       "      <td>71514785</td>\n",
       "      <td>0.074435</td>\n",
       "      <td>3</td>\n",
       "    </tr>\n",
       "    <tr>\n",
       "      <th>24357203</th>\n",
       "      <td>2287702</td>\n",
       "      <td>67854450</td>\n",
       "      <td>0.072005</td>\n",
       "      <td>4</td>\n",
       "    </tr>\n",
       "    <tr>\n",
       "      <th>24357204</th>\n",
       "      <td>2287702</td>\n",
       "      <td>64866164</td>\n",
       "      <td>0.071706</td>\n",
       "      <td>5</td>\n",
       "    </tr>\n",
       "    <tr>\n",
       "      <th>...</th>\n",
       "      <td>...</td>\n",
       "      <td>...</td>\n",
       "      <td>...</td>\n",
       "      <td>...</td>\n",
       "    </tr>\n",
       "    <tr>\n",
       "      <th>24357295</th>\n",
       "      <td>2287702</td>\n",
       "      <td>66495392</td>\n",
       "      <td>0.047082</td>\n",
       "      <td>96</td>\n",
       "    </tr>\n",
       "    <tr>\n",
       "      <th>24357296</th>\n",
       "      <td>2287702</td>\n",
       "      <td>63960996</td>\n",
       "      <td>0.047076</td>\n",
       "      <td>97</td>\n",
       "    </tr>\n",
       "    <tr>\n",
       "      <th>24357297</th>\n",
       "      <td>2287702</td>\n",
       "      <td>80711073</td>\n",
       "      <td>0.046872</td>\n",
       "      <td>98</td>\n",
       "    </tr>\n",
       "    <tr>\n",
       "      <th>24357298</th>\n",
       "      <td>2287702</td>\n",
       "      <td>78231669</td>\n",
       "      <td>0.046870</td>\n",
       "      <td>99</td>\n",
       "    </tr>\n",
       "    <tr>\n",
       "      <th>24357299</th>\n",
       "      <td>2287702</td>\n",
       "      <td>71360530</td>\n",
       "      <td>0.046809</td>\n",
       "      <td>100</td>\n",
       "    </tr>\n",
       "  </tbody>\n",
       "</table>\n",
       "<p>100 rows × 4 columns</p>\n",
       "</div>"
      ],
      "text/plain": [
       "          user_id   item_id     score  rank\n",
       "24357200  2287702  76030982  0.076554     1\n",
       "24357201  2287702  72819004  0.075325     2\n",
       "24357202  2287702  71514785  0.074435     3\n",
       "24357203  2287702  67854450  0.072005     4\n",
       "24357204  2287702  64866164  0.071706     5\n",
       "...           ...       ...       ...   ...\n",
       "24357295  2287702  66495392  0.047082    96\n",
       "24357296  2287702  63960996  0.047076    97\n",
       "24357297  2287702  80711073  0.046872    98\n",
       "24357298  2287702  78231669  0.046870    99\n",
       "24357299  2287702  71360530  0.046809   100\n",
       "\n",
       "[100 rows x 4 columns]"
      ]
     },
     "execution_count": 26,
     "metadata": {},
     "output_type": "execute_result"
    }
   ],
   "source": [
    "candidates_to_rank.query(\"user_id == 2287702\")"
   ]
  },
  {
   "cell_type": "code",
   "execution_count": 27,
   "id": "c1ce1b6e",
   "metadata": {},
   "outputs": [
    {
     "data": {
      "text/plain": [
       "(24357300, 4)"
      ]
     },
     "execution_count": 27,
     "metadata": {},
     "output_type": "execute_result"
    }
   ],
   "source": [
    "candidates_to_rank.shape"
   ]
  },
  {
   "cell_type": "code",
   "execution_count": 29,
   "id": "7763d18c",
   "metadata": {},
   "outputs": [],
   "source": [
    "# Для быстрого теста можно взять семпл \n",
    "negatives_per_user = 20\n",
    "candidates_to_rank_sample = candidates_to_rank.query(\"rank <= @negatives_per_user\")"
   ]
  },
  {
   "cell_type": "code",
   "execution_count": 30,
   "id": "8a57361a",
   "metadata": {},
   "outputs": [
    {
     "data": {
      "text/plain": [
       "(4871460, 4)"
      ]
     },
     "execution_count": 30,
     "metadata": {},
     "output_type": "execute_result"
    }
   ],
   "source": [
    "candidates_to_rank_sample.shape"
   ]
  },
  {
   "cell_type": "code",
   "execution_count": 32,
   "id": "1266014e",
   "metadata": {},
   "outputs": [
    {
     "data": {
      "text/plain": [
       "0.2"
      ]
     },
     "execution_count": 32,
     "metadata": {},
     "output_type": "execute_result"
    }
   ],
   "source": [
    "candidates_to_rank_sample.shape[0]/candidates_to_rank.shape[0]"
   ]
  },
  {
   "cell_type": "code",
   "execution_count": 33,
   "id": "0aa17ef9",
   "metadata": {},
   "outputs": [],
   "source": [
    "assert False\n",
    "candidates_to_rank.to_parquet('data/candidates_to_rank.parquet', index=False)\n",
    "candidates_to_rank_sample.to_parquet('data/candidates_to_rank_sample.parquet', index=False)"
   ]
  },
  {
   "cell_type": "code",
   "execution_count": 21,
   "id": "57fa46ce",
   "metadata": {},
   "outputs": [],
   "source": [
    "# candidates_to_rank = pd.read_parquet('data/candidates_to_rank_sample.parquet')"
   ]
  },
  {
   "cell_type": "code",
   "execution_count": 36,
   "id": "1722c80c",
   "metadata": {},
   "outputs": [],
   "source": [
    "items = pd.read_parquet('data/items.parquet')"
   ]
  },
  {
   "cell_type": "code",
   "execution_count": 37,
   "id": "c72e19d2",
   "metadata": {},
   "outputs": [],
   "source": [
    "items['genres'] = items['genres'].apply(eval)"
   ]
  },
  {
   "cell_type": "code",
   "execution_count": 38,
   "id": "00f84c35-f544-4c3d-ad53-9b1d2b684c75",
   "metadata": {},
   "outputs": [],
   "source": [
    "def get_user_features(events):\n",
    "    \"\"\" считает пользовательские признаки \"\"\"\n",
    "    \n",
    "    user_features = events.groupby(\"user_id\").agg(\n",
    "        listening_days=(\"started_at\", lambda x: (x.max()-x.min()).days),\n",
    "        listened_tracks=(\"item_id\", \"nunique\")\n",
    "        )\n",
    "    \n",
    "    user_features[\"tracks_per_day\"] = user_features[\"listened_tracks\"] / user_features[\"listening_days\"]\n",
    "    \n",
    "    return user_features"
   ]
  },
  {
   "cell_type": "code",
   "execution_count": 39,
   "id": "4c6a0fcb",
   "metadata": {},
   "outputs": [],
   "source": [
    "user_features_for_train = get_user_features(events_train)\n",
    "candidates_for_train = candidates_for_train.merge(user_features_for_train, on=\"user_id\", how=\"left\")\n",
    "  \n",
    "# оставим только тех пользователей, что есть в тесте, для экономии ресурсов\n",
    "events_inference = pd.concat([events_train, events_labels])\n",
    "events_inference = events_inference[events_inference[\"user_id\"].isin(events_test[\"user_id\"].drop_duplicates())]\n",
    "\n",
    "user_features_for_ranking = get_user_features(events_inference)\n",
    "candidates_to_rank = candidates_to_rank.merge(user_features_for_ranking, on=[\"user_id\"], how=\"left\")"
   ]
  },
  {
   "cell_type": "code",
   "execution_count": 40,
   "id": "737a0138",
   "metadata": {},
   "outputs": [],
   "source": [
    "assert False\n",
    "candidates_for_train.to_parquet('data/candidates_for_train.parquet', index=False)"
   ]
  },
  {
   "cell_type": "code",
   "execution_count": 41,
   "id": "fdb1b438",
   "metadata": {},
   "outputs": [],
   "source": [
    "assert False\n",
    "candidates_to_rank.to_parquet('data/candidates_to_rank.parquet', index=False)\n",
    "# candidates_to_rank.to_parquet('data/candidates_to_rank_sample.parquet', index=False)"
   ]
  },
  {
   "cell_type": "markdown",
   "id": "c0c64d42",
   "metadata": {},
   "source": [
    "#### На случай если в этом месте крашнется ядро, лучше сделать тут рестарт"
   ]
  },
  {
   "cell_type": "code",
   "execution_count": 29,
   "id": "1371534d",
   "metadata": {},
   "outputs": [],
   "source": [
    "import logging\n",
    "\n",
    "import matplotlib.pyplot as plt\n",
    "import numpy as np\n",
    "import pandas as pd\n",
    "\n",
    "import datetime\n",
    "import uuid\n",
    "\n",
    "import scipy\n",
    "import sklearn.preprocessing\n",
    "import sklearn \n",
    "\n",
    "from scipy.sparse import csr_matrix, save_npz, load_npz\n",
    "import pickle\n",
    "\n",
    "from sklearn.metrics.pairwise import cosine_similarity\n",
    "from implicit.als import AlternatingLeastSquares\n",
    "from catboost import CatBoostClassifier, Pool"
   ]
  },
  {
   "cell_type": "code",
   "execution_count": 2,
   "id": "196937f0",
   "metadata": {},
   "outputs": [],
   "source": [
    "candidates_to_rank = pd.read_parquet('data/candidates_to_rank.parquet')\n",
    "candidates_for_train = pd.read_parquet('data/candidates_for_train.parquet')"
   ]
  },
  {
   "cell_type": "code",
   "execution_count": 42,
   "id": "8f7f51ed",
   "metadata": {},
   "outputs": [
    {
     "data": {
      "text/html": [
       "<div>\n",
       "<style scoped>\n",
       "    .dataframe tbody tr th:only-of-type {\n",
       "        vertical-align: middle;\n",
       "    }\n",
       "\n",
       "    .dataframe tbody tr th {\n",
       "        vertical-align: top;\n",
       "    }\n",
       "\n",
       "    .dataframe thead th {\n",
       "        text-align: right;\n",
       "    }\n",
       "</style>\n",
       "<table border=\"1\" class=\"dataframe\">\n",
       "  <thead>\n",
       "    <tr style=\"text-align: right;\">\n",
       "      <th></th>\n",
       "      <th>user_id</th>\n",
       "      <th>item_id</th>\n",
       "      <th>score</th>\n",
       "      <th>rank</th>\n",
       "      <th>listening_days</th>\n",
       "      <th>listened_tracks</th>\n",
       "      <th>tracks_per_day</th>\n",
       "    </tr>\n",
       "  </thead>\n",
       "  <tbody>\n",
       "    <tr>\n",
       "      <th>0</th>\n",
       "      <td>2287702</td>\n",
       "      <td>76030982</td>\n",
       "      <td>0.076554</td>\n",
       "      <td>1</td>\n",
       "      <td>38</td>\n",
       "      <td>18</td>\n",
       "      <td>0.473684</td>\n",
       "    </tr>\n",
       "    <tr>\n",
       "      <th>1</th>\n",
       "      <td>2287702</td>\n",
       "      <td>72819004</td>\n",
       "      <td>0.075325</td>\n",
       "      <td>2</td>\n",
       "      <td>38</td>\n",
       "      <td>18</td>\n",
       "      <td>0.473684</td>\n",
       "    </tr>\n",
       "    <tr>\n",
       "      <th>2</th>\n",
       "      <td>2287702</td>\n",
       "      <td>71514785</td>\n",
       "      <td>0.074435</td>\n",
       "      <td>3</td>\n",
       "      <td>38</td>\n",
       "      <td>18</td>\n",
       "      <td>0.473684</td>\n",
       "    </tr>\n",
       "    <tr>\n",
       "      <th>3</th>\n",
       "      <td>2287702</td>\n",
       "      <td>67854450</td>\n",
       "      <td>0.072005</td>\n",
       "      <td>4</td>\n",
       "      <td>38</td>\n",
       "      <td>18</td>\n",
       "      <td>0.473684</td>\n",
       "    </tr>\n",
       "    <tr>\n",
       "      <th>4</th>\n",
       "      <td>2287702</td>\n",
       "      <td>64866164</td>\n",
       "      <td>0.071706</td>\n",
       "      <td>5</td>\n",
       "      <td>38</td>\n",
       "      <td>18</td>\n",
       "      <td>0.473684</td>\n",
       "    </tr>\n",
       "  </tbody>\n",
       "</table>\n",
       "</div>"
      ],
      "text/plain": [
       "   user_id   item_id     score  rank  listening_days  listened_tracks  \\\n",
       "0  2287702  76030982  0.076554     1              38               18   \n",
       "1  2287702  72819004  0.075325     2              38               18   \n",
       "2  2287702  71514785  0.074435     3              38               18   \n",
       "3  2287702  67854450  0.072005     4              38               18   \n",
       "4  2287702  64866164  0.071706     5              38               18   \n",
       "\n",
       "   tracks_per_day  \n",
       "0        0.473684  \n",
       "1        0.473684  \n",
       "2        0.473684  \n",
       "3        0.473684  \n",
       "4        0.473684  "
      ]
     },
     "execution_count": 42,
     "metadata": {},
     "output_type": "execute_result"
    }
   ],
   "source": [
    "candidates_to_rank.head()"
   ]
  },
  {
   "cell_type": "code",
   "execution_count": 43,
   "id": "13e18642",
   "metadata": {},
   "outputs": [],
   "source": [
    "with open('data/all_items_genres_csr.pkl', 'rb') as f:\n",
    "    all_items_genres_csr = pickle.load(f)"
   ]
  },
  {
   "cell_type": "code",
   "execution_count": 44,
   "id": "886f2361",
   "metadata": {},
   "outputs": [],
   "source": [
    "genres = pd.read_parquet(\"data/genres.parquet\")"
   ]
  },
  {
   "cell_type": "code",
   "execution_count": 34,
   "id": "2ff6a472",
   "metadata": {},
   "outputs": [],
   "source": [
    "items = pd.read_parquet(\"data/items_sample.parquet\")\n",
    "events_train = pd.read_parquet(\"data/events_train.parquet\")\n",
    "events_labels = pd.read_parquet(\"data/events_labels.parquet\")\n",
    "\n",
    "events_labels = pd.read_parquet('data/events_labels.parquet')\n",
    "events_test_2 = pd.read_parquet('data/events_test_2.parquet')\n",
    "\n",
    "events_inference = pd.concat([events_train, events_labels])"
   ]
  },
  {
   "cell_type": "code",
   "execution_count": 45,
   "id": "ac671384",
   "metadata": {},
   "outputs": [],
   "source": [
    "# определяем индексы топ-10 жанров и всех остальных\n",
    "genres_top_k = 5\n",
    "genres_top_idx = genres.sort_values(\"votes\", ascending=False).head(genres_top_k).index\n",
    "genres_others_idx = list(set(genres.index) - set(genres_top_idx))\n",
    "\n",
    "genres_top_columns = [f\"genre_{id}\" for id in genres_top_idx]\n",
    "genres_others_column = \"genre_others\"\n",
    "genre_columns = genres_top_columns + [genres_others_column]"
   ]
  },
  {
   "cell_type": "code",
   "execution_count": 46,
   "id": "19e13035",
   "metadata": {},
   "outputs": [],
   "source": [
    "# составляем таблицу принадлежности книг к жанрам\n",
    "item_genres = (\n",
    "    pd.concat([\n",
    "        # топ жанров\n",
    "        pd.DataFrame(all_items_genres_csr[:, genres_top_idx].todense(), columns=genres_top_columns),\n",
    "        # все остальные жанры\n",
    "        pd.DataFrame(all_items_genres_csr[:, genres_others_idx].sum(axis=1), columns=[genres_others_column])\n",
    "        ],\n",
    "        axis=1)\n",
    "    .reset_index()\n",
    "    .rename(columns={\"index\": \"item_id_enc\"})\n",
    ")\n",
    "\n",
    "# объединяем информацию принадлежности книг к жанрам с основной информацией о книгах\n",
    "items = items.merge(item_genres, on=\"item_id_enc\", how=\"left\")\n",
    "\n",
    "def get_user_genres(events, items, item_genre_columns):\n",
    "    user_genres = (\n",
    "        events\n",
    "        .merge(items[[\"item_id\"] + item_genre_columns], on=\"item_id\", how=\"left\")\n",
    "        .groupby(\"user_id\")[item_genre_columns].mean()\n",
    "    )\n",
    "    return user_genres\n",
    "\n",
    "user_genres_for_train = get_user_genres(events_train, items, genre_columns)\n",
    "candidates_for_train = candidates_for_train.merge(user_genres_for_train, on=\"user_id\", how=\"left\")\n",
    "\n",
    "user_genres_for_ranking = get_user_genres(events_inference, items, genre_columns)\n",
    "candidates_to_rank = candidates_to_rank.merge(user_genres_for_ranking, on=\"user_id\", how=\"left\")"
   ]
  },
  {
   "cell_type": "code",
   "execution_count": 51,
   "id": "252d0b1f",
   "metadata": {},
   "outputs": [],
   "source": [
    "assert False\n",
    "candidates_to_rank.to_parquet('data/candidates_to_rank.parquet', index=False)\n",
    "candidates_for_train.to_parquet('data/candidates_for_train.parquet', index=False)"
   ]
  },
  {
   "cell_type": "code",
   "execution_count": 48,
   "id": "26a4c4c9",
   "metadata": {},
   "outputs": [
    {
     "data": {
      "text/html": [
       "<div>\n",
       "<style scoped>\n",
       "    .dataframe tbody tr th:only-of-type {\n",
       "        vertical-align: middle;\n",
       "    }\n",
       "\n",
       "    .dataframe tbody tr th {\n",
       "        vertical-align: top;\n",
       "    }\n",
       "\n",
       "    .dataframe thead th {\n",
       "        text-align: right;\n",
       "    }\n",
       "</style>\n",
       "<table border=\"1\" class=\"dataframe\">\n",
       "  <thead>\n",
       "    <tr style=\"text-align: right;\">\n",
       "      <th></th>\n",
       "      <th>user_id</th>\n",
       "      <th>item_id</th>\n",
       "      <th>score</th>\n",
       "      <th>rank</th>\n",
       "      <th>listening_days</th>\n",
       "      <th>listened_tracks</th>\n",
       "      <th>tracks_per_day</th>\n",
       "      <th>genre_0</th>\n",
       "      <th>genre_18</th>\n",
       "      <th>genre_11</th>\n",
       "      <th>genre_3</th>\n",
       "      <th>genre_7</th>\n",
       "      <th>genre_others</th>\n",
       "    </tr>\n",
       "  </thead>\n",
       "  <tbody>\n",
       "    <tr>\n",
       "      <th>0</th>\n",
       "      <td>2287702</td>\n",
       "      <td>76030982</td>\n",
       "      <td>0.076554</td>\n",
       "      <td>1</td>\n",
       "      <td>38</td>\n",
       "      <td>18</td>\n",
       "      <td>0.473684</td>\n",
       "      <td>0.216999</td>\n",
       "      <td>0.0</td>\n",
       "      <td>0.0</td>\n",
       "      <td>0.041718</td>\n",
       "      <td>0.0</td>\n",
       "      <td>0.741283</td>\n",
       "    </tr>\n",
       "  </tbody>\n",
       "</table>\n",
       "</div>"
      ],
      "text/plain": [
       "   user_id   item_id     score  rank  listening_days  listened_tracks  \\\n",
       "0  2287702  76030982  0.076554     1              38               18   \n",
       "\n",
       "   tracks_per_day   genre_0  genre_18  genre_11   genre_3  genre_7  \\\n",
       "0        0.473684  0.216999       0.0       0.0  0.041718      0.0   \n",
       "\n",
       "   genre_others  \n",
       "0      0.741283  "
      ]
     },
     "execution_count": 48,
     "metadata": {},
     "output_type": "execute_result"
    }
   ],
   "source": [
    "candidates_to_rank.head(1)"
   ]
  },
  {
   "cell_type": "code",
   "execution_count": 52,
   "id": "0af7b1a2",
   "metadata": {},
   "outputs": [
    {
     "data": {
      "text/html": [
       "<div>\n",
       "<style scoped>\n",
       "    .dataframe tbody tr th:only-of-type {\n",
       "        vertical-align: middle;\n",
       "    }\n",
       "\n",
       "    .dataframe tbody tr th {\n",
       "        vertical-align: top;\n",
       "    }\n",
       "\n",
       "    .dataframe thead th {\n",
       "        text-align: right;\n",
       "    }\n",
       "</style>\n",
       "<table border=\"1\" class=\"dataframe\">\n",
       "  <thead>\n",
       "    <tr style=\"text-align: right;\">\n",
       "      <th></th>\n",
       "      <th>user_id</th>\n",
       "      <th>item_id</th>\n",
       "      <th>score</th>\n",
       "      <th>target</th>\n",
       "      <th>listening_days</th>\n",
       "      <th>listened_tracks</th>\n",
       "      <th>tracks_per_day</th>\n",
       "      <th>genre_0</th>\n",
       "      <th>genre_18</th>\n",
       "      <th>genre_11</th>\n",
       "      <th>genre_3</th>\n",
       "      <th>genre_7</th>\n",
       "      <th>genre_others</th>\n",
       "    </tr>\n",
       "  </thead>\n",
       "  <tbody>\n",
       "    <tr>\n",
       "      <th>0</th>\n",
       "      <td>1000081</td>\n",
       "      <td>82412504</td>\n",
       "      <td>0.249613</td>\n",
       "      <td>1</td>\n",
       "      <td>277.0</td>\n",
       "      <td>36.0</td>\n",
       "      <td>0.129964</td>\n",
       "      <td>0.399288</td>\n",
       "      <td>0.0</td>\n",
       "      <td>0.0</td>\n",
       "      <td>0.078779</td>\n",
       "      <td>0.018494</td>\n",
       "      <td>0.503439</td>\n",
       "    </tr>\n",
       "  </tbody>\n",
       "</table>\n",
       "</div>"
      ],
      "text/plain": [
       "   user_id   item_id     score  target  listening_days  listened_tracks  \\\n",
       "0  1000081  82412504  0.249613       1           277.0             36.0   \n",
       "\n",
       "   tracks_per_day   genre_0  genre_18  genre_11   genre_3   genre_7  \\\n",
       "0        0.129964  0.399288       0.0       0.0  0.078779  0.018494   \n",
       "\n",
       "   genre_others  \n",
       "0      0.503439  "
      ]
     },
     "execution_count": 52,
     "metadata": {},
     "output_type": "execute_result"
    }
   ],
   "source": [
    "candidates_for_train.head(1)"
   ]
  },
  {
   "cell_type": "markdown",
   "id": "47bcf88d-b236-46f0-a6f3-38ddd64895fe",
   "metadata": {},
   "source": [
    "# Ранжирование рекомендаций"
   ]
  },
  {
   "cell_type": "markdown",
   "id": "e8cd8223-3418-4493-8c87-1f76286ebda0",
   "metadata": {},
   "source": [
    "Построим ранжирующую модель, чтобы сделать рекомендации более точными. Отранжируем рекомендации."
   ]
  },
  {
   "cell_type": "code",
   "execution_count": 55,
   "id": "3f2de99a",
   "metadata": {},
   "outputs": [],
   "source": [
    "import logging\n",
    "\n",
    "import matplotlib.pyplot as plt\n",
    "import numpy as np\n",
    "import pandas as pd\n",
    "\n",
    "import datetime\n",
    "import uuid\n",
    "\n",
    "import scipy\n",
    "import sklearn.preprocessing\n",
    "import sklearn \n",
    "\n",
    "from scipy.sparse import csr_matrix, save_npz, load_npz\n",
    "import pickle\n",
    "\n",
    "from sklearn.metrics.pairwise import cosine_similarity\n",
    "from implicit.als import AlternatingLeastSquares\n",
    "from catboost import CatBoostClassifier, Pool"
   ]
  },
  {
   "cell_type": "code",
   "execution_count": 49,
   "id": "7e2b09b4",
   "metadata": {},
   "outputs": [],
   "source": [
    "candidates_to_rank = pd.read_parquet('data/candidates_to_rank.parquet')\n",
    "candidates_for_train = pd.read_parquet('data/candidates_for_train.parquet')"
   ]
  },
  {
   "cell_type": "code",
   "execution_count": 53,
   "id": "6bc1fc62",
   "metadata": {},
   "outputs": [],
   "source": [
    "\n",
    "features = ['listening_days', 'listened_tracks', 'tracks_per_day', 'score',\n",
    "            'genre_0', 'genre_18', 'genre_11', 'genre_3', 'genre_7', 'genre_others']\n",
    "target = 'target'"
   ]
  },
  {
   "cell_type": "code",
   "execution_count": 56,
   "id": "79f1dd92-32a9-463d-827e-8bb9ee5bbb54",
   "metadata": {},
   "outputs": [
    {
     "name": "stdout",
     "output_type": "stream",
     "text": [
      "0:\tlearn: 0.6589412\ttotal: 75.2ms\tremaining: 1m 15s\n",
      "100:\tlearn: 0.5215418\ttotal: 1.55s\tremaining: 13.8s\n",
      "200:\tlearn: 0.5200374\ttotal: 3.04s\tremaining: 12.1s\n",
      "300:\tlearn: 0.5186397\ttotal: 4.57s\tremaining: 10.6s\n",
      "400:\tlearn: 0.5173418\ttotal: 6.05s\tremaining: 9.04s\n",
      "500:\tlearn: 0.5160405\ttotal: 7.59s\tremaining: 7.56s\n",
      "600:\tlearn: 0.5149803\ttotal: 9.1s\tremaining: 6.04s\n",
      "700:\tlearn: 0.5139620\ttotal: 10.6s\tremaining: 4.5s\n",
      "800:\tlearn: 0.5130175\ttotal: 12s\tremaining: 2.99s\n",
      "900:\tlearn: 0.5119947\ttotal: 13.6s\tremaining: 1.49s\n",
      "999:\tlearn: 0.5110535\ttotal: 15.1s\tremaining: 0us\n"
     ]
    },
    {
     "data": {
      "text/plain": [
       "<catboost.core.CatBoostClassifier at 0x7fe1b2e462c0>"
      ]
     },
     "execution_count": 56,
     "metadata": {},
     "output_type": "execute_result"
    }
   ],
   "source": [
    "# создаём Pool\n",
    "train_data = Pool(\n",
    "    data=candidates_for_train[features], \n",
    "    label=candidates_for_train[target])\n",
    "\n",
    "# инициализируем модель CatBoostClassifier\n",
    "cb_model = CatBoostClassifier(\n",
    "    iterations=1000,\n",
    "    learning_rate=0.1,\n",
    "    depth=6,\n",
    "    loss_function='Logloss',\n",
    "    verbose=100,\n",
    "    random_seed=0,\n",
    ")\n",
    "\n",
    "# тренируем модель\n",
    "cb_model.fit(train_data)"
   ]
  },
  {
   "cell_type": "code",
   "execution_count": 57,
   "id": "6dbe4db4-1ac5-44da-a13c-8e7f9768ab73",
   "metadata": {},
   "outputs": [],
   "source": [
    "assert False\n",
    "cb_model.save_model('models/cb_model_ranker.cbm')"
   ]
  },
  {
   "cell_type": "code",
   "execution_count": 41,
   "id": "d6787929",
   "metadata": {},
   "outputs": [
    {
     "data": {
      "text/plain": [
       "<catboost.core.CatBoostClassifier at 0x7fe88eb93250>"
      ]
     },
     "execution_count": 41,
     "metadata": {},
     "output_type": "execute_result"
    }
   ],
   "source": [
    "from catboost import CatBoostClassifier, Pool\n",
    "\n",
    "cb_model = CatBoostClassifier()\n",
    "cb_model.load_model('models/cb_model_ranker.cbm')"
   ]
  },
  {
   "cell_type": "code",
   "execution_count": 58,
   "id": "762123a4",
   "metadata": {},
   "outputs": [
    {
     "data": {
      "text/html": [
       "<div>\n",
       "<style scoped>\n",
       "    .dataframe tbody tr th:only-of-type {\n",
       "        vertical-align: middle;\n",
       "    }\n",
       "\n",
       "    .dataframe tbody tr th {\n",
       "        vertical-align: top;\n",
       "    }\n",
       "\n",
       "    .dataframe thead th {\n",
       "        text-align: right;\n",
       "    }\n",
       "</style>\n",
       "<table border=\"1\" class=\"dataframe\">\n",
       "  <thead>\n",
       "    <tr style=\"text-align: right;\">\n",
       "      <th></th>\n",
       "      <th>listening_days</th>\n",
       "      <th>listened_tracks</th>\n",
       "      <th>tracks_per_day</th>\n",
       "      <th>score</th>\n",
       "      <th>genre_0</th>\n",
       "      <th>genre_18</th>\n",
       "      <th>genre_11</th>\n",
       "      <th>genre_3</th>\n",
       "      <th>genre_7</th>\n",
       "      <th>genre_others</th>\n",
       "    </tr>\n",
       "  </thead>\n",
       "  <tbody>\n",
       "    <tr>\n",
       "      <th>0</th>\n",
       "      <td>38</td>\n",
       "      <td>18</td>\n",
       "      <td>0.473684</td>\n",
       "      <td>0.076554</td>\n",
       "      <td>0.216999</td>\n",
       "      <td>0.0</td>\n",
       "      <td>0.0</td>\n",
       "      <td>0.041718</td>\n",
       "      <td>0.0</td>\n",
       "      <td>0.741283</td>\n",
       "    </tr>\n",
       "  </tbody>\n",
       "</table>\n",
       "</div>"
      ],
      "text/plain": [
       "   listening_days  listened_tracks  tracks_per_day     score   genre_0  \\\n",
       "0              38               18        0.473684  0.076554  0.216999   \n",
       "\n",
       "   genre_18  genre_11   genre_3  genre_7  genre_others  \n",
       "0       0.0       0.0  0.041718      0.0      0.741283  "
      ]
     },
     "execution_count": 58,
     "metadata": {},
     "output_type": "execute_result"
    }
   ],
   "source": [
    "candidates_to_rank[features].head(1)"
   ]
  },
  {
   "cell_type": "code",
   "execution_count": 59,
   "id": "d6491f6a",
   "metadata": {},
   "outputs": [],
   "source": [
    "inference_data = Pool(data=candidates_to_rank[features])\n",
    "predictions = cb_model.predict_proba(inference_data)\n",
    "\n",
    "candidates_to_rank[\"cb_score\"] = predictions[:, 1]"
   ]
  },
  {
   "cell_type": "code",
   "execution_count": 60,
   "id": "8527b977",
   "metadata": {},
   "outputs": [],
   "source": [
    "# для каждого пользователя проставим rank, начиная с 1 — это максимальный cb_score\n",
    "candidates_to_rank = candidates_to_rank.sort_values([\"user_id\", \"cb_score\"], ascending=[True, False])"
   ]
  },
  {
   "cell_type": "code",
   "execution_count": 61,
   "id": "772d5de8",
   "metadata": {},
   "outputs": [],
   "source": [
    "candidates_to_rank.drop_duplicates(subset=['cb_score'], inplace=True)"
   ]
  },
  {
   "cell_type": "code",
   "execution_count": 62,
   "id": "75b164a7",
   "metadata": {},
   "outputs": [],
   "source": [
    "candidates_to_rank[\"rank\"] = candidates_to_rank.groupby(\"user_id\")[\"cb_score\"].cumcount() + 1"
   ]
  },
  {
   "cell_type": "code",
   "execution_count": 63,
   "id": "b9d047e4",
   "metadata": {},
   "outputs": [
    {
     "data": {
      "text/plain": [
       "(4105683, 14)"
      ]
     },
     "execution_count": 63,
     "metadata": {},
     "output_type": "execute_result"
    }
   ],
   "source": [
    "candidates_to_rank.shape"
   ]
  },
  {
   "cell_type": "code",
   "execution_count": 64,
   "id": "2af43054",
   "metadata": {},
   "outputs": [],
   "source": [
    "max_recommendations_per_user = 10\n",
    "final_recommendations = candidates_to_rank.query(\"rank <= @max_recommendations_per_user\")"
   ]
  },
  {
   "cell_type": "code",
   "execution_count": 65,
   "id": "2ade6688",
   "metadata": {},
   "outputs": [
    {
     "data": {
      "text/plain": [
       "(1967170, 14)"
      ]
     },
     "execution_count": 65,
     "metadata": {},
     "output_type": "execute_result"
    }
   ],
   "source": [
    "final_recommendations.shape"
   ]
  },
  {
   "cell_type": "code",
   "execution_count": 66,
   "id": "2d4f250d",
   "metadata": {},
   "outputs": [],
   "source": [
    "final_recommendations.to_parquet('data/final_recommendations_feat.parquet', index=False)"
   ]
  },
  {
   "cell_type": "code",
   "execution_count": 67,
   "id": "207d0339",
   "metadata": {},
   "outputs": [
    {
     "data": {
      "text/html": [
       "<div>\n",
       "<style scoped>\n",
       "    .dataframe tbody tr th:only-of-type {\n",
       "        vertical-align: middle;\n",
       "    }\n",
       "\n",
       "    .dataframe tbody tr th {\n",
       "        vertical-align: top;\n",
       "    }\n",
       "\n",
       "    .dataframe thead th {\n",
       "        text-align: right;\n",
       "    }\n",
       "</style>\n",
       "<table border=\"1\" class=\"dataframe\">\n",
       "  <thead>\n",
       "    <tr style=\"text-align: right;\">\n",
       "      <th></th>\n",
       "      <th>user_id</th>\n",
       "      <th>item_id</th>\n",
       "      <th>score</th>\n",
       "      <th>rank</th>\n",
       "      <th>listening_days</th>\n",
       "      <th>listened_tracks</th>\n",
       "      <th>tracks_per_day</th>\n",
       "      <th>genre_0</th>\n",
       "      <th>genre_18</th>\n",
       "      <th>genre_11</th>\n",
       "      <th>genre_3</th>\n",
       "      <th>genre_7</th>\n",
       "      <th>genre_others</th>\n",
       "      <th>cb_score</th>\n",
       "    </tr>\n",
       "  </thead>\n",
       "  <tbody>\n",
       "    <tr>\n",
       "      <th>24357224</th>\n",
       "      <td>1000006</td>\n",
       "      <td>50834580</td>\n",
       "      <td>0.031327</td>\n",
       "      <td>1</td>\n",
       "      <td>126</td>\n",
       "      <td>6</td>\n",
       "      <td>0.047619</td>\n",
       "      <td>0.130199</td>\n",
       "      <td>0.0</td>\n",
       "      <td>0.0</td>\n",
       "      <td>0.0</td>\n",
       "      <td>0.0</td>\n",
       "      <td>0.869801</td>\n",
       "      <td>0.263492</td>\n",
       "    </tr>\n",
       "  </tbody>\n",
       "</table>\n",
       "</div>"
      ],
      "text/plain": [
       "          user_id   item_id     score  rank  listening_days  listened_tracks  \\\n",
       "24357224  1000006  50834580  0.031327     1             126                6   \n",
       "\n",
       "          tracks_per_day   genre_0  genre_18  genre_11  genre_3  genre_7  \\\n",
       "24357224        0.047619  0.130199       0.0       0.0      0.0      0.0   \n",
       "\n",
       "          genre_others  cb_score  \n",
       "24357224      0.869801  0.263492  "
      ]
     },
     "execution_count": 67,
     "metadata": {},
     "output_type": "execute_result"
    }
   ],
   "source": [
    "final_recommendations.head(1)"
   ]
  },
  {
   "cell_type": "markdown",
   "id": "b3c84071-45b5-4a15-a683-e0ab034a3128",
   "metadata": {},
   "source": [
    "# Оценка качества"
   ]
  },
  {
   "cell_type": "markdown",
   "id": "1b107fe4-554e-42b1-87d9-c435a52bb77a",
   "metadata": {},
   "source": [
    "Проверим оценку качества трёх типов рекомендаций: \n",
    "\n",
    "- топ популярных,\n",
    "- персональных, полученных при помощи ALS,\n",
    "- итоговых\n",
    "  \n",
    "по четырем метрикам: recall, precision, coverage, novelty."
   ]
  },
  {
   "cell_type": "code",
   "execution_count": 1,
   "id": "ffa3b351",
   "metadata": {},
   "outputs": [
    {
     "name": "stderr",
     "output_type": "stream",
     "text": [
      "/home/mle-user/mle_projects/mle-recsys-start/.venv_recsys/lib/python3.10/site-packages/tqdm/auto.py:21: TqdmWarning: IProgress not found. Please update jupyter and ipywidgets. See https://ipywidgets.readthedocs.io/en/stable/user_install.html\n",
      "  from .autonotebook import tqdm as notebook_tqdm\n"
     ]
    }
   ],
   "source": [
    "import logging\n",
    "\n",
    "import matplotlib.pyplot as plt\n",
    "import numpy as np\n",
    "import pandas as pd\n",
    "\n",
    "import datetime\n",
    "import uuid\n",
    "\n",
    "import scipy\n",
    "import sklearn.preprocessing\n",
    "import sklearn \n",
    "\n",
    "from scipy.sparse import csr_matrix, save_npz, load_npz\n",
    "import pickle\n",
    "\n",
    "from sklearn.metrics.pairwise import cosine_similarity\n",
    "from implicit.als import AlternatingLeastSquares\n",
    "from catboost import CatBoostClassifier, Pool"
   ]
  },
  {
   "cell_type": "code",
   "execution_count": 2,
   "id": "bbd035f3",
   "metadata": {},
   "outputs": [],
   "source": [
    "items = pd.read_parquet(\"data/items_sample.parquet\")\n",
    "events_train = pd.read_parquet(\"data/events_train.parquet\")\n",
    "events_labels = pd.read_parquet(\"data/events_labels.parquet\")\n",
    "events_test_2 = pd.read_parquet('data/events_test_2.parquet')\n",
    "\n",
    "# events_inference = pd.concat([events_train, events_labels])"
   ]
  },
  {
   "cell_type": "code",
   "execution_count": 5,
   "id": "4caaf674",
   "metadata": {},
   "outputs": [],
   "source": [
    "import boto3\n",
    "import os\n",
    " \n",
    "def get_session_student():\n",
    "    session = boto3.session.Session()\n",
    " \n",
    "    return session.client(\n",
    "        service_name='s3',\n",
    "        endpoint_url='https://storage.yandexcloud.net',\n",
    "        aws_access_key_id=os.getenv(\"AWS_ACCESS_KEY_ID\"),\n",
    "        aws_secret_access_key=os.getenv(\"AWS_SECRET_ACCESS_KEY\")\n",
    "    )\n",
    " \n",
    "s3 = get_session_student()\n",
    "bucket_name = os.getenv(\"S3_BUCKET_NAME\")\n",
    " \n",
    "s3.upload_file(\"data/final_recommendations_feat.parquet\", bucket_name, 'recsys/data/final_recommendations_feat.parquet')\n",
    "s3.upload_file(\"data/top_popular.parquet\", bucket_name, 'recsys/data/top_popular.parquet')\n",
    "s3.upload_file(\"data/personal_als.parquet\", bucket_name, 'recsys/data/personal_als.parquet')"
   ]
  },
  {
   "cell_type": "code",
   "execution_count": 2,
   "id": "84162293",
   "metadata": {},
   "outputs": [],
   "source": [
    "final_recommendations = pd.read_parquet('data/final_recommendations_feat.parquet')\n",
    "top_k_pop_items = pd.read_parquet(\"data/top_popular.parquet\")\n",
    "als_recommendations = pd.read_parquet(\"data/personal_als.parquet\")"
   ]
  },
  {
   "cell_type": "code",
   "execution_count": 9,
   "id": "448d20f1",
   "metadata": {},
   "outputs": [
    {
     "data": {
      "text/html": [
       "<div>\n",
       "<style scoped>\n",
       "    .dataframe tbody tr th:only-of-type {\n",
       "        vertical-align: middle;\n",
       "    }\n",
       "\n",
       "    .dataframe tbody tr th {\n",
       "        vertical-align: top;\n",
       "    }\n",
       "\n",
       "    .dataframe thead th {\n",
       "        text-align: right;\n",
       "    }\n",
       "</style>\n",
       "<table border=\"1\" class=\"dataframe\">\n",
       "  <thead>\n",
       "    <tr style=\"text-align: right;\">\n",
       "      <th></th>\n",
       "      <th>item_id</th>\n",
       "      <th>items_unique</th>\n",
       "      <th>albums</th>\n",
       "      <th>artists</th>\n",
       "      <th>genres</th>\n",
       "      <th>track_name</th>\n",
       "      <th>item_id_enc</th>\n",
       "    </tr>\n",
       "  </thead>\n",
       "  <tbody>\n",
       "    <tr>\n",
       "      <th>0</th>\n",
       "      <td>53404</td>\n",
       "      <td>10975</td>\n",
       "      <td>{18077: 'Nevermind', 26411: 'Nirvana'}</td>\n",
       "      <td>{37: 'Nirvana'}</td>\n",
       "      <td>{10: 'alternative', 7: 'rock'}</td>\n",
       "      <td>Smells Like Teen Spirit</td>\n",
       "      <td>9098</td>\n",
       "    </tr>\n",
       "    <tr>\n",
       "      <th>1</th>\n",
       "      <td>33311009</td>\n",
       "      <td>9927</td>\n",
       "      <td>{25561: 'Shape Of Pop', 11011: \"NOW That's Wha...</td>\n",
       "      <td>{1053: 'Imagine Dragons'}</td>\n",
       "      <td>{7: 'rock', 3: 'allrock'}</td>\n",
       "      <td>Believer</td>\n",
       "      <td>483876</td>\n",
       "    </tr>\n",
       "    <tr>\n",
       "      <th>2</th>\n",
       "      <td>178529</td>\n",
       "      <td>9903</td>\n",
       "      <td>{9745: 'Meteora', 9746: 'Meteora'}</td>\n",
       "      <td>{115: 'Linkin Park'}</td>\n",
       "      <td>{41: 'numetal', 4: 'metal'}</td>\n",
       "      <td>Numb</td>\n",
       "      <td>26665</td>\n",
       "    </tr>\n",
       "    <tr>\n",
       "      <th>3</th>\n",
       "      <td>35505245</td>\n",
       "      <td>9445</td>\n",
       "      <td>{204897: 'I Got Love', 204898: 'I Got Love'}</td>\n",
       "      <td>{1827: 'Miyagi &amp; Эндшпиль', 154: 'Рем Дигга'}</td>\n",
       "      <td>{5: 'rusrap', 1: 'rap'}</td>\n",
       "      <td>I Got Love</td>\n",
       "      <td>512157</td>\n",
       "    </tr>\n",
       "    <tr>\n",
       "      <th>4</th>\n",
       "      <td>795836</td>\n",
       "      <td>8249</td>\n",
       "      <td>{35640: \"Ten Summoner's Tales\", 740: '25 Years'}</td>\n",
       "      <td>{109: 'Sting'}</td>\n",
       "      <td>{0: 'pop', 7: 'rock'}</td>\n",
       "      <td>Shape Of My Heart</td>\n",
       "      <td>90461</td>\n",
       "    </tr>\n",
       "  </tbody>\n",
       "</table>\n",
       "</div>"
      ],
      "text/plain": [
       "    item_id  items_unique                                             albums  \\\n",
       "0     53404         10975             {18077: 'Nevermind', 26411: 'Nirvana'}   \n",
       "1  33311009          9927  {25561: 'Shape Of Pop', 11011: \"NOW That's Wha...   \n",
       "2    178529          9903                 {9745: 'Meteora', 9746: 'Meteora'}   \n",
       "3  35505245          9445       {204897: 'I Got Love', 204898: 'I Got Love'}   \n",
       "4    795836          8249   {35640: \"Ten Summoner's Tales\", 740: '25 Years'}   \n",
       "\n",
       "                                         artists  \\\n",
       "0                                {37: 'Nirvana'}   \n",
       "1                      {1053: 'Imagine Dragons'}   \n",
       "2                           {115: 'Linkin Park'}   \n",
       "3  {1827: 'Miyagi & Эндшпиль', 154: 'Рем Дигга'}   \n",
       "4                                 {109: 'Sting'}   \n",
       "\n",
       "                           genres               track_name  item_id_enc  \n",
       "0  {10: 'alternative', 7: 'rock'}  Smells Like Teen Spirit         9098  \n",
       "1       {7: 'rock', 3: 'allrock'}                 Believer       483876  \n",
       "2     {41: 'numetal', 4: 'metal'}                     Numb        26665  \n",
       "3         {5: 'rusrap', 1: 'rap'}               I Got Love       512157  \n",
       "4           {0: 'pop', 7: 'rock'}        Shape Of My Heart        90461  "
      ]
     },
     "execution_count": 9,
     "metadata": {},
     "output_type": "execute_result"
    }
   ],
   "source": [
    "top_k_pop_items.head()"
   ]
  },
  {
   "cell_type": "code",
   "execution_count": 3,
   "id": "00a36235",
   "metadata": {},
   "outputs": [
    {
     "data": {
      "text/plain": [
       "(1967170, 14)"
      ]
     },
     "execution_count": 3,
     "metadata": {},
     "output_type": "execute_result"
    }
   ],
   "source": [
    "final_recommendations.shape"
   ]
  },
  {
   "cell_type": "markdown",
   "id": "7d7f86df",
   "metadata": {},
   "source": [
    "### Coverage\n",
    "Так, покрытие по объектам можно оценить как долю уникальных объектов в рекомендациях (от всех объектов)."
   ]
  },
  {
   "cell_type": "code",
   "execution_count": 76,
   "id": "60a98398",
   "metadata": {},
   "outputs": [
    {
     "name": "stdout",
     "output_type": "stream",
     "text": [
      "ALS recommendations coverage: 0.13\n"
     ]
    }
   ],
   "source": [
    "# расчёт покрытия по объектам\n",
    "cov_items = als_recommendations['item_id'].nunique()/events_test['item_id'].nunique()\n",
    "print(f\"ALS recommendations coverage: {cov_items:.2f}\")"
   ]
  },
  {
   "cell_type": "code",
   "execution_count": 77,
   "id": "bec36fc1",
   "metadata": {},
   "outputs": [
    {
     "name": "stdout",
     "output_type": "stream",
     "text": [
      "Top k recommendations coverage: 0.00\n"
     ]
    }
   ],
   "source": [
    "# расчёт покрытия по объектам\n",
    "cov_items = top_k_pop_items['item_id'].nunique()/events_test['item_id'].nunique()\n",
    "print(f\"Top k recommendations coverage: {cov_items:.2f}\")"
   ]
  },
  {
   "cell_type": "code",
   "execution_count": 78,
   "id": "f4b867d3",
   "metadata": {},
   "outputs": [
    {
     "name": "stdout",
     "output_type": "stream",
     "text": [
      "Final recommendations coverage: 0.10\n"
     ]
    }
   ],
   "source": [
    "# расчёт покрытия по объектам\n",
    "cov_items = final_recommendations['item_id'].nunique()/events_test_2['item_id'].nunique()\n",
    "print(f\"Final recommendations coverage: {cov_items:.2f}\")"
   ]
  },
  {
   "cell_type": "markdown",
   "id": "fd5efff4",
   "metadata": {},
   "source": [
    "### Новизна (англ. novelty)\n",
    "Эта метрика оценивает новизну объектов в рекомендациях или вероятность того, что алгоритм предложит пользователю объекты, которые он ранее не видел. Такие рекомендации (при условии их релевантности) весьма ценны — это воплощение одной из основных идей рекомендательной системы: помочь пользователю справиться с информационной перегрузкой, выступить в качестве полезного фильтра. Иными словами, рекомендации объектов, ещё не виденных пользователем, решают проблему самостоятельного поиска и экономят время —  в этом их потенциальная польза. "
   ]
  },
  {
   "cell_type": "code",
   "execution_count": 8,
   "id": "ffe2167c",
   "metadata": {},
   "outputs": [
    {
     "data": {
      "text/plain": [
       "(113673300, 10)"
      ]
     },
     "execution_count": 8,
     "metadata": {},
     "output_type": "execute_result"
    }
   ],
   "source": [
    "als_recommendations.shape"
   ]
  },
  {
   "cell_type": "code",
   "execution_count": 13,
   "id": "85e2b025",
   "metadata": {},
   "outputs": [
    {
     "name": "stdout",
     "output_type": "stream",
     "text": [
      "ALS recommendations novelty: 0.8811\n"
     ]
    }
   ],
   "source": [
    "als_recommendations = pd.read_parquet(\"data/personal_als.parquet\")\n",
    "\n",
    "# разметим каждую рекомендацию признаком listend\n",
    "events_train[\"listened\"] = True\n",
    "als_recommendations = als_recommendations.merge(events_train, on=[\"user_id\", \"item_id\"], how=\"left\")\n",
    "als_recommendations[\"listened\"] = als_recommendations[\"listened\"].fillna(False).astype(\"bool\")\n",
    "\n",
    "# проставим ранги\n",
    "als_recommendations = als_recommendations.sort_values('score', ascending=False)\n",
    "als_recommendations[\"rank\"] = als_recommendations.groupby(\"user_id\").cumcount() + 1\n",
    "\n",
    "# посчитаем novelty по пользователям\n",
    "novelty_5 = (1 - als_recommendations.query(\"rank <= 5\").groupby(\"user_id\")[\"listened\"].mean())\n",
    "\n",
    "# посчитаем средний novelty\n",
    "mean_novelty = novelty_5.mean()\n",
    "print(f\"ALS recommendations novelty: {mean_novelty:.4f}\")"
   ]
  },
  {
   "cell_type": "code",
   "execution_count": 7,
   "id": "75f2aa54",
   "metadata": {},
   "outputs": [
    {
     "data": {
      "text/plain": [
       "(1967170, 14)"
      ]
     },
     "execution_count": 7,
     "metadata": {},
     "output_type": "execute_result"
    }
   ],
   "source": [
    "final_recommendations.shape"
   ]
  },
  {
   "cell_type": "code",
   "execution_count": 12,
   "id": "26cced39",
   "metadata": {},
   "outputs": [
    {
     "name": "stdout",
     "output_type": "stream",
     "text": [
      "Final recommendations novelty: 0.9331\n"
     ]
    }
   ],
   "source": [
    "final_recommendations = pd.read_parquet('data/final_recommendations_feat.parquet')\n",
    "\n",
    "# разметим каждую рекомендацию признаком listend\n",
    "events_train[\"listened\"] = True\n",
    "final_recommendations = final_recommendations.merge(events_train, on=[\"user_id\", \"item_id\"], how=\"left\")\n",
    "final_recommendations[\"listened\"] = final_recommendations[\"listened\"].fillna(False).astype(\"bool\")\n",
    "\n",
    "# проставим ранги\n",
    "final_recommendations = final_recommendations.sort_values('score', ascending=False)\n",
    "final_recommendations[\"rank\"] = final_recommendations.groupby(\"user_id\").cumcount() + 1\n",
    "\n",
    "# посчитаем novelty по пользователям\n",
    "novelty_5 = (1 - final_recommendations.query(\"rank <= 5\").groupby(\"user_id\")[\"listened\"].mean())\n",
    "\n",
    "# посчитаем средний novelty\n",
    "mean_novelty = novelty_5.mean()\n",
    "print(f\"Final recommendations novelty: {mean_novelty:.4f}\")"
   ]
  },
  {
   "cell_type": "markdown",
   "id": "488cf88a",
   "metadata": {},
   "source": [
    "### Precision recall"
   ]
  },
  {
   "cell_type": "code",
   "execution_count": 15,
   "id": "94d6f388-aecb-443e-8647-14014e932d4d",
   "metadata": {},
   "outputs": [],
   "source": [
    "def process_events_recs_for_binary_metrics(events_train, events_test, recs, top_k=None):\n",
    "\n",
    "    \"\"\"\n",
    "    размечает пары <user_id, item_id> для общего множества пользователей признаками\n",
    "    - gt (ground truth)\n",
    "    - pr (prediction)\n",
    "    top_k: расчёт ведётся только для top k-рекомендаций\n",
    "    \"\"\"\n",
    "\n",
    "    events_test[\"gt\"] = True\n",
    "    common_users = set(events_test[\"user_id\"]) & set(recs[\"user_id\"])\n",
    "\n",
    "    print(f\"Common users: {len(common_users)}\")\n",
    "    \n",
    "    events_for_common_users = events_test[events_test[\"user_id\"].isin(common_users)].copy()\n",
    "    recs_for_common_users = recs[recs[\"user_id\"].isin(common_users)].copy()\n",
    "\n",
    "    recs_for_common_users = recs_for_common_users.sort_values([\"user_id\", \"score\"], ascending=[True, False])\n",
    "\n",
    "    # оставляет только те item_id, которые были в events_train, \n",
    "    # т. к. модель не имела никакой возможности давать рекомендации для новых айтемов\n",
    "    events_for_common_users = events_for_common_users[events_for_common_users[\"item_id\"].isin(events_train[\"item_id\"].unique())]\n",
    "\n",
    "    if top_k is not None:\n",
    "        recs_for_common_users = recs_for_common_users.groupby(\"user_id\").head(top_k)\n",
    "    \n",
    "    events_recs_common = events_for_common_users[[\"user_id\", \"item_id\", \"gt\"]].merge(\n",
    "        recs_for_common_users[[\"user_id\", \"item_id\", \"score\"]], \n",
    "        on=[\"user_id\", \"item_id\"], how=\"outer\")    \n",
    "\n",
    "    events_recs_common[\"gt\"] = events_recs_common[\"gt\"].fillna(False)\n",
    "    events_recs_common[\"pr\"] = ~events_recs_common[\"score\"].isnull()\n",
    "    \n",
    "    events_recs_common[\"tp\"] = events_recs_common[\"gt\"] & events_recs_common[\"pr\"]\n",
    "    events_recs_common[\"fp\"] = ~events_recs_common[\"gt\"] & events_recs_common[\"pr\"]\n",
    "    events_recs_common[\"fn\"] = events_recs_common[\"gt\"] & ~events_recs_common[\"pr\"]\n",
    "\n",
    "    return events_recs_common\n",
    "\n",
    "def compute_cls_metrics(events_recs_for_binary_metric):\n",
    "    \n",
    "    groupper = events_recs_for_binary_metric.groupby(\"user_id\")\n",
    "\n",
    "    # precision = tp / (tp + fp)\n",
    "    precision = groupper[\"tp\"].sum()/(groupper[\"tp\"].sum()+groupper[\"fp\"].sum())\n",
    "    precision = precision.fillna(0).mean()\n",
    "    \n",
    "    # recall = tp / (tp + fn)\n",
    "    recall = groupper[\"tp\"].sum()/(groupper[\"tp\"].sum()+groupper[\"fn\"].sum())\n",
    "    recall = recall.fillna(0).mean()\n",
    "\n",
    "    return precision, recall"
   ]
  },
  {
   "cell_type": "code",
   "execution_count": 17,
   "id": "746b0817",
   "metadata": {},
   "outputs": [
    {
     "name": "stdout",
     "output_type": "stream",
     "text": [
      "Common users: 272460\n",
      "ALS precision: 0.00072, ALS recall: 0.00264\n"
     ]
    }
   ],
   "source": [
    "# для экономии ресурсов оставим события только тех пользователей, \n",
    "# для которых следует оценить рекомендации\n",
    "events_inference = pd.concat([events_train, events_labels])\n",
    "events_inference = events_inference[events_inference[\"user_id\"].isin(events_test_2[\"user_id\"].drop_duplicates())]\n",
    "\n",
    "cb_events_recs_for_binary_metrics_5 = process_events_recs_for_binary_metrics(\n",
    "    events_inference,\n",
    "    events_test_2,\n",
    "    als_recommendations[['user_id', 'item_id', 'score']].rename(columns={\"cb_score\": \"score\"}), \n",
    "    top_k=5)\n",
    "\n",
    "cb_precision_5, cb_recall_5 = compute_cls_metrics(cb_events_recs_for_binary_metrics_5)\n",
    "\n",
    "print(f\"ALS precision: {cb_precision_5:.5f}, ALS recall: {cb_recall_5:.5f}\")"
   ]
  },
  {
   "cell_type": "code",
   "execution_count": 18,
   "id": "26df411f-14c1-4848-8797-f37afe449cc6",
   "metadata": {},
   "outputs": [
    {
     "name": "stdout",
     "output_type": "stream",
     "text": [
      "Common users: 219429\n",
      "Final precision: 0.00071, Final recall: 0.00215\n"
     ]
    }
   ],
   "source": [
    "# для экономии ресурсов оставим события только тех пользователей, \n",
    "# для которых следует оценить рекомендации\n",
    "events_inference = pd.concat([events_train, events_labels])\n",
    "events_inference = events_inference[events_inference[\"user_id\"].isin(events_test_2[\"user_id\"].drop_duplicates())]\n",
    "\n",
    "cb_events_recs_for_binary_metrics_5 = process_events_recs_for_binary_metrics(\n",
    "    events_inference,\n",
    "    events_test_2,\n",
    "    final_recommendations[['user_id', 'item_id', 'cb_score']].rename(columns={\"cb_score\": \"score\"}), \n",
    "    top_k=5)\n",
    "\n",
    "cb_precision_5, cb_recall_5 = compute_cls_metrics(cb_events_recs_for_binary_metrics_5)\n",
    "\n",
    "print(f\"Final precision: {cb_precision_5:.5f}, Final recall: {cb_recall_5:.5f}\")"
   ]
  },
  {
   "cell_type": "code",
   "execution_count": 70,
   "id": "fe5e7b8d",
   "metadata": {},
   "outputs": [
    {
     "name": "stdout",
     "output_type": "stream",
     "text": [
      "                        fi\n",
      "score            44.994587\n",
      "listened_tracks  12.620280\n",
      "tracks_per_day    7.370053\n",
      "listening_days    7.189998\n",
      "genre_others      6.639456\n",
      "genre_0           5.470636\n",
      "genre_3           5.183850\n",
      "genre_7           5.085383\n",
      "genre_11          3.453338\n",
      "genre_18          1.992421\n"
     ]
    }
   ],
   "source": [
    "feature_importance = pd.DataFrame(cb_model.get_feature_importance(), \n",
    "    index=features, \n",
    "    columns=[\"fi\"])\n",
    "feature_importance = feature_importance.sort_values(by=['fi'], ascending=False)\n",
    "\n",
    "print(feature_importance )"
   ]
  },
  {
   "cell_type": "code",
   "execution_count": null,
   "id": "d5decda4",
   "metadata": {},
   "outputs": [],
   "source": []
  },
  {
   "cell_type": "markdown",
   "id": "f1c8d38c-32b0-46a4-96f0-cd01dac708bc",
   "metadata": {},
   "source": [
    "# === Выводы, метрики ==="
   ]
  },
  {
   "cell_type": "markdown",
   "id": "f7d7d5d8-7d1e-4fdf-a6cd-83e5ce92c684",
   "metadata": {},
   "source": [
    "Основные выводы при работе над расчётом рекомендаций, рассчитанные метрики."
   ]
  },
  {
   "cell_type": "markdown",
   "id": "fff9fee2",
   "metadata": {},
   "source": [
    "ALS recommendations coverage: 0.13   \n",
    "Top k recommendations coverage: 0.00   \n",
    "Final recommendations coverage: 0.10   "
   ]
  },
  {
   "cell_type": "markdown",
   "id": "2c343bf5",
   "metadata": {},
   "source": [
    "ALS recommendations novelty: 0.8811   \n",
    "Final recommendations novelty: 0.9331   \n",
    "\n",
    "Для топ k не очень понятно, имеет ли смысл расматривать эту метрику, так как по идее новизна популярны треков должна стремиться к нулю) \n"
   ]
  },
  {
   "cell_type": "markdown",
   "id": "dc125316",
   "metadata": {},
   "source": [
    "ALS precision: 0.00072, ALS recall: 0.00264   \n",
    "Final precision: 0.00071, Final recall: 0.00215  \n",
    "  \n",
    "Признаки для ранжирующей модели лучше делать с использованием контента и берт эмбеддингов.   \n",
    "Было бы здорово, если бы в курсе рассматривались примеры.   "
   ]
  },
  {
   "cell_type": "code",
   "execution_count": null,
   "id": "dbc9aa86",
   "metadata": {},
   "outputs": [],
   "source": []
  }
 ],
 "metadata": {
  "kernelspec": {
   "display_name": ".venv_recsys",
   "language": "python",
   "name": "python3"
  },
  "language_info": {
   "codemirror_mode": {
    "name": "ipython",
    "version": 3
   },
   "file_extension": ".py",
   "mimetype": "text/x-python",
   "name": "python",
   "nbconvert_exporter": "python",
   "pygments_lexer": "ipython3",
   "version": "3.10.12"
  }
 },
 "nbformat": 4,
 "nbformat_minor": 5
}
